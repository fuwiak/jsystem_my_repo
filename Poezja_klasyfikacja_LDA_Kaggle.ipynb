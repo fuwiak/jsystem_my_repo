{
  "nbformat": 4,
  "nbformat_minor": 0,
  "metadata": {
    "colab": {
      "name": "Poezja_klasyfikacja_LDA_Kaggle.ipynb",
      "provenance": [],
      "collapsed_sections": []
    },
    "kernelspec": {
      "name": "python3",
      "display_name": "Python 3"
    },
    "language_info": {
      "name": "python"
    }
  },
  "cells": [
    {
      "cell_type": "code",
      "metadata": {
        "id": "MAl0JoCd96e8"
      },
      "source": [
        "import pandas as pd\n",
        "import seaborn as sns\n",
        "import matplotlib.pylab as plt\n",
        "import numpy as np\n",
        "import re\n",
        "import string\n",
        "from nltk.stem import PorterStemmer\n",
        "# from gensim.models import word2vec\n",
        "import nltk\n",
        "from nltk.tokenize import word_tokenize, sent_tokenize\n",
        "# from tsne import bh_sne\n",
        "import gensim\n",
        "from sklearn.feature_extraction.text import CountVectorizer\n",
        "from sklearn.model_selection import train_test_split\n",
        "\n",
        "from sklearn.metrics import f1_score\n",
        "from sklearn.metrics import accuracy_score\n",
        "from sklearn.naive_bayes import GaussianNB\n",
        "from sklearn.multiclass import OneVsRestClassifier\n",
        "from sklearn.linear_model import SGDClassifier\n",
        "from sklearn import metrics\n",
        "from sklearn.metrics import f1_score,precision_score,recall_score\n",
        "from sklearn import svm\n",
        "from subprocess import check_output\n",
        "from wordcloud import WordCloud, STOPWORDS\n",
        "from collections import Counter\n",
        "import numpy as np\n",
        "import matplotlib.pyplot as plt\n",
        "from sklearn.naive_bayes import GaussianNB\n",
        "from sklearn.svm import SVC\n",
        "from sklearn.datasets import load_digits\n",
        "from sklearn.model_selection import learning_curve\n",
        "from sklearn.model_selection import ShuffleSplit"
      ],
      "execution_count": null,
      "outputs": []
    },
    {
      "cell_type": "code",
      "metadata": {
        "id": "EDiB66CCvtgo"
      },
      "source": [
        "!pip install pronouncing"
      ],
      "execution_count": null,
      "outputs": []
    },
    {
      "cell_type": "code",
      "metadata": {
        "id": "m698xanLvsQc"
      },
      "source": [
        "import pronouncing"
      ],
      "execution_count": null,
      "outputs": []
    },
    {
      "cell_type": "code",
      "metadata": {
        "id": "_R6v4sRqI16C"
      },
      "source": [
        "df = pd.read_csv(\"/content/all-1.csv\")"
      ],
      "execution_count": null,
      "outputs": []
    },
    {
      "cell_type": "code",
      "metadata": {
        "colab": {
          "base_uri": "https://localhost:8080/",
          "height": 556
        },
        "id": "cdYNrA9dJAAT",
        "outputId": "a612f0ef-4cb1-4f3b-9faa-c0c39be0d41e"
      },
      "source": [
        "df"
      ],
      "execution_count": null,
      "outputs": [
        {
          "output_type": "execute_result",
          "data": {
            "text/html": [
              "<div>\n",
              "<style scoped>\n",
              "    .dataframe tbody tr th:only-of-type {\n",
              "        vertical-align: middle;\n",
              "    }\n",
              "\n",
              "    .dataframe tbody tr th {\n",
              "        vertical-align: top;\n",
              "    }\n",
              "\n",
              "    .dataframe thead th {\n",
              "        text-align: right;\n",
              "    }\n",
              "</style>\n",
              "<table border=\"1\" class=\"dataframe\">\n",
              "  <thead>\n",
              "    <tr style=\"text-align: right;\">\n",
              "      <th></th>\n",
              "      <th>author</th>\n",
              "      <th>content</th>\n",
              "      <th>poem name</th>\n",
              "      <th>age</th>\n",
              "      <th>type</th>\n",
              "    </tr>\n",
              "  </thead>\n",
              "  <tbody>\n",
              "    <tr>\n",
              "      <th>0</th>\n",
              "      <td>WILLIAM SHAKESPEARE</td>\n",
              "      <td>Let the bird of loudest lay\\r\\nOn the sole Ara...</td>\n",
              "      <td>The Phoenix and the Turtle</td>\n",
              "      <td>Renaissance</td>\n",
              "      <td>Mythology &amp; Folklore</td>\n",
              "    </tr>\n",
              "    <tr>\n",
              "      <th>1</th>\n",
              "      <td>DUCHESS OF NEWCASTLE MARGARET CAVENDISH</td>\n",
              "      <td>Sir Charles into my chamber coming in,\\r\\nWhen...</td>\n",
              "      <td>An Epilogue to the Above</td>\n",
              "      <td>Renaissance</td>\n",
              "      <td>Mythology &amp; Folklore</td>\n",
              "    </tr>\n",
              "    <tr>\n",
              "      <th>2</th>\n",
              "      <td>THOMAS BASTARD</td>\n",
              "      <td>Our vice runs beyond all that old men saw,\\r\\n...</td>\n",
              "      <td>Book 7, Epigram 42</td>\n",
              "      <td>Renaissance</td>\n",
              "      <td>Mythology &amp; Folklore</td>\n",
              "    </tr>\n",
              "    <tr>\n",
              "      <th>3</th>\n",
              "      <td>EDMUND SPENSER</td>\n",
              "      <td>Lo I the man, whose Muse whilome did maske,\\r\\...</td>\n",
              "      <td>from The Faerie Queene: Book I, Canto I</td>\n",
              "      <td>Renaissance</td>\n",
              "      <td>Mythology &amp; Folklore</td>\n",
              "    </tr>\n",
              "    <tr>\n",
              "      <th>4</th>\n",
              "      <td>RICHARD BARNFIELD</td>\n",
              "      <td>Long have I longd to see my love againe,\\r\\nSt...</td>\n",
              "      <td>Sonnet 16</td>\n",
              "      <td>Renaissance</td>\n",
              "      <td>Mythology &amp; Folklore</td>\n",
              "    </tr>\n",
              "    <tr>\n",
              "      <th>...</th>\n",
              "      <td>...</td>\n",
              "      <td>...</td>\n",
              "      <td>...</td>\n",
              "      <td>...</td>\n",
              "      <td>...</td>\n",
              "    </tr>\n",
              "    <tr>\n",
              "      <th>568</th>\n",
              "      <td>SARA TEASDALE</td>\n",
              "      <td>With the man I love who loves me not,\\r\\nI wal...</td>\n",
              "      <td>Union Square</td>\n",
              "      <td>Modern</td>\n",
              "      <td>Love</td>\n",
              "    </tr>\n",
              "    <tr>\n",
              "      <th>569</th>\n",
              "      <td>HART CRANE</td>\n",
              "      <td>Hart Crane, \"Voyages I, II, III, IV, V, VI\" fr...</td>\n",
              "      <td>Voyages</td>\n",
              "      <td>Modern</td>\n",
              "      <td>Love</td>\n",
              "    </tr>\n",
              "    <tr>\n",
              "      <th>570</th>\n",
              "      <td>WILLIAM BUTLER YEATS</td>\n",
              "      <td>When you are old and grey and full of sleep,\\r...</td>\n",
              "      <td>When You Are Old</td>\n",
              "      <td>Modern</td>\n",
              "      <td>Love</td>\n",
              "    </tr>\n",
              "    <tr>\n",
              "      <th>571</th>\n",
              "      <td>CARL SANDBURG</td>\n",
              "      <td>Give me hunger,\\r\\nO you gods that sit and giv...</td>\n",
              "      <td>At a Window</td>\n",
              "      <td>Modern</td>\n",
              "      <td>Love</td>\n",
              "    </tr>\n",
              "    <tr>\n",
              "      <th>572</th>\n",
              "      <td>RICHARD ALDINGTON</td>\n",
              "      <td>Potuia, potuia\\r\\nWhite grave goddess,\\r\\nPity...</td>\n",
              "      <td>To a Greek Marble</td>\n",
              "      <td>Modern</td>\n",
              "      <td>Love</td>\n",
              "    </tr>\n",
              "  </tbody>\n",
              "</table>\n",
              "<p>573 rows × 5 columns</p>\n",
              "</div>"
            ],
            "text/plain": [
              "                                      author  ...                  type\n",
              "0                        WILLIAM SHAKESPEARE  ...  Mythology & Folklore\n",
              "1    DUCHESS OF NEWCASTLE MARGARET CAVENDISH  ...  Mythology & Folklore\n",
              "2                             THOMAS BASTARD  ...  Mythology & Folklore\n",
              "3                             EDMUND SPENSER  ...  Mythology & Folklore\n",
              "4                          RICHARD BARNFIELD  ...  Mythology & Folklore\n",
              "..                                       ...  ...                   ...\n",
              "568                            SARA TEASDALE  ...                  Love\n",
              "569                               HART CRANE  ...                  Love\n",
              "570                     WILLIAM BUTLER YEATS  ...                  Love\n",
              "571                            CARL SANDBURG  ...                  Love\n",
              "572                        RICHARD ALDINGTON  ...                  Love\n",
              "\n",
              "[573 rows x 5 columns]"
            ]
          },
          "metadata": {
            "tags": []
          },
          "execution_count": 9
        }
      ]
    },
    {
      "cell_type": "code",
      "metadata": {
        "id": "yqlj-lCQJFTD"
      },
      "source": [
        "class clean_text:\n",
        "  \n",
        "  def split_text(self, t):\n",
        "      return t.apply(lambda x: str(x).split(\" \"))\n",
        "\n",
        "  def to_lower(self, t):\n",
        "      return t.apply(lambda x:   str(x).lower())\n",
        "\n",
        "  #remove social media menations like @obama\n",
        "  def remove_mentions(self,t):\n",
        "      return t.apply(lambda x:  re.sub(r'@\\w+', '', str(x)))\n",
        "\n",
        "  def remove_numbers(self, t):\n",
        "      return t.apply(lambda x: re.sub(r'\\d+', '', str(x)))\n",
        "\n",
        "  #remove url, like www.google.com\n",
        "  def remove_urls(self, t):\n",
        "      return t.apply(lambda x: re.sub(r'http.?://[^\\s]+[\\s]?', '', str(x)))\n",
        "\n",
        "  def remove_punctuation(self,t):\n",
        "        return t.apply(lambda x: str(x).translate(str.maketrans('','',string.punctuation)))\n",
        "\n",
        "\n",
        "\n",
        "  #remove words like: of, a, an , the and so on\n",
        "\n",
        "  def remove_stopwords_eng(self, t):\n",
        "      stop_words_eng = nltk.corpus.stopwords.words(\"english\")\n",
        "      return t.apply(lambda x: [word for word in str(x).split(\" \") if word not in stop_words_eng])\n",
        "\n",
        "  \"\"\"\n",
        "  Stemming is the process of reducing inflection in words to their root forms such as mapping \n",
        "  a group of words to the same stem even if the stem itself is not a valid word in the Language.\" \n",
        "  Stem (root) is the part of the word \n",
        "  to which you add inflectional (changing/deriving) affixes such as (-ed,-ize, -s,-de,mis).\n",
        "\n",
        "\n",
        "  \"\"\"\n",
        "\n",
        "\n",
        "\n",
        "  def stemming(self,t):\n",
        "      temp= t.apply(lambda x: str(x).split(\" \"))\n",
        "      porter = PorterStemmer()\n",
        "      stemmed = temp.apply(lambda x: porter.stem(\" \".join(x)))\n",
        "      return stemmed\n",
        "\n",
        "  def remove_new_line(self, t):\n",
        "      return t.apply(lambda x:   str(x).replace(\"\\n\", \" \"))\n",
        "\n",
        "\n",
        "  def ready_data(self, t):\n",
        "      t1 = self.remove_mentions(t)\n",
        "      t2 = self.remove_urls(t1)\n",
        "      t3 = self.remove_punctuation(t2)\n",
        "      t4 = self.to_lower(t3)\n",
        "      t5 = self.remove_numbers(t4)\n",
        "      t6 = self.stemming(t5)\n",
        "      t7 = self.remove_stopwords_eng(t6)\n",
        "      \n",
        "      return t7"
      ],
      "execution_count": null,
      "outputs": []
    },
    {
      "cell_type": "code",
      "metadata": {
        "id": "o9lNlQ2uJpNQ"
      },
      "source": [
        "cleaner = clean_text()"
      ],
      "execution_count": null,
      "outputs": []
    },
    {
      "cell_type": "code",
      "metadata": {
        "colab": {
          "base_uri": "https://localhost:8080/"
        },
        "id": "yy5EuEZKJ6hJ",
        "outputId": "04133877-e82d-4b7c-b375-5131fef7a7ff"
      },
      "source": [
        "nltk.download('stopwords')"
      ],
      "execution_count": null,
      "outputs": [
        {
          "output_type": "stream",
          "text": [
            "[nltk_data] Downloading package stopwords to /root/nltk_data...\n",
            "[nltk_data]   Unzipping corpora/stopwords.zip.\n"
          ],
          "name": "stdout"
        },
        {
          "output_type": "execute_result",
          "data": {
            "text/plain": [
              "True"
            ]
          },
          "metadata": {
            "tags": []
          },
          "execution_count": 12
        }
      ]
    },
    {
      "cell_type": "code",
      "metadata": {
        "id": "D6OX0hS6JuYC"
      },
      "source": [
        "clean_text= cleaner.ready_data(df['content'])"
      ],
      "execution_count": null,
      "outputs": []
    },
    {
      "cell_type": "code",
      "metadata": {
        "id": "PNvDlztOJ84J"
      },
      "source": [
        "df['clean_text']=clean_text"
      ],
      "execution_count": null,
      "outputs": []
    },
    {
      "cell_type": "code",
      "metadata": {
        "colab": {
          "base_uri": "https://localhost:8080/"
        },
        "id": "ym6RTkhBK4xY",
        "outputId": "245a6621-ebfb-48d8-c10f-ffad3471579f"
      },
      "source": [
        "clean_text"
      ],
      "execution_count": null,
      "outputs": [
        {
          "output_type": "execute_result",
          "data": {
            "text/plain": [
              "0      [let, bird, loudest, lay\\r\\non, sole, arabian,...\n",
              "1      [sir, charles, chamber, coming, in\\r\\nwhen, wr...\n",
              "2      [vice, runs, beyond, old, men, saw\\r\\nand, far...\n",
              "3      [lo, man, whose, muse, whilome, maske\\r\\nas, t...\n",
              "4      [long, longd, see, love, againe\\r\\nstill, wish...\n",
              "                             ...                        \n",
              "568    [man, love, loves, not\\r\\ni, walked, streetlam...\n",
              "569    [hart, crane, voyages, ii, iii, iv, v, vi, com...\n",
              "570    [old, grey, full, sleep\\r\\nand, nodding, fire,...\n",
              "571    [give, hunger\\r\\no, gods, sit, give\\r\\nthe, wo...\n",
              "572    [potuia, potuia\\r\\nwhite, grave, goddess\\r\\npi...\n",
              "Name: content, Length: 573, dtype: object"
            ]
          },
          "metadata": {
            "tags": []
          },
          "execution_count": 15
        }
      ]
    },
    {
      "cell_type": "code",
      "metadata": {
        "colab": {
          "base_uri": "https://localhost:8080/"
        },
        "id": "KWfbrt-FgNnR",
        "outputId": "1b45c1c2-f949-4001-c766-ee7fa49f368f"
      },
      "source": [
        "nltk.download('cmudict')"
      ],
      "execution_count": null,
      "outputs": [
        {
          "output_type": "stream",
          "text": [
            "[nltk_data] Downloading package cmudict to /root/nltk_data...\n",
            "[nltk_data]   Unzipping corpora/cmudict.zip.\n"
          ],
          "name": "stdout"
        },
        {
          "output_type": "execute_result",
          "data": {
            "text/plain": [
              "True"
            ]
          },
          "metadata": {
            "tags": []
          },
          "execution_count": 16
        }
      ]
    },
    {
      "cell_type": "code",
      "metadata": {
        "id": "0vJ86RethgOd"
      },
      "source": [
        "words = sum(list(clean_text), [])"
      ],
      "execution_count": null,
      "outputs": []
    },
    {
      "cell_type": "code",
      "metadata": {
        "id": "9kWfb07uiM3L"
      },
      "source": [
        "words = [w.replace(\"\\r\", \"\") for w in words ]\n",
        "words = [w.replace(\"\\n\", \"\") for w in words ]"
      ],
      "execution_count": null,
      "outputs": []
    },
    {
      "cell_type": "code",
      "metadata": {
        "id": "6H9aKnqhKFE7"
      },
      "source": [
        "from sklearn.feature_extraction.text import TfidfVectorizer\n",
        "\n",
        "vectorizer = TfidfVectorizer(stop_words=nltk.corpus.stopwords.words(\"english\"),\n",
        "max_features= 500, # keep top 500 terms \n",
        "max_df = 0.5, \n",
        "smooth_idf=True)\n",
        "\n"
      ],
      "execution_count": null,
      "outputs": []
    },
    {
      "cell_type": "code",
      "metadata": {
        "id": "IuSCLDRvLbv7"
      },
      "source": [
        "X = vectorizer.fit_transform(words)\n",
        "tfidf_feature_names = vectorizer.get_feature_names()\n",
        "# tfidf_feature_names"
      ],
      "execution_count": null,
      "outputs": []
    },
    {
      "cell_type": "code",
      "metadata": {
        "id": "V-N18a6JLg7Y"
      },
      "source": [
        "vect = CountVectorizer(tokenizer = lambda x: x.split(), binary = 'true')\n",
        "y = vect.fit_transform(df['type'])"
      ],
      "execution_count": null,
      "outputs": []
    },
    {
      "cell_type": "code",
      "metadata": {
        "id": "fCpg4BPek_Yf"
      },
      "source": [
        "X_train, X_test, y_train, y_test = train_test_split(\n",
        "    X[:573], y, test_size=0.33, random_state=42)"
      ],
      "execution_count": null,
      "outputs": []
    },
    {
      "cell_type": "code",
      "metadata": {
        "id": "q8AzXDQDvp83"
      },
      "source": [
        ""
      ],
      "execution_count": null,
      "outputs": []
    },
    {
      "cell_type": "code",
      "metadata": {
        "colab": {
          "base_uri": "https://localhost:8080/"
        },
        "id": "ANz_aXckMjI3",
        "outputId": "ccb971b8-32f3-42f0-df39-5bf2c69eb449"
      },
      "source": [
        "#sgd classifier\n",
        "\n",
        "classifier = OneVsRestClassifier(SGDClassifier(loss='log', alpha=0.00001, penalty='l1'), n_jobs=-1)\n",
        "classifier.fit(X_train, y_train)\n",
        "predictions = classifier.predict(X_test)\n",
        "\n",
        "print(\"accuracy :\",classifier.score(X_train, y_train))\n",
        "print(\"macro f1 score :\",metrics.f1_score(y_test, predictions, average = 'macro'))\n",
        "print(\"micro f1 scoore :\",metrics.f1_score(y_test, predictions, average = 'micro'))\n",
        "print(\"hamming loss :\",metrics.hamming_loss(y_test,predictions))\n",
        "print(\"Precision recall report :\\n\",metrics.classification_report(y_test, predictions))"
      ],
      "execution_count": null,
      "outputs": [
        {
          "output_type": "stream",
          "text": [
            "accuracy : 0.6292428198433421\n",
            "macro f1 score : 0.1835519030133473\n",
            "micro f1 scoore : 0.5707547169811321\n",
            "hamming loss : 0.19157894736842104\n",
            "Precision recall report :\n",
            "               precision    recall  f1-score   support\n",
            "\n",
            "           0       0.00      0.00      0.00        22\n",
            "           1       0.00      0.00      0.00        22\n",
            "           2       0.64      0.98      0.78       119\n",
            "           3       0.00      0.00      0.00        22\n",
            "           4       0.50      0.08      0.14        49\n",
            "\n",
            "   micro avg       0.64      0.52      0.57       234\n",
            "   macro avg       0.23      0.21      0.18       234\n",
            "weighted avg       0.43      0.52      0.42       234\n",
            " samples avg       0.63      0.64      0.64       234\n",
            "\n"
          ],
          "name": "stdout"
        },
        {
          "output_type": "stream",
          "text": [
            "/usr/local/lib/python3.7/dist-packages/sklearn/metrics/_classification.py:1272: UndefinedMetricWarning: Precision and F-score are ill-defined and being set to 0.0 in labels with no predicted samples. Use `zero_division` parameter to control this behavior.\n",
            "  _warn_prf(average, modifier, msg_start, len(result))\n",
            "/usr/local/lib/python3.7/dist-packages/sklearn/metrics/_classification.py:1272: UndefinedMetricWarning: Precision and F-score are ill-defined and being set to 0.0 in samples with no predicted labels. Use `zero_division` parameter to control this behavior.\n",
            "  _warn_prf(average, modifier, msg_start, len(result))\n"
          ],
          "name": "stderr"
        }
      ]
    },
    {
      "cell_type": "code",
      "metadata": {
        "colab": {
          "base_uri": "https://localhost:8080/",
          "height": 296
        },
        "id": "QOEresR4V9P2",
        "outputId": "72d46f62-408a-44ab-c2cf-a1ac66660008"
      },
      "source": [
        "# Create CV training and test scores for various training set sizes\n",
        "train_sizes, train_scores, test_scores = learning_curve(classifier, \n",
        "                                                        X[:573], \n",
        "                                                        y,\n",
        "                                                        # Number of folds in cross-validation\n",
        "                                                        cv=10,\n",
        "                                                        # Evaluation metric\n",
        "                                                        scoring='accuracy',\n",
        "                                                        # Use all computer cores\n",
        "                                                        n_jobs=-1, \n",
        "                                                        # 50 different sizes of the training set\n",
        "                                                        train_sizes=np.linspace(0.01, 1.0, 50))\n",
        "\n",
        "# Create means and standard deviations of training set scores\n",
        "train_mean = np.mean(train_scores, axis=1)\n",
        "train_std = np.std(train_scores, axis=1)\n",
        "\n",
        "# Create means and standard deviations of test set scores\n",
        "test_mean = np.mean(test_scores, axis=1)\n",
        "test_std = np.std(test_scores, axis=1)\n",
        "\n",
        "# Draw lines\n",
        "plt.plot(train_sizes, train_mean, '--', color=\"#111111\",  label=\"Training score\")\n",
        "plt.plot(train_sizes, test_mean, color=\"#111111\", label=\"Cross-validation score\")\n",
        "\n",
        "# Draw bands\n",
        "plt.fill_between(train_sizes, train_mean - train_std, train_mean + train_std, color=\"#DDDDDD\")\n",
        "plt.fill_between(train_sizes, test_mean - test_std, test_mean + test_std, color=\"#DDDDDD\")\n",
        "\n",
        "# Create plot\n",
        "plt.title(\"Learning Curve\")\n",
        "plt.xlabel(\"Training Set Size\"), plt.ylabel(\"Accuracy Score\"), plt.legend(loc=\"best\")\n",
        "plt.tight_layout()\n",
        "plt.show()"
      ],
      "execution_count": null,
      "outputs": [
        {
          "output_type": "display_data",
          "data": {
            "image/png": "[encoded data removed]",
            "text/plain": [
              "<Figure size 432x288 with 1 Axes>"
            ]
          },
          "metadata": {
            "tags": [],
            "needs_background": "light"
          }
        }
      ]
    },
    {
      "cell_type": "code",
      "metadata": {
        "id": "qjAjScjObyXZ"
      },
      "source": [
        "real_predictions = vect.inverse_transform(predictions)\n",
        "real_predictions = [\"\".join(x) for x in real_predictions]"
      ],
      "execution_count": null,
      "outputs": []
    },
    {
      "cell_type": "code",
      "metadata": {
        "colab": {
          "base_uri": "https://localhost:8080/",
          "height": 406
        },
        "id": "9Lt29zuCdLcj",
        "outputId": "e83c42b0-2d5b-4492-bd44-1ab7fa69aae2"
      },
      "source": [
        "pd.DataFrame(zip(df['type'], real_predictions), columns=['real_data', 'predictions'])"
      ],
      "execution_count": null,
      "outputs": [
        {
          "output_type": "execute_result",
          "data": {
            "text/html": [
              "<div>\n",
              "<style scoped>\n",
              "    .dataframe tbody tr th:only-of-type {\n",
              "        vertical-align: middle;\n",
              "    }\n",
              "\n",
              "    .dataframe tbody tr th {\n",
              "        vertical-align: top;\n",
              "    }\n",
              "\n",
              "    .dataframe thead th {\n",
              "        text-align: right;\n",
              "    }\n",
              "</style>\n",
              "<table border=\"1\" class=\"dataframe\">\n",
              "  <thead>\n",
              "    <tr style=\"text-align: right;\">\n",
              "      <th></th>\n",
              "      <th>real_data</th>\n",
              "      <th>predictions</th>\n",
              "    </tr>\n",
              "  </thead>\n",
              "  <tbody>\n",
              "    <tr>\n",
              "      <th>0</th>\n",
              "      <td>Mythology &amp; Folklore</td>\n",
              "      <td>love</td>\n",
              "    </tr>\n",
              "    <tr>\n",
              "      <th>1</th>\n",
              "      <td>Mythology &amp; Folklore</td>\n",
              "      <td>love</td>\n",
              "    </tr>\n",
              "    <tr>\n",
              "      <th>2</th>\n",
              "      <td>Mythology &amp; Folklore</td>\n",
              "      <td>love</td>\n",
              "    </tr>\n",
              "    <tr>\n",
              "      <th>3</th>\n",
              "      <td>Mythology &amp; Folklore</td>\n",
              "      <td>love</td>\n",
              "    </tr>\n",
              "    <tr>\n",
              "      <th>4</th>\n",
              "      <td>Mythology &amp; Folklore</td>\n",
              "      <td>love</td>\n",
              "    </tr>\n",
              "    <tr>\n",
              "      <th>...</th>\n",
              "      <td>...</td>\n",
              "      <td>...</td>\n",
              "    </tr>\n",
              "    <tr>\n",
              "      <th>185</th>\n",
              "      <td>Love</td>\n",
              "      <td>love</td>\n",
              "    </tr>\n",
              "    <tr>\n",
              "      <th>186</th>\n",
              "      <td>Love</td>\n",
              "      <td>love</td>\n",
              "    </tr>\n",
              "    <tr>\n",
              "      <th>187</th>\n",
              "      <td>Love</td>\n",
              "      <td>love</td>\n",
              "    </tr>\n",
              "    <tr>\n",
              "      <th>188</th>\n",
              "      <td>Love</td>\n",
              "      <td>love</td>\n",
              "    </tr>\n",
              "    <tr>\n",
              "      <th>189</th>\n",
              "      <td>Love</td>\n",
              "      <td>love</td>\n",
              "    </tr>\n",
              "  </tbody>\n",
              "</table>\n",
              "<p>190 rows × 2 columns</p>\n",
              "</div>"
            ],
            "text/plain": [
              "                real_data predictions\n",
              "0    Mythology & Folklore        love\n",
              "1    Mythology & Folklore        love\n",
              "2    Mythology & Folklore        love\n",
              "3    Mythology & Folklore        love\n",
              "4    Mythology & Folklore        love\n",
              "..                    ...         ...\n",
              "185                  Love        love\n",
              "186                  Love        love\n",
              "187                  Love        love\n",
              "188                  Love        love\n",
              "189                  Love        love\n",
              "\n",
              "[190 rows x 2 columns]"
            ]
          },
          "metadata": {
            "tags": []
          },
          "execution_count": 42
        }
      ]
    },
    {
      "cell_type": "code",
      "metadata": {
        "id": "aNMQceLBl0vs"
      },
      "source": [
        "#add rhyme words\n",
        "rhymes_ = [words]\n",
        "\n",
        "for w in words:\n",
        "  rhymes_.append(pronouncing.rhymes(w)[:4])\n",
        "\n"
      ],
      "execution_count": null,
      "outputs": []
    },
    {
      "cell_type": "code",
      "metadata": {
        "id": "ifQCWN9EmZLP"
      },
      "source": [
        "rhymes_ = sum(rhymes_ , [])"
      ],
      "execution_count": null,
      "outputs": []
    },
    {
      "cell_type": "code",
      "metadata": {
        "id": "q1UygEall4Aw"
      },
      "source": [
        "X = vectorizer.fit_transform(rhymes_)\n",
        "tfidf_feature_names = vectorizer.get_feature_names()\n",
        "# tfidf_feature_names"
      ],
      "execution_count": null,
      "outputs": []
    },
    {
      "cell_type": "code",
      "metadata": {
        "id": "GwD6HT_ZmuPI"
      },
      "source": [
        "X_train, X_test, y_train, y_test = train_test_split(\n",
        "    X[:573], y, test_size=0.33, random_state=42)"
      ],
      "execution_count": null,
      "outputs": []
    },
    {
      "cell_type": "code",
      "metadata": {
        "colab": {
          "base_uri": "https://localhost:8080/"
        },
        "id": "OPpE-UC-m4sR",
        "outputId": "8951b50b-98a6-46e1-c5c4-bb8cbf662852"
      },
      "source": [
        "#sgd classifier\n",
        "\n",
        "classifier = OneVsRestClassifier(SGDClassifier(loss='log', alpha=0.00001, penalty='l1'), n_jobs=-1)\n",
        "classifier.fit(X_train, y_train)\n",
        "predictions = classifier.predict(X_test)\n",
        "\n",
        "print(\"accuracy :\",classifier.score(X_train, y_train))\n",
        "print(\"macro f1 score :\",metrics.f1_score(y_test, predictions, average = 'macro'))\n",
        "print(\"micro f1 scoore :\",metrics.f1_score(y_test, predictions, average = 'micro'))\n",
        "print(\"hamming loss :\",metrics.hamming_loss(y_test,predictions))\n",
        "print(\"Precision recall report :\\n\",metrics.classification_report(y_test, predictions))"
      ],
      "execution_count": null,
      "outputs": [
        {
          "output_type": "stream",
          "text": [
            "accuracy : 0.608355091383812\n",
            "macro f1 score : 0.183037062855815\n",
            "micro f1 scoore : 0.5694117647058824\n",
            "hamming loss : 0.19263157894736843\n",
            "Precision recall report :\n",
            "               precision    recall  f1-score   support\n",
            "\n",
            "           0       0.00      0.00      0.00        22\n",
            "           1       0.00      0.00      0.00        22\n",
            "           2       0.64      0.98      0.77       119\n",
            "           3       0.00      0.00      0.00        22\n",
            "           4       0.50      0.08      0.14        49\n",
            "\n",
            "   micro avg       0.63      0.52      0.57       234\n",
            "   macro avg       0.23      0.21      0.18       234\n",
            "weighted avg       0.43      0.52      0.42       234\n",
            " samples avg       0.63      0.64      0.64       234\n",
            "\n"
          ],
          "name": "stdout"
        },
        {
          "output_type": "stream",
          "text": [
            "/usr/local/lib/python3.7/dist-packages/sklearn/metrics/_classification.py:1272: UndefinedMetricWarning: Precision and F-score are ill-defined and being set to 0.0 in labels with no predicted samples. Use `zero_division` parameter to control this behavior.\n",
            "  _warn_prf(average, modifier, msg_start, len(result))\n"
          ],
          "name": "stderr"
        }
      ]
    },
    {
      "cell_type": "code",
      "metadata": {
        "id": "8PqmIHz1m_Ev"
      },
      "source": [
        ""
      ],
      "execution_count": null,
      "outputs": []
    },
    {
      "cell_type": "code",
      "metadata": {
        "id": "uIebDAqVNxaV"
      },
      "source": [
        "#extract top words and topics"
      ],
      "execution_count": null,
      "outputs": []
    },
    {
      "cell_type": "code",
      "metadata": {
        "colab": {
          "base_uri": "https://localhost:8080/"
        },
        "id": "eCgnl7fBN1-V",
        "outputId": "a5063505-fd4d-47eb-8b8e-676b30729280"
      },
      "source": [
        "from sklearn.decomposition import TruncatedSVD\n",
        "\n",
        "# SVD represent documents and terms in vectors \n",
        "svd_model = TruncatedSVD(n_components=10, algorithm='randomized', n_iter=100, random_state=122)\n",
        "\n",
        "svd_model.fit(X)"
      ],
      "execution_count": null,
      "outputs": [
        {
          "output_type": "execute_result",
          "data": {
            "text/plain": [
              "TruncatedSVD(algorithm='randomized', n_components=10, n_iter=100,\n",
              "             random_state=122, tol=0.0)"
            ]
          },
          "metadata": {
            "tags": []
          },
          "execution_count": 38
        }
      ]
    },
    {
      "cell_type": "code",
      "metadata": {
        "id": "_cudcMIcN956"
      },
      "source": [
        "# LSA, https://en.wikipedia.org/wiki/Latent_semantic_analysis"
      ],
      "execution_count": null,
      "outputs": []
    },
    {
      "cell_type": "code",
      "metadata": {
        "colab": {
          "base_uri": "https://localhost:8080/"
        },
        "id": "B8dBarXPODiq",
        "outputId": "775801a5-8d96-4958-b72e-627aeec157a1"
      },
      "source": [
        "terms = vectorizer.get_feature_names()\n",
        "\n",
        "\n",
        "num_of_words = 7\n",
        "for i, comp in enumerate(svd_model.components_):\n",
        "    terms_comp = zip(terms, comp)\n",
        "    sorted_terms = sorted(terms_comp, key= lambda x:x[1], reverse=True)[:num_of_words]\n",
        "    print(\"Topic \"+str(i)+\": \")\n",
        "    print(\" \".join([word[0] for word in sorted_terms]))\n",
        "        "
      ],
      "execution_count": null,
      "outputs": [
        {
          "output_type": "stream",
          "text": [
            "Topic 0: \n",
            "thy thou love thee doth one shall\n",
            "Topic 1: \n",
            "copyright permission poems reprinted michael collected publishing\n",
            "Topic 2: \n",
            "thy thou thee art thine dost hast\n",
            "Topic 3: \n",
            "published poetry selected michael used anania new\n",
            "Topic 4: \n",
            "ezra pound poetry reprinted corpor new published\n",
            "Topic 5: \n",
            "michael anania ezra pound selected corpor new\n",
            "Topic 6: \n",
            "love doth ye let loves true virtue\n",
            "Topic 7: \n",
            "ye shall fair doth hath seek much\n",
            "Topic 8: \n",
            "hart used ezra edited pound publishing published\n",
            "Topic 9: \n",
            "hart one edited thou publishing go us\n"
          ],
          "name": "stdout"
        }
      ]
    },
    {
      "cell_type": "code",
      "metadata": {
        "id": "y-2cu0gyOJlG"
      },
      "source": [
        "#LDA"
      ],
      "execution_count": null,
      "outputs": []
    },
    {
      "cell_type": "code",
      "metadata": {
        "colab": {
          "base_uri": "https://localhost:8080/"
        },
        "id": "tUjSoZEMOX8A",
        "outputId": "8635e527-b299-4cb0-9ba4-206fcda06f3c"
      },
      "source": [
        "clean_text"
      ],
      "execution_count": null,
      "outputs": [
        {
          "output_type": "execute_result",
          "data": {
            "text/plain": [
              "0      [let, bird, loudest, lay\\r\\non, sole, arabian,...\n",
              "1      [sir, charles, chamber, coming, in\\r\\nwhen, wr...\n",
              "2      [vice, runs, beyond, old, men, saw\\r\\nand, far...\n",
              "3      [lo, man, whose, muse, whilome, maske\\r\\nas, t...\n",
              "4      [long, longd, see, love, againe\\r\\nstill, wish...\n",
              "                             ...                        \n",
              "568    [man, love, loves, not\\r\\ni, walked, streetlam...\n",
              "569    [hart, crane, voyages, ii, iii, iv, v, vi, com...\n",
              "570    [old, grey, full, sleep\\r\\nand, nodding, fire,...\n",
              "571    [give, hunger\\r\\no, gods, sit, give\\r\\nthe, wo...\n",
              "572    [potuia, potuia\\r\\nwhite, grave, goddess\\r\\npi...\n",
              "Name: content, Length: 573, dtype: object"
            ]
          },
          "metadata": {
            "tags": []
          },
          "execution_count": 44
        }
      ]
    },
    {
      "cell_type": "code",
      "metadata": {
        "id": "mcgeZlw1OVLP"
      },
      "source": [
        "# tokenization\n",
        "tokenized_doc = clean_text.apply(lambda x: x)"
      ],
      "execution_count": null,
      "outputs": []
    },
    {
      "cell_type": "code",
      "metadata": {
        "id": "aLXr9a-FONUX"
      },
      "source": [
        "words = sum(tokenized_doc.to_list(), [])"
      ],
      "execution_count": null,
      "outputs": []
    },
    {
      "cell_type": "code",
      "metadata": {
        "id": "aITAuF9SOhiE"
      },
      "source": [
        "import gensim.corpora as corpora\n",
        "\n",
        "id2word = corpora.Dictionary([words])\n",
        "# Create Corpus\n",
        "texts = words\n",
        "# Term Document Frequency\n",
        "corpus = [id2word.doc2bow([text]) for text in texts]\n",
        "# View\n",
        "# print(corpus)"
      ],
      "execution_count": null,
      "outputs": []
    },
    {
      "cell_type": "code",
      "metadata": {
        "id": "MSFq7D95OrTU"
      },
      "source": [
        "import gensim\n",
        "from pprint import pprint\n",
        "# number of topics\n",
        "num_topics = 10\n",
        "# Build LDA model\n",
        "lda_model = gensim.models.LdaMulticore(corpus=corpus,\n",
        "                                       id2word=id2word,\n",
        "                                       num_topics=num_topics)\n",
        "# Print the Keyword in the 10 topics\n",
        "# pprint(lda_model.print_topics())\n",
        "doc_lda = lda_model[corpus]"
      ],
      "execution_count": null,
      "outputs": []
    },
    {
      "cell_type": "code",
      "metadata": {
        "colab": {
          "base_uri": "https://localhost:8080/"
        },
        "id": "IjbxZNZXOv-A",
        "outputId": "a9b68819-8a7f-4b8b-d293-1b331276503b"
      },
      "source": [
        "lda_df = pd.DataFrame()\n",
        "data_dict = {}\n",
        "\n",
        "\n",
        "\n",
        "for index, topic in lda_model.show_topics(formatted=False, num_words= 10):\n",
        "  words = [w[0] for w in topic]\n",
        "  words = \" \".join(words)\n",
        "  print(\"Topic {index}:\".format(index=index),words)\n",
        "  data_dict[index]=words\n"
      ],
      "execution_count": null,
      "outputs": [
        {
          "output_type": "stream",
          "text": [
            "Topic 0: love little back much light remember must honey though yellow\n",
            "Topic 1: upon would world white let thee body  among blue\n",
            "Topic 2: permission de long take comes die many things silver soft\n",
            "Topic 3: one poems old thou life first earth keep lips evening\n",
            "Topic 4: like copyright face make great poetry good walked loved hear\n",
            "Topic 5: go heart thy know dark time could say hand wind\n",
            "Topic 6:  us man see sun red since pound beautiful young\n",
            "Topic 7: still look eyes new come soul night green water beauty\n",
            "Topic 8: reprinted \r\n",
            "and used find sweet men give deep grow shadow\n",
            "Topic 9: shall never far may last went woman published turn music\n"
          ],
          "name": "stdout"
        }
      ]
    },
    {
      "cell_type": "code",
      "metadata": {
        "id": "BKmO2JXCO1Cx"
      },
      "source": [
        "lda_df[\"topic\"]=data_dict.keys()\n",
        "lda_df[\"words\"]=data_dict.values()"
      ],
      "execution_count": null,
      "outputs": []
    },
    {
      "cell_type": "code",
      "metadata": {
        "id": "hOLea8ZMO5Rg"
      },
      "source": [
        "def display_topics(model, feature_names, no_top_words):\n",
        "    for topic_idx, topic in enumerate(model.components_):\n",
        "        print (\"Topic %d:\" % (topic_idx))\n",
        "        print (\" \".join([feature_names[i]\n",
        "                        for i in topic.argsort()[:-no_top_words - 1:-1]]))"
      ],
      "execution_count": null,
      "outputs": []
    },
    {
      "cell_type": "code",
      "metadata": {
        "colab": {
          "base_uri": "https://localhost:8080/",
          "height": 536
        },
        "id": "Z_q0iXe4PIZX",
        "outputId": "1881161c-7492-4393-c602-b65a301c660c"
      },
      "source": [
        "# 1. Wordcloud of Top N words in each topic\n",
        "from matplotlib import pyplot as plt\n",
        "from wordcloud import WordCloud, STOPWORDS\n",
        "import matplotlib.colors as mcolors\n",
        "\n",
        "cols = [color for name, color in mcolors.TABLEAU_COLORS.items()]  # more colors: 'mcolors.XKCD_COLORS'\n",
        "\n",
        "cloud = WordCloud(stopwords=nltk.corpus.stopwords.words(\"english\"),\n",
        "                  background_color='white',\n",
        "                  width=2500,\n",
        "                  height=1800,\n",
        "                  max_words=10,\n",
        "                  colormap='tab10',\n",
        "                  color_func=lambda *args, **kwargs: cols[i],\n",
        "                  prefer_horizontal=1.0)\n",
        "\n",
        "topics = lda_model.show_topics(formatted=False)\n",
        "\n",
        "# topics = svd_model.show_topics(formatted=False)\n",
        "\n",
        "\n",
        "fig, axes = plt.subplots(2, 5, figsize=(16,12), sharex=True, sharey=True)\n",
        "\n",
        "for i, ax in enumerate(axes.flatten()):\n",
        "    fig.add_subplot(ax)\n",
        "    topic_words = dict(topics[i][1])\n",
        "    cloud.generate_from_frequencies(topic_words, max_font_size=300)\n",
        "    plt.gca().imshow(cloud)\n",
        "    plt.gca().set_title('Topic ' + str(i), fontdict=dict(size=16))\n",
        "    plt.gca().axis('off')\n",
        "\n",
        "\n",
        "plt.subplots_adjust(wspace=0, hspace=0)\n",
        "plt.axis('off')\n",
        "plt.margins(x=0, y=0)\n",
        "plt.tight_layout()\n",
        "plt.show()"
      ],
      "execution_count": null,
      "outputs": [
        {
          "output_type": "display_data",
          "data": {
            "image/png": "[encoded data removed]",
            "text/plain": [
              "<Figure size 1152x864 with 10 Axes>"
            ]
          },
          "metadata": {
            "tags": [],
            "needs_background": "light"
          }
        }
      ]
    }
  ]
}