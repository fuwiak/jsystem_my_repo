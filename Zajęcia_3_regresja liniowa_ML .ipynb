{
 "cells": [
  {
   "cell_type": "markdown",
   "metadata": {},
   "source": [
    "# Zajęcia 3 - regresja liniowa w ML "
   ]
  },
  {
   "cell_type": "markdown",
   "metadata": {},
   "source": [
    "## Przypomnienie - metoda najmniejszych kwadratów"
   ]
  },
  {
   "cell_type": "markdown",
   "metadata": {},
   "source": [
    "W ogólności - mamy dane w postaci dwóch wektorów $x$ i $y$ o jednakowej długości, gdzie $x$ zawiera argument funkcji, a $y$ wartość funkcji dla tego argumentu. Innymi słowy można stworzyć pary $(x, y)$, które określają funkcję. Równie dobrze dane te przechować można w postaci macierzy 2D lub listy krotek. \n",
    "\n",
    "Dane są zdyskretyzowane - nie znamy matematycznego wyrazu opisującego funkcję. Naszym zadaniem jest znalezienie modelu najlepiej opisującego dane wartości lub sprawdzenie, czy zadany z góry model dobrze opisuje testowe dane.\n",
    "\n",
    "Modelem może być dowolna funkcja zależna od dowolnej, ale określonej liczby parametrów, które oznaczane będą jako $c_i$, gdzie $i$ jest indeksem parametru. Liczba parametrów oznaczana jest jako $N$ Przykładowy modele:\n",
    "- funkcja liniowa: $y(x) = c_1x+c_2$\n",
    "- funkcja kwadratowa: $y(x) = c_1x^2 + c_2x + c_3$\n",
    "- funkcja sinus/cosinus: $y(x) = c_1 \\sin(c_2x + c_3) + c_4 $\n",
    "\n",
    "Oczywiście modelem może być każda poprawna matematycznie funkcja. Na potrzeby uogólnione postaci załóżmy, że funkcja modelowa ma postać $f(x, c_1,c_2, \\cdots, c_N)$.\n",
    "\n",
    "Z wykorzystaniem metody najmniejszych kwadratów - minimalizowana jest odległość modelowej krzywej od wszystkich punktów:\n",
    "\n",
    "$$ G = \\sum_{i=1}^{N} [ y_i - f(x_i, c_1,c_2, \\cdots, c_N) ]^2 $$\n",
    "\n",
    "Minimalizacji powyżego wyrażenia można dokonać przyrównując pochodne wyrażenia po wszystkich parametrach do zera. Oczywiście - pierwsza pochodna mówi o ekstremum, które może być maksimum lub minimum funkcjonału $G$, ale w tym przypadku będziemy mieli do czynienia z minimum (maksimum tego funkcjonału to $+\\inf$, ponieważ największa możliwa odległość dopasowanego modelu od punktów to $+\\inf$). \n",
    "\n",
    "$$ min(G) = \\frac{\\delta G}{\\delta c_i} = 0 $$\n",
    "\n",
    "Otrzymany w ten sposób układ $N$ równań na $N$ parametrów pozwala jednoznacznie wyznaczyć optymalne parametry dopasowania zadanego modelu do posiadanych danych. \n",
    "\n",
    "Metoda najmniejszych kwadratów pozwala w łatwy sposób oszacowywać niepewności dopasowania, wyznaczając odchylenia standardowe parametrów. Dla dowolnego parametru oznaczonego jako $c_i$ jego odchylenie standardowe wyznaczyć można jako:\n",
    "\n",
    "$$ S^2_{c_i} = \\frac{1}{N} \\sum_{k=1}^{N} \\left( \\frac{\\delta c_i}{\\delta y_k} \\right) ^2 S_y^2, $$\n",
    "\n",
    "gdzie: $ S^2_{y} = \\frac{1}{N} \\sum_{i=1}{N} [y_i - f(x_i, c_1, c_2, , \\cdots, c_N)]^2$. Jednakże wartości współczynników $c_i$ nie są znane, tak więc trzeba skorzystać z ich estymatorów. Najlepszym estymatorem parametru $c_i$ jest w tym przypadku wartość parametru wyznaczona na podstawie dopasowania $N$ parametrów do zbioru składającego się z $K$ par $(x, y)$. W związku z tym skorzystać należy ze wzoru: \n",
    "\n",
    "$$ S^2_y = \\frac{1}{K-N} \\sum^K_{i=1} [y_i - f(x_i, c_1, c_2, \\cdots, c_n)]^2. $$ \n",
    "\n",
    "Kowariancję par współczynników wyznacz się jako:\n",
    "\n",
    "$$ C_{c_i, c_j} = \\sum^N_{k=1}  \\frac{\\delta c_i}{\\delta y_k} \\frac{\\delta c_j}{\\delta y_k} S_y^2.   $$\n"
   ]
  },
  {
   "cell_type": "markdown",
   "metadata": {},
   "source": [
    "## Regresja liniowa"
   ]
  },
  {
   "cell_type": "markdown",
   "metadata": {},
   "source": [
    "Szczególnym, najprostszym przypadkiem regresji jest regresja liniowa, a więc dopasowanie liniowego modelu do danych. Model ma postać $ y = ax + b $.\n",
    "\n",
    "Funkcjonał $G$ przyjmuje wtedy postać:\n",
    "\n",
    "$$ G(a,b) = \\sum_{i=1}^N (y_i - ax_i - b)^2. $$\n",
    "\n",
    "Wyznaczamy pochodne cząstkowe funkcjonału $G(a,b)$ po parametrach $a$ i $b$, a następnie przyrównujemy je do zera\n",
    "\n",
    "$$ \\frac{\\delta G}{\\delta a} = - 2 \\sum_{i=1}^N x_i(y_i - ax_i - b) = 0$$\n",
    "$$ \\frac{\\delta G}{\\delta b} = - 2 \\sum_{i=1}^N (y_i - ax_i - b) = 0$$\n",
    "\n",
    "i w wyniku otrzymujemy układ dwóch równań na dwie niewiadome. Rozwiązując go, wyznaczamy wartości parametrów $a$ i $b$ najlepiej pasujących do naszego modelu:\n",
    "\n",
    "$$ a = \\frac{N\\sum_{i=1}^N x_iy_i - \\left( \\sum_{i=1}^N x_i \\right) \\left( \\sum_{i=1}^N y_i \\right) }{N \\sum_{i=1}^{N} x_i^2 - \\left( \\sum_{i=1}^N x_i \\right)^2}$$\n",
    "\n",
    "$$ b = \\frac{\\left( \\sum_{i=1}^N x_i^2\\right) \\left( \\sum_{i=1}^N y_i \\right) - \\left( \\sum_{i=1}^N x_i\\right) \\left( \\sum_{i=1}^{N} x_i y_i\\right)}{ N\\sum_{i=1}^N x_i^2 - \\left( \\sum_{i=1}^N x_i\\right)^2} $$\n",
    "\n",
    "$S_y^2$ będzie w tym przypadku wyrażone wzorem: $S_y^2 = \\frac{1}{N-2} \\sum_{i=1}^N \\left( y_i - ax_i - b \\right)^2 $ . Dodatkowo, dla uproszczenia dalszych zapisów przyjąć można oznaczenie $ d_i = y_i - ax_i - b $. Wyznaczamy dwa parametry, więc liczba stopni swobody w tym przypadku wynosi $2$.\n",
    "\n",
    "Odchylenia standardowe wyznaczonych parametrów $a$ i $b$ dopasowania są więc następujące:\n",
    "\n",
    "$$ S_a^2 = \\frac{ N \\sum_{i=1}^N d_i^2}{(N-2) \\left[ N \\sum_{i=1}^N x_i^2 - \\left( \\sum_{i=1}^N x_i\\right)^2 \\right]} $$\n",
    "\n",
    "$$ S_b^2 = \\frac{ N \\left( \\sum_{i=1}^N d_i^2 \\right) \\left( \\sum_{i=1}^N x_i^2 \\right) }{(N-2) \\left[ N \\sum_{i=1}^N x_i^2 - \\left( \\sum_{i=1}^N x_i\\right)^2 \\right]} $$\n",
    "\n",
    "Kowariancję dopasowanych parametrów $a$ i $b$ wyrażamy jako:\n",
    "\n",
    "$$ C_{a,b} = - \\frac{ \\left( \\sum_{i=1}^N d_i^2 \\right) \\left( \\sum_{i=1}^N x_i \\right) }{(N-2) \\left[ N \\sum_{i=1}^N x_i^2 - \\left( \\sum_{i=1}^N x_i\\right)^2 \\right] } $$\n",
    "\n",
    "Ostateczne niepewności dopasowanej prostej wyznacza się jako odcylenia standarowe $\\hat{x}$ i $\\hat{y}$, gdzie $\\hat{x} = \\frac{y-b}{a}$ i $\\hat{y}=ax + b$.\n",
    "\n",
    "$$ S_{\\hat{y}}^2 = x^2S_a^2 + S_b^2 + 2xC_{a,b}$$\n",
    "$$ S_{\\hat{x}}^2 = \\left( \\frac{y-b}{a^2} \\right) ^2 S_a^2 + \\left( \\frac{1}{a} \\right) ^2 S_b^2 + 2 \\frac{y-b}{a^2} \\frac{1}{a} C_{a,b} $$\n",
    "\n",
    "Wartości te służą do oznaczenia przedziału ufności dopasowania i mogą zostać wykorzystane do graficznego przedstawienia niepewności dopasowania na wykresie.\n",
    "\n",
    "\n",
    "UWAGA!!! Polecam każdemu z Państwa policzyć sobie pochone \"na kartce\" i wyprowadzić powyższe wzory na podstawie ogólnych wyrażeń z rozdziału \"Przypomnienie - metoda najmniejszych kwadratów\""
   ]
  },
  {
   "cell_type": "markdown",
   "metadata": {},
   "source": [
    "## Regresja w języku Python"
   ]
  },
  {
   "cell_type": "code",
   "execution_count": 3,
   "metadata": {},
   "outputs": [
    {
     "name": "stdout",
     "output_type": "stream",
     "text": [
      "[  0.           1.01010101   2.02020202   3.03030303   4.04040404\n",
      "   5.05050505   6.06060606   7.07070707   8.08080808   9.09090909\n",
      "  10.1010101   11.11111111  12.12121212  13.13131313  14.14141414\n",
      "  15.15151515  16.16161616  17.17171717  18.18181818  19.19191919\n",
      "  20.2020202   21.21212121  22.22222222  23.23232323  24.24242424\n",
      "  25.25252525  26.26262626  27.27272727  28.28282828  29.29292929\n",
      "  30.3030303   31.31313131  32.32323232  33.33333333  34.34343434\n",
      "  35.35353535  36.36363636  37.37373737  38.38383838  39.39393939\n",
      "  40.4040404   41.41414141  42.42424242  43.43434343  44.44444444\n",
      "  45.45454545  46.46464646  47.47474747  48.48484848  49.49494949\n",
      "  50.50505051  51.51515152  52.52525253  53.53535354  54.54545455\n",
      "  55.55555556  56.56565657  57.57575758  58.58585859  59.5959596\n",
      "  60.60606061  61.61616162  62.62626263  63.63636364  64.64646465\n",
      "  65.65656566  66.66666667  67.67676768  68.68686869  69.6969697\n",
      "  70.70707071  71.71717172  72.72727273  73.73737374  74.74747475\n",
      "  75.75757576  76.76767677  77.77777778  78.78787879  79.7979798\n",
      "  80.80808081  81.81818182  82.82828283  83.83838384  84.84848485\n",
      "  85.85858586  86.86868687  87.87878788  88.88888889  89.8989899\n",
      "  90.90909091  91.91919192  92.92929293  93.93939394  94.94949495\n",
      "  95.95959596  96.96969697  97.97979798  98.98989899 100.        ]\n",
      "[ -94.22006549   90.03884482   85.82282387   23.11077422 -121.42211991\n",
      "  105.55507998  -77.30337319   49.75960858  226.0465141   -62.5851504\n",
      " -221.58189532 -214.93410382  385.65252475  259.41552025  388.73175288\n",
      "  100.820421   -214.49649935  301.73556346  294.32560627  327.2754934\n",
      "  -34.0610455   150.03513794   75.64521331   26.59301519  211.60377299\n",
      "  463.8589065   185.29459213 -115.69043438  -93.62683085 -177.71517413\n",
      " -162.82811942  180.49519195 -168.77984853  -11.69364258  362.13800032\n",
      "  149.35958373  321.21597794   -7.89859459   33.52945107  310.85935307\n",
      "  461.56168243  305.0534585    58.83621152   85.83396592  220.78963279\n",
      "  247.91535414   93.58188262   16.98774301  -86.10660219  -31.337829\n",
      "   39.72150281  445.23099648  138.98174111   49.58195123   33.07578766\n",
      "  113.7481606   112.59380033  117.71861228  334.80485482    7.18373397\n",
      " -272.97552174   54.85784567  209.26402969   66.50422953  477.84790372\n",
      " -301.86651833  -82.68490507  455.63623857  -69.70315419  107.86465854\n",
      "   41.65322324  -59.57547587  195.89048337  145.92402322  216.33198352\n",
      "   47.25665209  322.00478676  221.75527747  -12.92933791  453.22143385\n",
      "   68.7686181    12.5401342    15.18003828  -48.07022472 -123.80158116\n",
      "  269.2330751  -102.63830183  589.10321705  487.08888478 -221.23918804\n",
      "  469.79091951  231.44349715  564.72265811  236.03924804  148.21949814\n",
      "  284.46161599  163.10281483   92.74479052  368.92420565  388.82812261]\n"
     ]
    },
    {
     "data": {
      "text/plain": [
       "Text(0, 0.5, 'Y')"
      ]
     },
     "execution_count": 3,
     "metadata": {},
     "output_type": "execute_result"
    },
    {
     "data": {
      "image/png": "[encoded data removed]",
      "text/plain": [
       "<Figure size 432x288 with 1 Axes>"
      ]
     },
     "metadata": {
      "needs_background": "light"
     },
     "output_type": "display_data"
    }
   ],
   "source": [
    "import numpy as np\n",
    "import math\n",
    "from matplotlib import pyplot as plt\n",
    "\n",
    "x = np.linspace(0, 100, 100)\n",
    "a = ( np.random.rand() - 0.5 ) * 20          # losowa wartość a z zakresu [-10, 10]\n",
    "b = ( np.random.rand() - 0.5) * 2* math.pi   # losowa wartość b z zakresu [-pi, pi]\n",
    "\n",
    "y = a*x+b + np.random.normal(50, 200, 100)    # wartości y=ax+b z dodatkowym szumem o \n",
    "                                              # rozkładzie normalnym o średniej 50 i odchyleniu standowym 200\n",
    "\n",
    "print(x)\n",
    "print(y)\n",
    "\n",
    "plt.plot(x, y, 'bo')\n",
    "plt.xlabel(\"X\")\n",
    "plt.ylabel(\"Y\")\n"
   ]
  },
  {
   "cell_type": "markdown",
   "metadata": {},
   "source": [
    "### numpy - polyfit, czyli dopasowanie wielomianu n-tego stopnia"
   ]
  },
  {
   "cell_type": "code",
   "execution_count": 4,
   "metadata": {},
   "outputs": [
    {
     "name": "stdout",
     "output_type": "stream",
     "text": [
      "[ 1.5183256  46.14930343]\n"
     ]
    },
    {
     "data": {
      "text/plain": [
       "Text(0, 0.5, 'y')"
      ]
     },
     "execution_count": 4,
     "metadata": {},
     "output_type": "execute_result"
    },
    {
     "data": {
      "image/png": "[encoded data removed]",
      "text/plain": [
       "<Figure size 432x288 with 1 Axes>"
      ]
     },
     "metadata": {
      "needs_background": "light"
     },
     "output_type": "display_data"
    }
   ],
   "source": [
    "fit = np.polyfit(x, y, 1)  # dopasowujemy wielomian 1-go stopnia\n",
    "print(fit)\n",
    "\n",
    "fitted_a = fit[0]\n",
    "fitted_b = fit[1]\n",
    "\n",
    "fitted_y = fitted_a * x + fitted_b\n",
    "\n",
    "plt.plot(x, y, \"bo\", x, fitted_y, \"r-\")\n",
    "plt.xlabel(\"x\")\n",
    "plt.ylabel(\"y\")"
   ]
  },
  {
   "cell_type": "code",
   "execution_count": 5,
   "metadata": {},
   "outputs": [
    {
     "name": "stdout",
     "output_type": "stream",
     "text": [
      "Średnia z residuuów: 0\n"
     ]
    },
    {
     "data": {
      "image/png": "[encoded data removed]",
      "text/plain": [
       "<Figure size 432x288 with 1 Axes>"
      ]
     },
     "metadata": {
      "needs_background": "light"
     },
     "output_type": "display_data"
    }
   ],
   "source": [
    "residuals = y - fitted_y\n",
    "print(\"Średnia z residuuów: %d\" % (np.mean(residuals)))\n",
    "\n",
    "plt.plot(x, residuals)\n",
    "plt.xlabel('x')\n",
    "plt.ylabel(\"residua\")\n",
    "plt.grid(True)"
   ]
  },
  {
   "cell_type": "markdown",
   "metadata": {},
   "source": [
    "### numpy.polyfit - niepewność dopasowania"
   ]
  },
  {
   "cell_type": "markdown",
   "metadata": {},
   "source": [
    "Mamy możliwość zwrócenia macierzy kowariancji parametrów z wykonanego dopasowania.\n",
    "\n",
    "Odchylenia standardowe parametrów $a$ i $b$ dopasowania to pierwiastek ze zdiagonalizowanej macierzy kowariancji:\n",
    "\n",
    "$$ S = \\sqrt{diag(cov)} $$"
   ]
  },
  {
   "cell_type": "code",
   "execution_count": 6,
   "metadata": {},
   "outputs": [
    {
     "name": "stdout",
     "output_type": "stream",
     "text": [
      "[ 1.5183256  46.14930343]\n",
      "Wartość parametru a = 1\n",
      "Niepewność parametru a = 0\n",
      "Wartość parametru b = 46\n",
      "Niepewność parametru b  = 39\n"
     ]
    }
   ],
   "source": [
    "fit, cov = np.polyfit(x, y, 1, cov=True)  # dopasowujemy wielomian 1-go stopnia i żądamy zwrócenia macierzy kowariancji\n",
    "print(fit)\n",
    "\n",
    "fitted_a = fit[0]\n",
    "fitted_b = fit[1]\n",
    "\n",
    "uncertainty = np.sqrt(np.diag(cov))\n",
    "\n",
    "print( \"Wartość parametru a = %d\" % fitted_a )\n",
    "print( \"Niepewność parametru a = %d\" % uncertainty[0] )\n",
    "print( \"Wartość parametru b = %d\" % fitted_b )\n",
    "print( \"Niepewność parametru b  = %d\" % uncertainty[1] )"
   ]
  },
  {
   "cell_type": "markdown",
   "metadata": {},
   "source": [
    "### scipy - dopasowanie krzywej wraz z niepewnościami"
   ]
  },
  {
   "cell_type": "code",
   "execution_count": 7,
   "metadata": {},
   "outputs": [
    {
     "name": "stdout",
     "output_type": "stream",
     "text": [
      "Wartość parametru a = 1\n",
      "Niepewność parametru a = 0\n",
      "Wartość parametru b = 46\n",
      "Niepewność parametru b  = 39\n"
     ]
    },
    {
     "data": {
      "text/plain": [
       "[<matplotlib.lines.Line2D at 0x7f81831a6a50>,\n",
       " <matplotlib.lines.Line2D at 0x7f8184f14190>]"
      ]
     },
     "execution_count": 7,
     "metadata": {},
     "output_type": "execute_result"
    },
    {
     "data": {
      "image/png": "[encoded data removed]",
      "text/plain": [
       "<Figure size 432x288 with 1 Axes>"
      ]
     },
     "metadata": {
      "needs_background": "light"
     },
     "output_type": "display_data"
    }
   ],
   "source": [
    "import matplotlib.pyplot as plt\n",
    "from scipy.optimize import curve_fit\n",
    "\n",
    "def f(x, a, b):\n",
    "    return a*x + b\n",
    "\n",
    "fit_sp, cov_sp = curve_fit(f, x, y)\n",
    "\n",
    "a_fit = fit_sp[0]\n",
    "b_fit = fit_sp[1]\n",
    "\n",
    "uncertainty_sp = np.sqrt(np.diag(cov_sp))\n",
    "\n",
    "print( \"Wartość parametru a = %d\" % a_fit )\n",
    "print( \"Niepewność parametru a = %d\" % uncertainty_sp[0] )\n",
    "print( \"Wartość parametru b = %d\" % b_fit )\n",
    "print( \"Niepewność parametru b  = %d\" % uncertainty_sp[1] )\n",
    "\n",
    "plt.plot(x, y, 'bo', x, a_fit*x+b, 'r-')\n"
   ]
  },
  {
   "cell_type": "markdown",
   "metadata": {},
   "source": [
    "## Regresja w Data Mining"
   ]
  },
  {
   "cell_type": "markdown",
   "metadata": {},
   "source": [
    "### Multiple Linear Regression (MLR)"
   ]
  },
  {
   "cell_type": "markdown",
   "metadata": {},
   "source": [
    "MLP jest standardowo stosowaną metodą do dopasowania modelu do danych treningowych. Zakłada ona, że posiadamy treningowy zbiór wartości (np. wyodrębniony z całego zbioru danych) i na jego podstawie uczymy model odpowiednich parametrów, a następnie aplikujemy model z wyuczonymi parametrami na zbiorze testowym. Funkcja regresji ma postać $f(X, w) = X^Tw + w_0$. Algorytm zakłada minimalizację funkcję strat na zbiorze treningowym $\\{X_i, y_i\\}^N_{i=1}$:\n",
    "\n",
    "$$ L(y, f(X, w)) = \\sum_{i=1}^N || y_i - X_iw - w_0 ||^2, $$\n",
    "\n",
    "gdzie $w$ jest nachyleniem prostej a $w_0$ przecięciem wykresu z osią Y. Są to więc parametry, które mają zostać dopasowane.\n",
    "\n",
    "MLP zakłada następujące kroki działania:\n",
    "\n",
    "1. Podział zbioru danych na zbiór treningowy i zbiór testowy}\n",
    "2. Dopasowanie MLP do zbioru treningowego\n",
    "3. Wykorzystanie parametrów do opisania zbioru testowego\n",
    "4. Ocena jakości dopasowania\n",
    "5. Wizualizacja wyników\n",
    "\n",
    "Jakość dopasowania jest w tym przypadku określana poprzez następujące parametry:\n",
    "\n",
    "1. Błąd średniokwadratowy RMSE (ang. Root Mean Squared Error):\n",
    "\n",
    "$$ RMSE = \\sqrt{ \\frac{\\sum_{i=1}^N (\\hat{y}_i - y_i)^2}{N}},$$\n",
    "\n",
    "gdzie: $N$ - liczba próbek w zbiorze testowym, $\\hat{y}_i$ - wartość dopasowanej modelowej funkcji dla $i-tego$ parametru, $y_i$ - wartość dla $i-tego$ parametru w zbiorze testowym.\n",
    "\n",
    "2. Współczynnik determinacji $R^2$ (R-squared):\n",
    "\n",
    "$$ R^2 = \\frac{\\sum_{i=1}^{N} (\\hat{y}_i - \\bar{y} )^2}{ \\sum_{i=1}^{N} (y_i - \\bar{y} )^2}, $$\n",
    "\n",
    "gdzie : $\\bar{y}_i$ to wartość średnia wartości w zbiorze testowym.\n",
    "\n",
    "W związku z tym - dążymy do mimimalizacji błędu średniokwadratowego i maksymalizacji współczynnika determinacji. RMSE powinien być jak nabardziej bliski zeru, a R-squared jak najbardziej bliski jedności."
   ]
  },
  {
   "cell_type": "markdown",
   "metadata": {},
   "source": [
    "#### Krok 1 - podział zbioru na dwie części"
   ]
  },
  {
   "cell_type": "code",
   "execution_count": 8,
   "metadata": {},
   "outputs": [],
   "source": [
    "import random \n",
    "import math\n",
    "\n",
    "train_len = math.floor(0.25 * len(x))\n",
    "test_len = len(x) - train_len\n",
    "\n",
    "# w przypadku danych, które wcześniej wygenerowaliśmy to zadziała poprawnie, \n",
    "# ale w ogólności lepiej nie wybierać zbyt długich ciągów, a dane przetasować\n",
    "\n",
    "#X_train = x[:-numTest]\n",
    "#X_test = x[-numTest:]\n",
    "#Y_train = y[:-numTest]\n",
    "#Y_test = y[-numTest:]\n",
    "\n",
    "# tak będzie zdecydowanie bardziej miarodajnie\n",
    "\n",
    "#X_train = random.choices(x, k=train_len) # tutaj mogą być powtórzenia\n",
    "X_train = random.sample(np.array(x).tolist(), train_len) # a tutaj powtórzeń nie będzie\n",
    "X_train.sort()\n",
    "indexes = [x.tolist().index(s) for s in x if s in X_train ]\n",
    "Y_train = y[indexes]\n",
    "\n",
    "X_test = [s for s in x if s not in X_train]\n",
    "indexes = [x.tolist().index(s) for s in x if s not in X_train ]\n",
    "Y_test = y[indexes]\n",
    "\n",
    "# na koniec powróćmy do numpy.array, bo przecież konwertowaliśmy wszystko na zwykłe listy (krok niekonieczny)\n",
    "\n",
    "X_train = np.array(X_train) \n",
    "y_train = np.array(Y_train)\n",
    "X_test = np.array(X_test)\n",
    "Y_test = np.array(Y_test)"
   ]
  },
  {
   "cell_type": "markdown",
   "metadata": {},
   "source": [
    "#### Krok 2 - Dopasowanie modelu liniowego do danych treningowych"
   ]
  },
  {
   "cell_type": "code",
   "execution_count": 9,
   "metadata": {},
   "outputs": [
    {
     "data": {
      "text/plain": [
       "LinearRegression(copy_X=True, fit_intercept=True, n_jobs=None, normalize=False)"
      ]
     },
     "execution_count": 9,
     "metadata": {},
     "output_type": "execute_result"
    }
   ],
   "source": [
    "from sklearn import linear_model\n",
    "from sklearn.metrics import mean_squared_error, r2_score\n",
    "\n",
    "regression = linear_model.LinearRegression() #stworzenie modelu liniowego\n",
    "regression.fit(X_train.reshape(-1, 1), Y_train) # X.reshape(-1, 1), ponieważ mamy jedną cechę w zbiorze (docsy linerar_model.LinearRegression)"
   ]
  },
  {
   "cell_type": "markdown",
   "metadata": {},
   "source": [
    "#### Krok 3 - zastosowanie nauczonego modelu do danych testowych"
   ]
  },
  {
   "cell_type": "code",
   "execution_count": 10,
   "metadata": {},
   "outputs": [],
   "source": [
    "y_oszacowanie = regression.predict(X_test.reshape(-1, 1))"
   ]
  },
  {
   "cell_type": "markdown",
   "metadata": {},
   "source": [
    "#### Krok 4 - Ocena jakości dopasowania danych testowych do modelu wyznaczonego na podstawie zbioru treningowego"
   ]
  },
  {
   "cell_type": "code",
   "execution_count": 11,
   "metadata": {},
   "outputs": [
    {
     "name": "stdout",
     "output_type": "stream",
     "text": [
      "Błąd średniokwadratowy (RMSE) = 189.6803\n",
      "R-squared = 0.0482\n"
     ]
    },
    {
     "data": {
      "image/png": "[encoded data removed]",
      "text/plain": [
       "<Figure size 432x288 with 1 Axes>"
      ]
     },
     "metadata": {
      "needs_background": "light"
     },
     "output_type": "display_data"
    }
   ],
   "source": [
    "import matplotlib.pyplot as plt\n",
    "\n",
    "plt.scatter(Y_test, y_oszacowanie, color='black')\n",
    "plt.title('Porównanie danych ze zbioru testowego z danymi oszacowanymi na podstawie nauczonego modelu')\n",
    "plt.xlabel('Y ze zbioru testowego')\n",
    "plt.ylabel('Y oszacowane')\n",
    "plt.grid(True)\n",
    "\n",
    "# Ewaluacja modelu\n",
    "print(\"Błąd średniokwadratowy (RMSE) = %.4f\" % np.sqrt(mean_squared_error(Y_test, y_oszacowanie)))\n",
    "print('R-squared = %.4f' % r2_score(Y_test, y_oszacowanie))"
   ]
  },
  {
   "cell_type": "code",
   "execution_count": 12,
   "metadata": {},
   "outputs": [
    {
     "data": {
      "image/png": "[encoded data removed]",
      "text/plain": [
       "<Figure size 432x288 with 1 Axes>"
      ]
     },
     "metadata": {
      "needs_background": "light"
     },
     "output_type": "display_data"
    }
   ],
   "source": [
    "plt.plot(X_test, Y_test - y_oszacowanie)\n",
    "plt.title(\"Wykres residuów\")\n",
    "plt.xlabel(\"X\")\n",
    "plt.ylabel(\"Residua\")\n",
    "plt.grid(True)"
   ]
  },
  {
   "cell_type": "markdown",
   "metadata": {},
   "source": [
    "#### Krok 5 - postprocessing"
   ]
  },
  {
   "cell_type": "code",
   "execution_count": 13,
   "metadata": {},
   "outputs": [
    {
     "name": "stdout",
     "output_type": "stream",
     "text": [
      "Nachylenie =  0.9371846746818646\n",
      "Przecięcie z osią Y =  84.73912626760202\n"
     ]
    },
    {
     "data": {
      "text/plain": [
       "Text(0, 0.5, 'y')"
      ]
     },
     "execution_count": 13,
     "metadata": {},
     "output_type": "execute_result"
    },
    {
     "data": {
      "image/png": "[encoded data removed]",
      "text/plain": [
       "<Figure size 432x288 with 1 Axes>"
      ]
     },
     "metadata": {
      "needs_background": "light"
     },
     "output_type": "display_data"
    }
   ],
   "source": [
    "print('Nachylenie = ', regression.coef_[0])\n",
    "print('Przecięcie z osią Y = ', regression.intercept_)\n",
    "\n",
    "plt.scatter(X_test, Y_test,  color='black')\n",
    "plt.scatter(X_train, Y_train, color=\"blue\")\n",
    "plt.plot(X_test, y_oszacowanie, color='blue', linewidth=3)\n",
    "titlestr = 'Oszacowana funkcja: y = %.2fX + %.2f' % (regression.coef_[0], regression.intercept_)\n",
    "plt.title(titlestr)\n",
    "plt.xlabel('X')\n",
    "plt.ylabel('y')"
   ]
  },
  {
   "cell_type": "markdown",
   "metadata": {},
   "source": [
    "### Wpływ korelacji na wyniki dopasowania"
   ]
  },
  {
   "cell_type": "code",
   "execution_count": 14,
   "metadata": {},
   "outputs": [
    {
     "data": {
      "image/png": "[encoded data removed]",
      "text/plain": [
       "<Figure size 864x648 with 4 Axes>"
      ]
     },
     "metadata": {
      "needs_background": "light"
     },
     "output_type": "display_data"
    }
   ],
   "source": [
    "seed = 1\n",
    "numInstances = 200\n",
    "numTrain = 20   # number of training instances\n",
    "numTest = numInstances - numTrain\n",
    "\n",
    "np.random.seed(seed)\n",
    "X = np.random.rand(numInstances,1).reshape(-1,1)\n",
    "y_true = -3*X + 1 \n",
    "y = y_true + np.random.normal(size=numInstances).reshape(-1,1)\n",
    "\n",
    "X2 = 0.5*X + np.random.normal(0, 0.04, size=numInstances).reshape(-1,1)\n",
    "X3 = 0.5*X2 + np.random.normal(0, 0.01, size=numInstances).reshape(-1,1)\n",
    "X4 = 0.5*X3 + np.random.normal(0, 0.01, size=numInstances).reshape(-1,1)\n",
    "X5 = 0.5*X4 + np.random.normal(0, 0.01, size=numInstances).reshape(-1,1)\n",
    "\n",
    "fig, ((ax1, ax2),(ax3,ax4)) = plt.subplots(2, 2, figsize=(12,9))\n",
    "ax1.scatter(X, X2, color='black')\n",
    "ax1.set_xlabel('X')\n",
    "ax1.set_ylabel('X2')\n",
    "c = np.corrcoef(np.column_stack((X[:-numTest],X2[:-numTest])).T)\n",
    "titlestr = 'Korelacja pomiędzy X and X2 = %.4f' % (c[0,1])\n",
    "ax1.set_title(titlestr)\n",
    "\n",
    "ax2.scatter(X2, X3, color='black')\n",
    "ax2.set_xlabel('X2')\n",
    "ax2.set_ylabel('X3')\n",
    "c = np.corrcoef(np.column_stack((X2[:-numTest],X3[:-numTest])).T)\n",
    "titlestr = 'Korelacja pomiędzy X2 and X3 = %.4f' % (c[0,1])\n",
    "ax2.set_title(titlestr)\n",
    "\n",
    "ax3.scatter(X3, X4, color='black')\n",
    "ax3.set_xlabel('X3')\n",
    "ax3.set_ylabel('X4')\n",
    "c = np.corrcoef(np.column_stack((X3[:-numTest],X4[:-numTest])).T)\n",
    "titlestr = 'Korelacja pomiędzy X3 and X4 = %.4f' % (c[0,1])\n",
    "ax3.set_title(titlestr)\n",
    "\n",
    "ax4.scatter(X4, X5, color='black')\n",
    "ax4.set_xlabel('X4')\n",
    "ax4.set_ylabel('X5')\n",
    "c = np.corrcoef(np.column_stack((X4[:-numTest],X5[:-numTest])).T)\n",
    "titlestr = 'Korelacja pomiędzy X4 and X5 = %.4f' % (c[0,1])\n",
    "ax4.set_title(titlestr)\n",
    "\n",
    "plt.tight_layout(pad=1.0)"
   ]
  },
  {
   "cell_type": "markdown",
   "metadata": {},
   "source": [
    "Stwórzmy teraz silnie skorelowane zbiory i podzielmy je na zbiory treningowe i testowe. Niech zbiory oznaczone jako X_trainN mają N skorelowanych ze sobą zmiennych.\n",
    "\n",
    "Następnie przeprowadźmy procedurę nauczenia modeli liniowych na tak skonstruowanych zbiorach i sprawdźmy jak dobrze lub jak źle opisują one dane testowe."
   ]
  },
  {
   "cell_type": "code",
   "execution_count": 15,
   "metadata": {},
   "outputs": [],
   "source": [
    "X_train2 = np.column_stack((X[:-numTest],X2[:-numTest]))\n",
    "X_test2 = np.column_stack((X[-numTest:],X2[-numTest:]))\n",
    "X_train3 = np.column_stack((X[:-numTest],X2[:-numTest],X3[:-numTest]))\n",
    "X_test3 = np.column_stack((X[-numTest:],X2[-numTest:],X3[-numTest:]))\n",
    "X_train4 = np.column_stack((X[:-numTest],X2[:-numTest],X3[:-numTest],X4[:-numTest]))\n",
    "X_test4 = np.column_stack((X[-numTest:],X2[-numTest:],X3[-numTest:],X4[-numTest:]))\n",
    "X_train5 = np.column_stack((X[:-numTest],X2[:-numTest],X3[:-numTest],X4[:-numTest],X5[:-numTest]))\n",
    "X_test5 = np.column_stack((X[-numTest:],X2[-numTest:],X3[-numTest:],X4[-numTest:],X5[-numTest:]))\n",
    "\n",
    "X_train = X[:-numTest]\n",
    "X_test = X[-numTest:]\n",
    "y_train = y[:-numTest]\n",
    "y_test = y[-numTest:]\n",
    "\n",
    "regr = linear_model.LinearRegression()\n",
    "regr.fit(X_train, y_train)\n",
    "\n",
    "regr2 = linear_model.LinearRegression()\n",
    "regr2.fit(X_train2, y_train)\n",
    "\n",
    "regr3 = linear_model.LinearRegression()\n",
    "regr3.fit(X_train3, y_train)\n",
    "\n",
    "regr4 = linear_model.LinearRegression()\n",
    "regr4.fit(X_train4, y_train)\n",
    "\n",
    "regr5 = linear_model.LinearRegression()\n",
    "regr5.fit(X_train5, y_train)\n",
    "\n",
    "y_pred_train = regr.predict(X_train)\n",
    "y_pred_test = regr.predict(X_test)\n",
    "y_pred_train2 = regr2.predict(X_train2)\n",
    "y_pred_test2 = regr2.predict(X_test2)\n",
    "y_pred_train3 = regr3.predict(X_train3)\n",
    "y_pred_test3 = regr3.predict(X_test3)\n",
    "y_pred_train4 = regr4.predict(X_train4)\n",
    "y_pred_test4 = regr4.predict(X_test4)\n",
    "y_pred_train5 = regr5.predict(X_train5)\n",
    "y_pred_test5 = regr5.predict(X_test5)"
   ]
  },
  {
   "cell_type": "markdown",
   "metadata": {},
   "source": [
    "Aby ułatwić interpretowanie danych stwórzmy DataFrame z podsumowaniem - wyznaczymy błąd treningowy, błąd testowy i sumę wag absolutnych dla dopasowanych parametrów.\n",
    "\n",
    "Wagi te zdefiniowane są jako $ \\sum_{i=0}^N |w_i| $, gdzie $N$ jest liczbą szacowanych atrubutów."
   ]
  },
  {
   "cell_type": "code",
   "execution_count": 16,
   "metadata": {},
   "outputs": [
    {
     "data": {
      "text/html": [
       "<div>\n",
       "<style scoped>\n",
       "    .dataframe tbody tr th:only-of-type {\n",
       "        vertical-align: middle;\n",
       "    }\n",
       "\n",
       "    .dataframe tbody tr th {\n",
       "        vertical-align: top;\n",
       "    }\n",
       "\n",
       "    .dataframe thead th {\n",
       "        text-align: right;\n",
       "    }\n",
       "</style>\n",
       "<table border=\"1\" class=\"dataframe\">\n",
       "  <thead>\n",
       "    <tr style=\"text-align: right;\">\n",
       "      <th></th>\n",
       "      <th>Model</th>\n",
       "      <th>Błąd treningowy</th>\n",
       "      <th>Błąd testowy</th>\n",
       "      <th>Suma wag absolutnych</th>\n",
       "    </tr>\n",
       "  </thead>\n",
       "  <tbody>\n",
       "    <tr>\n",
       "      <th>0</th>\n",
       "      <td>-3.24 X + 1.08</td>\n",
       "      <td>0.891873</td>\n",
       "      <td>1.047626</td>\n",
       "      <td>4.322954</td>\n",
       "    </tr>\n",
       "    <tr>\n",
       "      <th>1</th>\n",
       "      <td>0.03 X + -6.86 X2 + 1.12</td>\n",
       "      <td>0.868668</td>\n",
       "      <td>1.098603</td>\n",
       "      <td>8.004178</td>\n",
       "    </tr>\n",
       "    <tr>\n",
       "      <th>2</th>\n",
       "      <td>0.05 X + -6.14 X2 + -1.49 X3 + 1.12</td>\n",
       "      <td>0.868454</td>\n",
       "      <td>1.100347</td>\n",
       "      <td>8.796458</td>\n",
       "    </tr>\n",
       "    <tr>\n",
       "      <th>3</th>\n",
       "      <td>0.07 X + -6.23 X2 + -1.87 X3 + 1.12 X4 + 1.11</td>\n",
       "      <td>0.868395</td>\n",
       "      <td>1.099760</td>\n",
       "      <td>10.404153</td>\n",
       "    </tr>\n",
       "    <tr>\n",
       "      <th>4</th>\n",
       "      <td>0.22 X + -6.42 X2 + -2.47 X3 + 0.06 X4 + 3.51 ...</td>\n",
       "      <td>0.868060</td>\n",
       "      <td>1.105485</td>\n",
       "      <td>13.793117</td>\n",
       "    </tr>\n",
       "  </tbody>\n",
       "</table>\n",
       "</div>"
      ],
      "text/plain": [
       "                                               Model  Błąd treningowy  \\\n",
       "0                                     -3.24 X + 1.08         0.891873   \n",
       "1                           0.03 X + -6.86 X2 + 1.12         0.868668   \n",
       "2                0.05 X + -6.14 X2 + -1.49 X3 + 1.12         0.868454   \n",
       "3      0.07 X + -6.23 X2 + -1.87 X3 + 1.12 X4 + 1.11         0.868395   \n",
       "4  0.22 X + -6.42 X2 + -2.47 X3 + 0.06 X4 + 3.51 ...         0.868060   \n",
       "\n",
       "   Błąd testowy  Suma wag absolutnych  \n",
       "0      1.047626              4.322954  \n",
       "1      1.098603              8.004178  \n",
       "2      1.100347              8.796458  \n",
       "3      1.099760             10.404153  \n",
       "4      1.105485             13.793117  "
      ]
     },
     "execution_count": 16,
     "metadata": {},
     "output_type": "execute_result"
    },
    {
     "data": {
      "image/png": "[encoded data removed]",
      "text/plain": [
       "<Figure size 432x288 with 1 Axes>"
      ]
     },
     "metadata": {
      "needs_background": "light"
     },
     "output_type": "display_data"
    }
   ],
   "source": [
    "import pandas as pd\n",
    "import matplotlib.pyplot as plt\n",
    "\n",
    "columns = ['Model', 'Błąd treningowy', 'Błąd testowy', 'Suma wag absolutnych']\n",
    "model1 = \"%.2f X + %.2f\" % (regr.coef_[0][0], regr.intercept_[0])\n",
    "values1 = [ model1, np.sqrt(mean_squared_error(y_train, y_pred_train)), \n",
    "           np.sqrt(mean_squared_error(y_test, y_pred_test)),\n",
    "           np.absolute(regr.coef_[0]).sum() + np.absolute(regr.intercept_[0])]\n",
    "\n",
    "model2 = \"%.2f X + %.2f X2 + %.2f\" % (regr2.coef_[0][0], regr2.coef_[0][1], regr2.intercept_[0])\n",
    "values2 = [ model2, np.sqrt(mean_squared_error(y_train, y_pred_train2)), \n",
    "           np.sqrt(mean_squared_error(y_test, y_pred_test2)),\n",
    "           np.absolute(regr2.coef_[0]).sum() + np.absolute(regr2.intercept_[0])]\n",
    "\n",
    "model3 = \"%.2f X + %.2f X2 + %.2f X3 + %.2f\" % (regr3.coef_[0][0], regr3.coef_[0][1], \n",
    "                                                regr3.coef_[0][2], regr3.intercept_[0])\n",
    "values3 = [ model3, np.sqrt(mean_squared_error(y_train, y_pred_train3)), \n",
    "           np.sqrt(mean_squared_error(y_test, y_pred_test3)),\n",
    "           np.absolute(regr3.coef_[0]).sum() + np.absolute(regr3.intercept_[0])]\n",
    "\n",
    "model4 = \"%.2f X + %.2f X2 + %.2f X3 + %.2f X4 + %.2f\" % (regr4.coef_[0][0], regr4.coef_[0][1], \n",
    "                                        regr4.coef_[0][2], regr4.coef_[0][3], regr4.intercept_[0])\n",
    "values4 = [ model4, np.sqrt(mean_squared_error(y_train, y_pred_train4)), \n",
    "           np.sqrt(mean_squared_error(y_test, y_pred_test4)),\n",
    "           np.absolute(regr4.coef_[0]).sum() + np.absolute(regr4.intercept_[0])]\n",
    "\n",
    "model5 = \"%.2f X + %.2f X2 + %.2f X3 + %.2f X4 + %.2f X5 + %.2f\" % (regr5.coef_[0][0], \n",
    "                                        regr5.coef_[0][1], regr5.coef_[0][2], \n",
    "                                        regr5.coef_[0][3], regr5.coef_[0][4], regr5.intercept_[0])\n",
    "values5 = [ model5, np.sqrt(mean_squared_error(y_train, y_pred_train5)), \n",
    "           np.sqrt(mean_squared_error(y_test, y_pred_test5)),\n",
    "           np.absolute(regr5.coef_[0]).sum() + np.absolute(regr5.intercept_[0])]\n",
    "\n",
    "results = pd.DataFrame([values1, values2, values3, values4, values5], columns=columns)\n",
    "\n",
    "plt.plot(results['Suma wag absolutnych'], results['Błąd treningowy'], 'ro-')\n",
    "plt.plot(results['Suma wag absolutnych'], results['Błąd testowy'], 'k*--')\n",
    "plt.legend(['Błąd treningowy', 'Błąd testowy'])\n",
    "plt.xlabel('Suma wag absolutnych')\n",
    "plt.ylabel('Poziom błędów')\n",
    "\n",
    "results"
   ]
  },
  {
   "cell_type": "markdown",
   "metadata": {},
   "source": [
    "Na powyższym wykresie widać ciekawą zależność - błąd treningowy maleje, ale rośnie błąd testowy. Zjawisko te nazywane jest przeszacowaniem modelu (ang. model overfitting) - pomimo, że na danych treningowych lepiej nauczyliśmy nasz model, to gorzej opisuje on dane testowe. Zjawisko takie jest nieporządane i wynika zazwyczaj z zastosowania niepoprawnego modelu. \n",
    "\n",
    "W tym przypadku - dane wygenerowano jako funkcję $y(x) = -3x + 1$ z dodatkowym szumem o rozkładzie normalnym, a nie jako sumę kilku funkcji  liniowych. Z tego powodu - kontrolować należy złożoność modelu. Dobra praktyka nakazuje zaczynać od najprostszych modeli i stopniowo zwiększać liczbę parametrów wolnych dopasowania (jeśli oczywiście ma to sens, bo na samym początku warto zastanowić się nad sensownością modelu). "
   ]
  },
  {
   "cell_type": "markdown",
   "metadata": {},
   "source": [
    "### Regularyzjacja Tichonowa (ridge regression)"
   ]
  },
  {
   "cell_type": "markdown",
   "metadata": {},
   "source": [
    "Regularyzacja Tichonowa jest w ogólności metodą regularyzacji zagadnień źle uwarunkowanych. W swoim pierwotnym założeniu polegała ona na dodaniu do źle uwarunkowanego problemu pewnego członu, zwanego członem regularyzacyjnym. Jego zadaniem jest zniwelowanie wpływu uwarunkowania na wynik (np. ograniczenie oscylacji w okolicach wyniku itp.).\n",
    "\n",
    "Mając układ równań w postaci $Ax=b$, gdzie $A$ to macierz współczynników, $x$ to wektor niewiadomych, a $b$ to wektor rozwiązań, regularyzacja Tichonowa zakłada, że minimalizowana będzie wartość funkcjonału w postaci:\n",
    "\n",
    "$$ \\Pi = {Ax-b}^T{Ax-b} + \\alpha x^Tx, $$\n",
    "\n",
    "gdzie $\\alpha$ to parametr regularyzacyjny, zwany również współczynnikiem tłumienia, a $x^Tx$ to kwadrat długości wektora $x$.\n",
    "\n",
    "Wyznaczenie pochodnych cząstkowych funkcjonału $\\Pi$ po wektorze niewiadomych i przyrównanie ich do zera prowadzi do minimalnego rozwiązania w postaci:\n",
    "\n",
    "$$ x = [A^TA + \\alpha I]x, $$\n",
    "\n",
    "gdzie $I$ jest macierzą jednostkową. Dobór optymalnej wartości parametru regularyzacyjnego jest osobnym zagadnieniem (np. metoda L-curve).\n",
    "\n",
    "Problem regularyzacji Tichonowa postawić można również w formaliźmie macierzowym, wykorzystując macierz regularyzacji. Minimalizowany jest wtedy funkcjonał $\\Pi$ w postaci:\n",
    "\n",
    "$$ \\Pi = {Ax-b}^T{Ax-b} + \\alpha[Rx]^T[Rx], $$\n",
    "\n",
    "gdzie: $R$ jest rzeczoną macierzą regularyzacji.\n",
    "\n",
    "Regularyzację Tichonowa wykorzystuje się w jednym z wariantów MLR, zwanym  regresją grzbietową (ang. ridge regression), minimalizując funkcję kosztu w postaci:\n",
    "\n",
    "$$ L_r(y, f(X, w)) = \\sum_{i=1}^N || y_i - X_iw - w_0||^2 + \\alpha[||w||^2 + w_0^2], $$\n",
    "\n",
    "gdzie $\\alpha$ jest parametrem regularyzacynym. \n",
    "\n",
    "Zobaczmy jak działa zmodyfikowana postać metody MLP na tych samych danych, na których testowaliśmy wpływ korelacji na wynik dopasowania. "
   ]
  },
  {
   "cell_type": "code",
   "execution_count": 18,
   "metadata": {},
   "outputs": [
    {
     "data": {
      "text/html": [
       "<div>\n",
       "<style scoped>\n",
       "    .dataframe tbody tr th:only-of-type {\n",
       "        vertical-align: middle;\n",
       "    }\n",
       "\n",
       "    .dataframe tbody tr th {\n",
       "        vertical-align: top;\n",
       "    }\n",
       "\n",
       "    .dataframe thead th {\n",
       "        text-align: right;\n",
       "    }\n",
       "</style>\n",
       "<table border=\"1\" class=\"dataframe\">\n",
       "  <thead>\n",
       "    <tr style=\"text-align: right;\">\n",
       "      <th></th>\n",
       "      <th>Model</th>\n",
       "      <th>Błąd treningowy</th>\n",
       "      <th>Błąd testowy</th>\n",
       "      <th>Suma wag absolutnych</th>\n",
       "    </tr>\n",
       "  </thead>\n",
       "  <tbody>\n",
       "    <tr>\n",
       "      <th>0</th>\n",
       "      <td>-3.24 X + 1.08</td>\n",
       "      <td>0.891873</td>\n",
       "      <td>1.047626</td>\n",
       "      <td>4.322954</td>\n",
       "    </tr>\n",
       "    <tr>\n",
       "      <th>1</th>\n",
       "      <td>0.03 X + -6.86 X2 + 1.12</td>\n",
       "      <td>0.868668</td>\n",
       "      <td>1.098603</td>\n",
       "      <td>8.004178</td>\n",
       "    </tr>\n",
       "    <tr>\n",
       "      <th>2</th>\n",
       "      <td>0.05 X + -6.14 X2 + -1.49 X3 + 1.12</td>\n",
       "      <td>0.868454</td>\n",
       "      <td>1.100347</td>\n",
       "      <td>8.796458</td>\n",
       "    </tr>\n",
       "    <tr>\n",
       "      <th>3</th>\n",
       "      <td>0.07 X + -6.23 X2 + -1.87 X3 + 1.12 X4 + 1.11</td>\n",
       "      <td>0.868395</td>\n",
       "      <td>1.099760</td>\n",
       "      <td>10.404153</td>\n",
       "    </tr>\n",
       "    <tr>\n",
       "      <th>4</th>\n",
       "      <td>0.22 X + -6.42 X2 + -2.47 X3 + 0.06 X4 + 3.51 ...</td>\n",
       "      <td>0.868060</td>\n",
       "      <td>1.105485</td>\n",
       "      <td>13.793117</td>\n",
       "    </tr>\n",
       "    <tr>\n",
       "      <th>Ridge</th>\n",
       "      <td>-1.88 X + -1.13 X2 + -0.58 X3 + -0.26 X4 + -0....</td>\n",
       "      <td>0.896361</td>\n",
       "      <td>1.054633</td>\n",
       "      <td>4.858384</td>\n",
       "    </tr>\n",
       "  </tbody>\n",
       "</table>\n",
       "</div>"
      ],
      "text/plain": [
       "                                                   Model  Błąd treningowy  \\\n",
       "0                                         -3.24 X + 1.08         0.891873   \n",
       "1                               0.03 X + -6.86 X2 + 1.12         0.868668   \n",
       "2                    0.05 X + -6.14 X2 + -1.49 X3 + 1.12         0.868454   \n",
       "3          0.07 X + -6.23 X2 + -1.87 X3 + 1.12 X4 + 1.11         0.868395   \n",
       "4      0.22 X + -6.42 X2 + -2.47 X3 + 0.06 X4 + 3.51 ...         0.868060   \n",
       "Ridge  -1.88 X + -1.13 X2 + -0.58 X3 + -0.26 X4 + -0....         0.896361   \n",
       "\n",
       "       Błąd testowy  Suma wag absolutnych  \n",
       "0          1.047626              4.322954  \n",
       "1          1.098603              8.004178  \n",
       "2          1.100347              8.796458  \n",
       "3          1.099760             10.404153  \n",
       "4          1.105485             13.793117  \n",
       "Ridge      1.054633              4.858384  "
      ]
     },
     "execution_count": 18,
     "metadata": {},
     "output_type": "execute_result"
    }
   ],
   "source": [
    "from sklearn import linear_model\n",
    "\n",
    "ridge = linear_model.Ridge(alpha=0.4)\n",
    "ridge.fit(X_train5, y_train)\n",
    "y_pred_train_ridge = ridge.predict(X_train5)\n",
    "y_pred_test_ridge = ridge.predict(X_test5)\n",
    "\n",
    "model6 = \"%.2f X + %.2f X2 + %.2f X3 + %.2f X4 + %.2f X5 + %.2f\" % (ridge.coef_[0][0], \n",
    "                                        ridge.coef_[0][1], ridge.coef_[0][2], \n",
    "                                        ridge.coef_[0][3], ridge.coef_[0][4], ridge.intercept_[0])\n",
    "values6 = [ model6, np.sqrt(mean_squared_error(y_train, y_pred_train_ridge)), \n",
    "           np.sqrt(mean_squared_error(y_test, y_pred_test_ridge)),\n",
    "           np.absolute(ridge.coef_[0]).sum() + np.absolute(ridge.intercept_[0])]\n",
    "\n",
    "ridge_results = pd.DataFrame([values6], columns=columns, index=['Ridge'])\n",
    "pd.concat([results, ridge_results])"
   ]
  },
  {
   "cell_type": "markdown",
   "metadata": {},
   "source": [
    "Jak widać - suma absolutnych wag jest zbliżona do najprostszego modelu MLR. Wniosek jest więc następujący: korzystając z tej metody, zmieniając wartość parametru $\\alpha$ kontrolować można sumę wag, co przekłada się na błąd treningowy i błąd testowy zbliżony do tego, który otrzymany został podstawowym wariantem MLR, wykorzystującym model, zgodnie z którym wygenerowane zostały dane w zbiorach testowym i kontrolnym."
   ]
  },
  {
   "cell_type": "markdown",
   "metadata": {},
   "source": [
    "### Regresja lasso (ang. least absolute shrinkage and selection operator )"
   ]
  },
  {
   "cell_type": "markdown",
   "metadata": {},
   "source": [
    "Metoda lasso (również Lasso, LASSO) wykorzystywana jest jako metoda regresji, która wykorzystuje zarówno selekcję cech jak i regularyzację w celach minimalizacji błędu przewidywania modelu statystycznego, który otrzymywany jest jako wynik działania metody.\n",
    "\n",
    "W przypadku regresji, metoda lasso daje bardziej zwięzłe wyniki od regularyzacji Tichonowa i MLR - redukowany jest przez to wpływ przeszacowania modelu na ostateczny wynik dopasowania. Regresja lasso sprowadza się dominimalizacji funkcji kosztu w postaci:\n",
    "\n",
    "$$ L_{lasso}(y, f(X, w)) = \\sum_{i=1}^{N} || y_i - X_iw - w_0 ||^2 + \\alpha [||w|| + |w_0|].$$ \n",
    "\n",
    "Poniżej przedstawiono prówanie wyników regresji lasso z poprzednio stosowanymi metodami:"
   ]
  },
  {
   "cell_type": "code",
   "execution_count": 20,
   "metadata": {},
   "outputs": [
    {
     "data": {
      "text/html": [
       "<div>\n",
       "<style scoped>\n",
       "    .dataframe tbody tr th:only-of-type {\n",
       "        vertical-align: middle;\n",
       "    }\n",
       "\n",
       "    .dataframe tbody tr th {\n",
       "        vertical-align: top;\n",
       "    }\n",
       "\n",
       "    .dataframe thead th {\n",
       "        text-align: right;\n",
       "    }\n",
       "</style>\n",
       "<table border=\"1\" class=\"dataframe\">\n",
       "  <thead>\n",
       "    <tr style=\"text-align: right;\">\n",
       "      <th></th>\n",
       "      <th>Model</th>\n",
       "      <th>Błąd treningowy</th>\n",
       "      <th>Błąd testowy</th>\n",
       "      <th>Suma wag absolutnych</th>\n",
       "    </tr>\n",
       "  </thead>\n",
       "  <tbody>\n",
       "    <tr>\n",
       "      <th>0</th>\n",
       "      <td>-3.24 X + 1.08</td>\n",
       "      <td>0.891873</td>\n",
       "      <td>1.047626</td>\n",
       "      <td>4.322954</td>\n",
       "    </tr>\n",
       "    <tr>\n",
       "      <th>1</th>\n",
       "      <td>0.03 X + -6.86 X2 + 1.12</td>\n",
       "      <td>0.868668</td>\n",
       "      <td>1.098603</td>\n",
       "      <td>8.004178</td>\n",
       "    </tr>\n",
       "    <tr>\n",
       "      <th>2</th>\n",
       "      <td>0.05 X + -6.14 X2 + -1.49 X3 + 1.12</td>\n",
       "      <td>0.868454</td>\n",
       "      <td>1.100347</td>\n",
       "      <td>8.796458</td>\n",
       "    </tr>\n",
       "    <tr>\n",
       "      <th>3</th>\n",
       "      <td>0.07 X + -6.23 X2 + -1.87 X3 + 1.12 X4 + 1.11</td>\n",
       "      <td>0.868395</td>\n",
       "      <td>1.099760</td>\n",
       "      <td>10.404153</td>\n",
       "    </tr>\n",
       "    <tr>\n",
       "      <th>4</th>\n",
       "      <td>0.22 X + -6.42 X2 + -2.47 X3 + 0.06 X4 + 3.51 ...</td>\n",
       "      <td>0.868060</td>\n",
       "      <td>1.105485</td>\n",
       "      <td>13.793117</td>\n",
       "    </tr>\n",
       "    <tr>\n",
       "      <th>Ridge</th>\n",
       "      <td>-1.88 X + -1.13 X2 + -0.58 X3 + -0.26 X4 + -0....</td>\n",
       "      <td>0.896361</td>\n",
       "      <td>1.054633</td>\n",
       "      <td>4.858384</td>\n",
       "    </tr>\n",
       "    <tr>\n",
       "      <th>Lasso</th>\n",
       "      <td>-2.90 X + -0.00 X2 + -0.00 X3 + -0.00 X4 + -0....</td>\n",
       "      <td>0.895692</td>\n",
       "      <td>1.043334</td>\n",
       "      <td>3.856242</td>\n",
       "    </tr>\n",
       "  </tbody>\n",
       "</table>\n",
       "</div>"
      ],
      "text/plain": [
       "                                                   Model  Błąd treningowy  \\\n",
       "0                                         -3.24 X + 1.08         0.891873   \n",
       "1                               0.03 X + -6.86 X2 + 1.12         0.868668   \n",
       "2                    0.05 X + -6.14 X2 + -1.49 X3 + 1.12         0.868454   \n",
       "3          0.07 X + -6.23 X2 + -1.87 X3 + 1.12 X4 + 1.11         0.868395   \n",
       "4      0.22 X + -6.42 X2 + -2.47 X3 + 0.06 X4 + 3.51 ...         0.868060   \n",
       "Ridge  -1.88 X + -1.13 X2 + -0.58 X3 + -0.26 X4 + -0....         0.896361   \n",
       "Lasso  -2.90 X + -0.00 X2 + -0.00 X3 + -0.00 X4 + -0....         0.895692   \n",
       "\n",
       "       Błąd testowy  Suma wag absolutnych  \n",
       "0          1.047626              4.322954  \n",
       "1          1.098603              8.004178  \n",
       "2          1.100347              8.796458  \n",
       "3          1.099760             10.404153  \n",
       "4          1.105485             13.793117  \n",
       "Ridge      1.054633              4.858384  \n",
       "Lasso      1.043334              3.856242  "
      ]
     },
     "execution_count": 20,
     "metadata": {},
     "output_type": "execute_result"
    }
   ],
   "source": [
    "from sklearn import linear_model\n",
    "\n",
    "lasso = linear_model.Lasso(alpha=0.02)\n",
    "lasso.fit(X_train5, y_train)\n",
    "y_pred_train_lasso = lasso.predict(X_train5)\n",
    "y_pred_test_lasso = lasso.predict(X_test5)\n",
    "\n",
    "model7 = \"%.2f X + %.2f X2 + %.2f X3 + %.2f X4 + %.2f X5 + %.2f\" % (lasso.coef_[0], \n",
    "                                        lasso.coef_[1], lasso.coef_[2], \n",
    "                                        lasso.coef_[3], lasso.coef_[4], lasso.intercept_[0])\n",
    "values7 = [ model7, np.sqrt(mean_squared_error(y_train, y_pred_train_lasso)), \n",
    "           np.sqrt(mean_squared_error(y_test, y_pred_test_lasso)),\n",
    "           np.absolute(lasso.coef_[0]).sum() + np.absolute(lasso.intercept_[0])]\n",
    "\n",
    "lasso_results = pd.DataFrame([values7], columns=columns, index=['Lasso'])\n",
    "pd.concat([results, ridge_results, lasso_results])"
   ]
  },
  {
   "cell_type": "markdown",
   "metadata": {},
   "source": [
    "Jak łatwo zauważyć - suma wag absolutnych spadła jeszcze bardziej, a dodatkowo zniwelowany został efekt przeszacowania modelu - współczyniki przy X2, X3, X4 i X5 są równe zero. W wyniku uczenia modelu na zbiorze treningowym otrzymano błąd treningowy zbliżony do tego z MLR bez skorelowanych próbek i niski błąd testowy - również porównywalny, a nawet nieco niższy, jak w przypadku najprostszego modelu."
   ]
  },
  {
   "cell_type": "markdown",
   "metadata": {},
   "source": [
    "### Wybór parametru $\\alpha$"
   ]
  },
  {
   "cell_type": "markdown",
   "metadata": {},
   "source": [
    "Jednym z podstawowych problemów przy regresji grzbietowej i przy zastosowaniu metody lasso jest wybór najbardziej optymalnego parametru $\\alpha$. W obu przypadkach - $\\alpha = 0$ prowadzi do metody MLR. Źle dobrany parametr $\\alpha$ prowadzić może do przeszacowania modelu, czego za wszelką cenę próbujemy uniknąć. \n",
    "\n",
    "Jedną z metod jego ustalenia jest sprawdzian krzyżowy, zwany często kroswalidacją (ang, cross-validation). W przykładzie poniżej wykorzystamy k-krotną walidację (ang. k-fold-cross-validation), gdzie $k=5$. Optymalnej wartości, szukać będziemy w przedziale $(0.0, 1.0]$, pamiętając, że wartość $\\alpha = 0.0$ musi być wykluczona ze względu na fakt, że doprowadzi ona do podstawowego wariantu metody MLR. Przedział ten będzie dyskretny, a konkretna wartość wybrana zostanie z niego na podstawie funkcji RidgeCV() i LassoCV() z pakietu sklearn. Modele nauczone zostaną z wykorzystaiem 5-cio krotnego sprawdzianu krzyżowego na dyskretnych wartościach z przedziału $\\alpha = (0.0, 1.0]$ a następnie wybrana zostanie optymalna wartość parametru $\\alpha$."
   ]
  },
  {
   "cell_type": "markdown",
   "metadata": {},
   "source": [
    "#### Regresja grzbietowa"
   ]
  },
  {
   "cell_type": "code",
   "execution_count": 22,
   "metadata": {},
   "outputs": [
    {
     "name": "stdout",
     "output_type": "stream",
     "text": [
      "Wybrana wartość parametru alpha = 0.20\n"
     ]
    },
    {
     "data": {
      "text/html": [
       "<div>\n",
       "<style scoped>\n",
       "    .dataframe tbody tr th:only-of-type {\n",
       "        vertical-align: middle;\n",
       "    }\n",
       "\n",
       "    .dataframe tbody tr th {\n",
       "        vertical-align: top;\n",
       "    }\n",
       "\n",
       "    .dataframe thead th {\n",
       "        text-align: right;\n",
       "    }\n",
       "</style>\n",
       "<table border=\"1\" class=\"dataframe\">\n",
       "  <thead>\n",
       "    <tr style=\"text-align: right;\">\n",
       "      <th></th>\n",
       "      <th>Model</th>\n",
       "      <th>Błąd treningowy</th>\n",
       "      <th>Błąd testowy</th>\n",
       "      <th>Suma wag absolutnych</th>\n",
       "    </tr>\n",
       "  </thead>\n",
       "  <tbody>\n",
       "    <tr>\n",
       "      <th>0</th>\n",
       "      <td>-3.24 X + 1.08</td>\n",
       "      <td>0.891873</td>\n",
       "      <td>1.047626</td>\n",
       "      <td>4.322954</td>\n",
       "    </tr>\n",
       "    <tr>\n",
       "      <th>1</th>\n",
       "      <td>0.03 X + -6.86 X2 + 1.12</td>\n",
       "      <td>0.868668</td>\n",
       "      <td>1.098603</td>\n",
       "      <td>8.004178</td>\n",
       "    </tr>\n",
       "    <tr>\n",
       "      <th>2</th>\n",
       "      <td>0.05 X + -6.14 X2 + -1.49 X3 + 1.12</td>\n",
       "      <td>0.868454</td>\n",
       "      <td>1.100347</td>\n",
       "      <td>8.796458</td>\n",
       "    </tr>\n",
       "    <tr>\n",
       "      <th>3</th>\n",
       "      <td>0.07 X + -6.23 X2 + -1.87 X3 + 1.12 X4 + 1.11</td>\n",
       "      <td>0.868395</td>\n",
       "      <td>1.099760</td>\n",
       "      <td>10.404153</td>\n",
       "    </tr>\n",
       "    <tr>\n",
       "      <th>4</th>\n",
       "      <td>0.22 X + -6.42 X2 + -2.47 X3 + 0.06 X4 + 3.51 ...</td>\n",
       "      <td>0.868060</td>\n",
       "      <td>1.105485</td>\n",
       "      <td>13.793117</td>\n",
       "    </tr>\n",
       "    <tr>\n",
       "      <th>RidgeCV</th>\n",
       "      <td>-2.01 X + -1.39 X2 + -0.71 X3 + -0.32 X4 + -0....</td>\n",
       "      <td>0.884891</td>\n",
       "      <td>1.050138</td>\n",
       "      <td>5.599920</td>\n",
       "    </tr>\n",
       "  </tbody>\n",
       "</table>\n",
       "</div>"
      ],
      "text/plain": [
       "                                                     Model  Błąd treningowy  \\\n",
       "0                                           -3.24 X + 1.08         0.891873   \n",
       "1                                 0.03 X + -6.86 X2 + 1.12         0.868668   \n",
       "2                      0.05 X + -6.14 X2 + -1.49 X3 + 1.12         0.868454   \n",
       "3            0.07 X + -6.23 X2 + -1.87 X3 + 1.12 X4 + 1.11         0.868395   \n",
       "4        0.22 X + -6.42 X2 + -2.47 X3 + 0.06 X4 + 3.51 ...         0.868060   \n",
       "RidgeCV  -2.01 X + -1.39 X2 + -0.71 X3 + -0.32 X4 + -0....         0.884891   \n",
       "\n",
       "         Błąd testowy  Suma wag absolutnych  \n",
       "0            1.047626              4.322954  \n",
       "1            1.098603              8.004178  \n",
       "2            1.100347              8.796458  \n",
       "3            1.099760             10.404153  \n",
       "4            1.105485             13.793117  \n",
       "RidgeCV      1.050138              5.599920  "
      ]
     },
     "execution_count": 22,
     "metadata": {},
     "output_type": "execute_result"
    }
   ],
   "source": [
    "from sklearn import linear_model\n",
    "\n",
    "ridge = linear_model.RidgeCV(cv=5,alphas=[0.2, 0.4, 0.6, 0.8, 1.0])\n",
    "ridge.fit(X_train5, y_train)\n",
    "y_pred_train_ridge = ridge.predict(X_train5)\n",
    "y_pred_test_ridge = ridge.predict(X_test5)\n",
    "\n",
    "model6 = \"%.2f X + %.2f X2 + %.2f X3 + %.2f X4 + %.2f X5 + %.2f\" % (ridge.coef_[0][0], \n",
    "                                        ridge.coef_[0][1], ridge.coef_[0][2], \n",
    "                                        ridge.coef_[0][3], ridge.coef_[0][4], ridge.intercept_[0])\n",
    "values6 = [ model6, np.sqrt(mean_squared_error(y_train, y_pred_train_ridge)), \n",
    "           np.sqrt(mean_squared_error(y_test, y_pred_test_ridge)),\n",
    "           np.absolute(ridge.coef_[0]).sum() + np.absolute(ridge.intercept_[0])]\n",
    "print(\"Wybrana wartość parametru alpha = %.2f\" % ridge.alpha_)\n",
    "\n",
    "ridge_results = pd.DataFrame([values6], columns=columns, index=['RidgeCV'])\n",
    "pd.concat([results, ridge_results])"
   ]
  },
  {
   "cell_type": "markdown",
   "metadata": {},
   "source": [
    "#### Regresja lasso"
   ]
  },
  {
   "cell_type": "code",
   "execution_count": 24,
   "metadata": {},
   "outputs": [
    {
     "name": "stdout",
     "output_type": "stream",
     "text": [
      "Wyrana wartość parametru alpha = 0.01\n"
     ]
    },
    {
     "data": {
      "text/html": [
       "<div>\n",
       "<style scoped>\n",
       "    .dataframe tbody tr th:only-of-type {\n",
       "        vertical-align: middle;\n",
       "    }\n",
       "\n",
       "    .dataframe tbody tr th {\n",
       "        vertical-align: top;\n",
       "    }\n",
       "\n",
       "    .dataframe thead th {\n",
       "        text-align: right;\n",
       "    }\n",
       "</style>\n",
       "<table border=\"1\" class=\"dataframe\">\n",
       "  <thead>\n",
       "    <tr style=\"text-align: right;\">\n",
       "      <th></th>\n",
       "      <th>Model</th>\n",
       "      <th>Błąd treningowy</th>\n",
       "      <th>Błąd testowy</th>\n",
       "      <th>Suma wag absolutnych</th>\n",
       "    </tr>\n",
       "  </thead>\n",
       "  <tbody>\n",
       "    <tr>\n",
       "      <th>0</th>\n",
       "      <td>-3.24 X + 1.08</td>\n",
       "      <td>0.891873</td>\n",
       "      <td>1.047626</td>\n",
       "      <td>4.322954</td>\n",
       "    </tr>\n",
       "    <tr>\n",
       "      <th>1</th>\n",
       "      <td>0.03 X + -6.86 X2 + 1.12</td>\n",
       "      <td>0.868668</td>\n",
       "      <td>1.098603</td>\n",
       "      <td>8.004178</td>\n",
       "    </tr>\n",
       "    <tr>\n",
       "      <th>2</th>\n",
       "      <td>0.05 X + -6.14 X2 + -1.49 X3 + 1.12</td>\n",
       "      <td>0.868454</td>\n",
       "      <td>1.100347</td>\n",
       "      <td>8.796458</td>\n",
       "    </tr>\n",
       "    <tr>\n",
       "      <th>3</th>\n",
       "      <td>0.07 X + -6.23 X2 + -1.87 X3 + 1.12 X4 + 1.11</td>\n",
       "      <td>0.868395</td>\n",
       "      <td>1.099760</td>\n",
       "      <td>10.404153</td>\n",
       "    </tr>\n",
       "    <tr>\n",
       "      <th>4</th>\n",
       "      <td>0.22 X + -6.42 X2 + -2.47 X3 + 0.06 X4 + 3.51 ...</td>\n",
       "      <td>0.868060</td>\n",
       "      <td>1.105485</td>\n",
       "      <td>13.793117</td>\n",
       "    </tr>\n",
       "    <tr>\n",
       "      <th>RidgeCV</th>\n",
       "      <td>-2.01 X + -1.39 X2 + -0.71 X3 + -0.32 X4 + -0....</td>\n",
       "      <td>0.884891</td>\n",
       "      <td>1.050138</td>\n",
       "      <td>5.599920</td>\n",
       "    </tr>\n",
       "    <tr>\n",
       "      <th>LassoCV</th>\n",
       "      <td>-2.68 X + -0.83 X2 + -0.00 X3 + -0.00 X4 + -0....</td>\n",
       "      <td>0.887617</td>\n",
       "      <td>1.045948</td>\n",
       "      <td>3.698976</td>\n",
       "    </tr>\n",
       "  </tbody>\n",
       "</table>\n",
       "</div>"
      ],
      "text/plain": [
       "                                                     Model  Błąd treningowy  \\\n",
       "0                                           -3.24 X + 1.08         0.891873   \n",
       "1                                 0.03 X + -6.86 X2 + 1.12         0.868668   \n",
       "2                      0.05 X + -6.14 X2 + -1.49 X3 + 1.12         0.868454   \n",
       "3            0.07 X + -6.23 X2 + -1.87 X3 + 1.12 X4 + 1.11         0.868395   \n",
       "4        0.22 X + -6.42 X2 + -2.47 X3 + 0.06 X4 + 3.51 ...         0.868060   \n",
       "RidgeCV  -2.01 X + -1.39 X2 + -0.71 X3 + -0.32 X4 + -0....         0.884891   \n",
       "LassoCV  -2.68 X + -0.83 X2 + -0.00 X3 + -0.00 X4 + -0....         0.887617   \n",
       "\n",
       "         Błąd testowy  Suma wag absolutnych  \n",
       "0            1.047626              4.322954  \n",
       "1            1.098603              8.004178  \n",
       "2            1.100347              8.796458  \n",
       "3            1.099760             10.404153  \n",
       "4            1.105485             13.793117  \n",
       "RidgeCV      1.050138              5.599920  \n",
       "LassoCV      1.045948              3.698976  "
      ]
     },
     "execution_count": 24,
     "metadata": {},
     "output_type": "execute_result"
    }
   ],
   "source": [
    "from sklearn import linear_model\n",
    "\n",
    "lasso = linear_model.LassoCV(cv=5, alphas=[0.01, 0.02, 0.05, 0.1, 0.3, 0.5, 1.0])\n",
    "lasso.fit(X_train5, y_train.reshape(y_train.shape[0]))\n",
    "y_pred_train_lasso = lasso.predict(X_train5)\n",
    "y_pred_test_lasso = lasso.predict(X_test5)\n",
    "\n",
    "model7 = \"%.2f X + %.2f X2 + %.2f X3 + %.2f X4 + %.2f X5 + %.2f\" % (lasso.coef_[0], \n",
    "                                        lasso.coef_[1], lasso.coef_[2], \n",
    "                                        lasso.coef_[3], lasso.coef_[4], lasso.intercept_)\n",
    "values7 = [ model7, np.sqrt(mean_squared_error(y_train, y_pred_train_lasso)), \n",
    "           np.sqrt(mean_squared_error(y_test, y_pred_test_lasso)),\n",
    "           np.absolute(lasso.coef_[0]).sum() + np.absolute(lasso.intercept_)]\n",
    "print(\"Wyrana wartość parametru alpha = %.2f\" % lasso.alpha_)\n",
    "\n",
    "lasso_results = pd.DataFrame([values7], columns=columns, index=['LassoCV'])\n",
    "pd.concat([results, ridge_results, lasso_results])"
   ]
  },
  {
   "cell_type": "markdown",
   "metadata": {},
   "source": [
    "## Zadanie"
   ]
  },
  {
   "cell_type": "markdown",
   "metadata": {},
   "source": [
    "Zaimplementuj regresję liniową według wzorów z początku arkusza i przetestuj ją na dwóch zestawach danych:\n",
    "\n",
    "1. dowolna funkcja liniowa z szumem wynoszącym 3 odchylenia standardowe\n",
    "2. dowolna funkcja liniowa z szumem, który zmienia się w zakresie od 0.5 do 5 odchyleń standardowych (szum rośnie liniowo wraz z rosnącym argumentem funkcji)\n",
    "\n",
    "Przedstaw niepewności dopasowań na wykresie."
   ]
  },
  {
   "cell_type": "code",
   "execution_count": null,
   "metadata": {},
   "outputs": [],
   "source": []
  }
 ],
 "metadata": {
  "kernelspec": {
   "display_name": "Python 3",
   "language": "python",
   "name": "python3"
  },
  "language_info": {
   "codemirror_mode": {
    "name": "ipython",
    "version": 3
   },
   "file_extension": ".py",
   "mimetype": "text/x-python",
   "name": "python",
   "nbconvert_exporter": "python",
   "pygments_lexer": "ipython3",
   "version": "3.7.6"
  }
 },
 "nbformat": 4,
 "nbformat_minor": 4
}
