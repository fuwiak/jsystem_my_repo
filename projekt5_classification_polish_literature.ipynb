{
  "nbformat": 4,
  "nbformat_minor": 0,
  "metadata": {
    "colab": {
      "name": "projekt5_classification_polish_literature.ipynb",
      "provenance": [],
      "collapsed_sections": []
    },
    "kernelspec": {
      "display_name": "Python 3",
      "name": "python3"
    },
    "language_info": {
      "name": "python"
    }
  },
  "cells": [
    {
      "cell_type": "code",
      "metadata": {
        "id": "oLCdQGaWtBvf"
      },
      "source": [
        "import os\n",
        "import zipfile\n",
        "import xgboost\n",
        "import numpy as np\n",
        "import pandas as pd\n",
        "import nltk\n",
        "import spacy\n",
        "from spacy import displacy\n",
        "from spacy.matcher import Matcher\n",
        "\n",
        "from collections import Counter\n",
        "\n",
        "import matplotlib.pyplot as plt\n",
        "from wordcloud import WordCloud\n",
        "import re\n",
        "import string\n",
        "\n",
        "import pandas as pd\n",
        "import seaborn as sns\n",
        "import matplotlib.pylab as plt\n",
        "import numpy as np\n",
        "import re\n",
        "import string\n",
        "from nltk.stem import PorterStemmer\n",
        "# from gensim.models import word2vec\n",
        "import nltk\n",
        "from nltk.tokenize import word_tokenize, sent_tokenize\n",
        "# from tsne import bh_sne\n",
        "import gensim\n",
        "from sklearn.metrics import roc_curve, auc, accuracy_score, recall_score, precision_score\n",
        "\n",
        "from sklearn.feature_extraction.text import TfidfVectorizer\n",
        "\n"
      ],
      "execution_count": null,
      "outputs": []
    },
    {
      "cell_type": "code",
      "metadata": {
        "id": "_rcmioSgtMfy"
      },
      "source": [
        "stopwords_pl = open(\"/content/polish.stopwords.txt\", \"r\")\n",
        "stopwords_pl = stopwords_pl.read()\n",
        "stopwords_pl=stopwords_pl.split(\"\\n\")"
      ],
      "execution_count": null,
      "outputs": []
    },
    {
      "cell_type": "code",
      "metadata": {
        "id": "9OuEarBKtqNl"
      },
      "source": [
        "local_zip = \"/content/polska_literatura.zip\"\n",
        "zip_ref = zipfile.ZipFile(local_zip, 'r')\n",
        "zip_ref.extractall('/tmp')\n",
        "zip_ref.close()"
      ],
      "execution_count": null,
      "outputs": []
    },
    {
      "cell_type": "code",
      "metadata": {
        "id": "w3_FF-aTvcRR"
      },
      "source": [
        "#dataset path\n",
        "\n",
        "dataset_path = os.path.join('/tmp/polska_literatura')"
      ],
      "execution_count": null,
      "outputs": []
    },
    {
      "cell_type": "code",
      "metadata": {
        "colab": {
          "base_uri": "https://localhost:8080/"
        },
        "id": "mlezr_VpvuT7",
        "outputId": "c0cf2e24-3a66-44cd-f49a-1ba97172589d"
      },
      "source": [
        "ls /tmp/polska_literatura"
      ],
      "execution_count": null,
      "outputs": [
        {
          "output_type": "stream",
          "text": [
            "\u001b[0m\u001b[01;34mkrasinski\u001b[0m/  \u001b[01;34mlesmian\u001b[0m/  \u001b[01;34mmickiewicz\u001b[0m/  \u001b[01;34mnorwid\u001b[0m/  \u001b[01;34mprus\u001b[0m/  \u001b[01;34msienkiewicz\u001b[0m/  \u001b[01;34mslowacki\u001b[0m/\n"
          ],
          "name": "stdout"
        }
      ]
    },
    {
      "cell_type": "code",
      "metadata": {
        "colab": {
          "base_uri": "https://localhost:8080/"
        },
        "id": "9EvutCUKv2KZ",
        "outputId": "344ac015-b416-4f6e-a2bf-d72ae1c915b2"
      },
      "source": [
        "os.listdir('/tmp/polska_literatura/')"
      ],
      "execution_count": null,
      "outputs": [
        {
          "output_type": "execute_result",
          "data": {
            "text/plain": [
              "['norwid',\n",
              " 'slowacki',\n",
              " 'krasinski',\n",
              " 'prus',\n",
              " 'lesmian',\n",
              " 'sienkiewicz',\n",
              " 'mickiewicz']"
            ]
          },
          "metadata": {
            "tags": []
          },
          "execution_count": 10
        }
      ]
    },
    {
      "cell_type": "code",
      "metadata": {
        "id": "qKPVRbnwgtqL"
      },
      "source": [
        "rm -r /tmp/polska_literatura/.DS_Store"
      ],
      "execution_count": null,
      "outputs": []
    },
    {
      "cell_type": "code",
      "metadata": {
        "id": "duSjodrSyWvg"
      },
      "source": [
        "def create_dataset_author(dir_path, author):\n",
        "  text_list = []\n",
        "  for book in os.listdir(dir_path):\n",
        "    try:\n",
        "      path = dir_path+\"/\"+book\n",
        "      text = open(path, 'r').read()\n",
        "      text_list.append(text)\n",
        "    except:\n",
        "      pass\n",
        "  df = pd.DataFrame()\n",
        "  N = len(text_list)\n",
        "  df['tytul'] = os.listdir(dir_path)[:N]\n",
        "  df['tekst'] = text_list\n",
        "  df['autor']=author\n",
        "  return df\n"
      ],
      "execution_count": null,
      "outputs": []
    },
    {
      "cell_type": "code",
      "metadata": {
        "id": "SK3pEP48ndhY"
      },
      "source": [
        "list_df = []\n",
        "for author in os.listdir('/tmp/polska_literatura/')[:-1]:\n",
        "  path = '/tmp/polska_literatura/{author}'.format(author=author)\n",
        "  temp = create_dataset_author(path, author)\n",
        "  list_df.append(temp)\n",
        "  \n",
        "\n",
        "\n",
        "\n"
      ],
      "execution_count": null,
      "outputs": []
    },
    {
      "cell_type": "code",
      "metadata": {
        "id": "MHLJHFsr0Rjv"
      },
      "source": [
        "df = pd.concat(list_df)"
      ],
      "execution_count": null,
      "outputs": []
    },
    {
      "cell_type": "code",
      "metadata": {
        "id": "_X1XnQXY0XP2"
      },
      "source": [
        "df = df.reset_index()\n",
        "df['tytul'] = df['tytul'].apply(lambda x: x.strip(\".txt\"))"
      ],
      "execution_count": null,
      "outputs": []
    },
    {
      "cell_type": "code",
      "metadata": {
        "id": "IZ4dJqTxg3UT"
      },
      "source": [
        "down = df[df.columns[1:]]"
      ],
      "execution_count": null,
      "outputs": []
    },
    {
      "cell_type": "code",
      "metadata": {
        "colab": {
          "base_uri": "https://localhost:8080/",
          "height": 388
        },
        "id": "kcbsgp6whS9p",
        "outputId": "6dde9e10-7b99-4def-a034-f8c00283a717"
      },
      "source": [
        "down"
      ],
      "execution_count": null,
      "outputs": [
        {
          "output_type": "execute_result",
          "data": {
            "text/html": [
              "<div>\n",
              "<style scoped>\n",
              "    .dataframe tbody tr th:only-of-type {\n",
              "        vertical-align: middle;\n",
              "    }\n",
              "\n",
              "    .dataframe tbody tr th {\n",
              "        vertical-align: top;\n",
              "    }\n",
              "\n",
              "    .dataframe thead th {\n",
              "        text-align: right;\n",
              "    }\n",
              "</style>\n",
              "<table border=\"1\" class=\"dataframe\">\n",
              "  <thead>\n",
              "    <tr style=\"text-align: right;\">\n",
              "      <th></th>\n",
              "      <th>index</th>\n",
              "      <th>tytul</th>\n",
              "      <th>tekst</th>\n",
              "      <th>autor</th>\n",
              "    </tr>\n",
              "  </thead>\n",
              "  <tbody>\n",
              "    <tr>\n",
              "      <th>0</th>\n",
              "      <td>0</td>\n",
              "      <td>norwid-pielgrzym</td>\n",
              "      <td>1\\n\\nNad stanami jest i *stanów-stan*.\\nJako w...</td>\n",
              "      <td>norwid</td>\n",
              "    </tr>\n",
              "    <tr>\n",
              "      <th>1</th>\n",
              "      <td>1</td>\n",
              "      <td>cos-ty-atenom-zrobil-sokratesie</td>\n",
              "      <td>I\\n\\nCoś ty Atenom zrobił, Sokratesie,\\nŻe ci ...</td>\n",
              "      <td>norwid</td>\n",
              "    </tr>\n",
              "    <tr>\n",
              "      <th>2</th>\n",
              "      <td>2</td>\n",
              "      <td>norwid-do-spolczesnych</td>\n",
              "      <td>I\\n\\nI pożegnałem kraj, i brzegi znane\\nOdepch...</td>\n",
              "      <td>norwid</td>\n",
              "    </tr>\n",
              "    <tr>\n",
              "      <th>3</th>\n",
              "      <td>3</td>\n",
              "      <td>piesn-od-ziemi-naszej</td>\n",
              "      <td>„Et aux horions, l'on verra qui\\na meilleur dr...</td>\n",
              "      <td>norwid</td>\n",
              "    </tr>\n",
              "    <tr>\n",
              "      <th>4</th>\n",
              "      <td>4</td>\n",
              "      <td>promethidion</td>\n",
              "      <td>(Plin: O Gladiatorze konającym)\\n\\n\\n\\nTobie, ...</td>\n",
              "      <td>norwid</td>\n",
              "    </tr>\n",
              "    <tr>\n",
              "      <th>...</th>\n",
              "      <td>...</td>\n",
              "      <td>...</td>\n",
              "      <td>...</td>\n",
              "      <td>...</td>\n",
              "    </tr>\n",
              "    <tr>\n",
              "      <th>69</th>\n",
              "      <td>13</td>\n",
              "      <td>bez-dogmatu</td>\n",
              "      <td>Tom I\\n\\nRzym, 9 Stycznia\\n\\nPrzed kilku miesi...</td>\n",
              "      <td>sienkiewicz</td>\n",
              "    </tr>\n",
              "    <tr>\n",
              "      <th>70</th>\n",
              "      <td>14</td>\n",
              "      <td>potop-tom-drugi</td>\n",
              "      <td>Tom drugi\\n\\n\\n\\nRozdział I\\n\\nWierny Soroka w...</td>\n",
              "      <td>sienkiewicz</td>\n",
              "    </tr>\n",
              "    <tr>\n",
              "      <th>71</th>\n",
              "      <td>15</td>\n",
              "      <td>latarnik</td>\n",
              "      <td>Opowiadanie to osnute jest na wypadku rzeczywi...</td>\n",
              "      <td>sienkiewicz</td>\n",
              "    </tr>\n",
              "    <tr>\n",
              "      <th>72</th>\n",
              "      <td>16</td>\n",
              "      <td>sienkiewicz-pojdzmy-za-nim</td>\n",
              "      <td>I\\n\\nKajus Septimus Cinna był patrycjuszem rzy...</td>\n",
              "      <td>sienkiewicz</td>\n",
              "    </tr>\n",
              "    <tr>\n",
              "      <th>73</th>\n",
              "      <td>17</td>\n",
              "      <td>bartek-zwyciezca</td>\n",
              "      <td>I\\n\\nBohater mój nazywał się Bartek Słowik, al...</td>\n",
              "      <td>sienkiewicz</td>\n",
              "    </tr>\n",
              "  </tbody>\n",
              "</table>\n",
              "<p>74 rows × 4 columns</p>\n",
              "</div>"
            ],
            "text/plain": [
              "    index  ...        autor\n",
              "0       0  ...       norwid\n",
              "1       1  ...       norwid\n",
              "2       2  ...       norwid\n",
              "3       3  ...       norwid\n",
              "4       4  ...       norwid\n",
              "..    ...  ...          ...\n",
              "69     13  ...  sienkiewicz\n",
              "70     14  ...  sienkiewicz\n",
              "71     15  ...  sienkiewicz\n",
              "72     16  ...  sienkiewicz\n",
              "73     17  ...  sienkiewicz\n",
              "\n",
              "[74 rows x 4 columns]"
            ]
          },
          "metadata": {
            "tags": []
          },
          "execution_count": 22
        }
      ]
    },
    {
      "cell_type": "code",
      "metadata": {
        "id": "lbqd6Grfg3Yx"
      },
      "source": [
        "down.to_csv(\"polish_authors.csv\")"
      ],
      "execution_count": null,
      "outputs": []
    },
    {
      "cell_type": "code",
      "metadata": {
        "id": "rpdgTYqj04pl"
      },
      "source": [
        "class clean_text:\n",
        "\n",
        "  def split_text(self, t):\n",
        "      return t.apply(lambda x: str(x).split(\" \"))\n",
        "\n",
        "  def to_lower(self, t):\n",
        "      return t.apply(lambda x:   str(x).lower())\n",
        "\n",
        "\n",
        "  def remove_numbers(self, t):\n",
        "      return t.apply(lambda x: re.sub(r'\\d+', '', str(x)))\n",
        "\n",
        "\n",
        "\n",
        "  def remove_punctuation(self,t):\n",
        "        return t.apply(lambda x: str(x).translate(str.maketrans('','',string.punctuation)))\n",
        "\n",
        "\n",
        "\n",
        "  def remove_stopwords_pl(self, t):\n",
        "      return t.apply(lambda x: [word for word in str(x).split(\" \") if word not in stopwords_pl])\n",
        "\n",
        "  def stemming(self,t):\n",
        "      temp= t.apply(lambda x: str(x).split(\" \"))\n",
        "      porter = PorterStemmer()\n",
        "      stemmed = temp.apply(lambda x: porter.stem(\" \".join(x)))\n",
        "      return stemmed\n",
        "\n",
        "  def remove_new_line(self, t):\n",
        "      return t.apply(lambda x:   str(x).replace(\"\\n\", \" \"))\n",
        "\n",
        "  # def remove_character(self, t):\n",
        "  #     return t.apply(lambda x:   str(x).replace(\"—\", \" \"))\n",
        "\n",
        "     \n",
        "\n",
        "  def ready_data(self, t):\n",
        "      t1 = self.split_text(t)\n",
        "      t2 = self.to_lower(t1)\n",
        "      t3 = self.remove_numbers(t2)\n",
        "      t4 = self.remove_punctuation(t3)\n",
        "      t5 = self.remove_stopwords_pl(t4)\n",
        "      t6 = self.stemming(t5)\n",
        "      t7 = self.remove_new_line(t6)\n",
        "      # t8 = self.remove_new_line(t7)\n",
        "      \n",
        "      return t7"
      ],
      "execution_count": null,
      "outputs": []
    },
    {
      "cell_type": "code",
      "metadata": {
        "id": "cVuZHIKS06Yp"
      },
      "source": [
        "X= clean_text().ready_data(df.tekst)\n"
      ],
      "execution_count": null,
      "outputs": []
    },
    {
      "cell_type": "code",
      "metadata": {
        "id": "x6m8YBvUxh0o"
      },
      "source": [
        "X = list(map(eval, X))"
      ],
      "execution_count": null,
      "outputs": []
    },
    {
      "cell_type": "code",
      "metadata": {
        "id": "vj37g6Abz04C"
      },
      "source": [
        "for i in range(len(X)):\n",
        "  X[i]=[x.strip('—n') for x in X[i]]\n",
        "  X[i] = [x for x in X[i] if len(x)>0]"
      ],
      "execution_count": null,
      "outputs": []
    },
    {
      "cell_type": "code",
      "metadata": {
        "id": "dJw5JjbX1sdW"
      },
      "source": [
        "# X = sum(X, [])"
      ],
      "execution_count": null,
      "outputs": []
    },
    {
      "cell_type": "code",
      "metadata": {
        "id": "vd_m_ptN2Qxx"
      },
      "source": [
        "X = [\" \".join(x) for x in X]"
      ],
      "execution_count": null,
      "outputs": []
    },
    {
      "cell_type": "code",
      "metadata": {
        "id": "JOdm21qQ4oQm"
      },
      "source": [
        "from sklearn.feature_extraction.text import TfidfVectorizer\n",
        "\n",
        "vectorizer = TfidfVectorizer()\n",
        "x = vectorizer.fit_transform(X)"
      ],
      "execution_count": null,
      "outputs": []
    },
    {
      "cell_type": "code",
      "metadata": {
        "id": "WPpNNJT23Vis"
      },
      "source": [
        "#create X(features), y(labels)\n",
        "X = x\n",
        "y = df.autor"
      ],
      "execution_count": null,
      "outputs": []
    },
    {
      "cell_type": "code",
      "metadata": {
        "id": "gqqVS-ZV3i7S"
      },
      "source": [
        "#label encoding\n",
        "\n",
        "from sklearn.preprocessing import LabelEncoder\n",
        "le = LabelEncoder()\n",
        "le.fit(y)\n",
        "y_enc = le.fit_transform(y)\n"
      ],
      "execution_count": null,
      "outputs": []
    },
    {
      "cell_type": "code",
      "metadata": {
        "colab": {
          "base_uri": "https://localhost:8080/"
        },
        "id": "GJIWpJUk4U2I",
        "outputId": "14bee6a3-ea89-43c2-9ed2-75f20af0fec6"
      },
      "source": [
        "d= dict(zip(le.transform(le.classes_),le.classes_))\n",
        "d"
      ],
      "execution_count": null,
      "outputs": [
        {
          "output_type": "execute_result",
          "data": {
            "text/plain": [
              "{0: 'krasinski',\n",
              " 1: 'lesmian',\n",
              " 2: 'mickiewicz',\n",
              " 3: 'norwid',\n",
              " 4: 'prus',\n",
              " 5: 'sienkiewicz',\n",
              " 6: 'slowacki'}"
            ]
          },
          "metadata": {
            "tags": []
          },
          "execution_count": 159
        }
      ]
    },
    {
      "cell_type": "code",
      "metadata": {
        "id": "Rez2rfhd4jli"
      },
      "source": [
        "def split_data(X,y, ratio):\n",
        "    from sklearn.model_selection import train_test_split\n",
        "    train_X, test_X, train_y, test_y = train_test_split(X, y, test_size=ratio, random_state=42)\n",
        "    return train_X, test_X, train_y, test_y"
      ],
      "execution_count": null,
      "outputs": []
    },
    {
      "cell_type": "code",
      "metadata": {
        "id": "lctOehmD4wDG"
      },
      "source": [
        "train_X, test_X, train_y, test_y = split_data(X,y_enc ,0.5)"
      ],
      "execution_count": null,
      "outputs": []
    },
    {
      "cell_type": "code",
      "metadata": {
        "colab": {
          "base_uri": "https://localhost:8080/"
        },
        "id": "aD4PfGYD_o0K",
        "outputId": "e003e7cb-14f2-4fbc-e1ad-534d3af82a57"
      },
      "source": [
        ""
      ],
      "execution_count": null,
      "outputs": [
        {
          "output_type": "execute_result",
          "data": {
            "text/plain": [
              "<45x183603 sparse matrix of type '<class 'numpy.float64'>'\n",
              "\twith 231822 stored elements in Compressed Sparse Row format>"
            ]
          },
          "metadata": {
            "tags": []
          },
          "execution_count": 173
        }
      ]
    },
    {
      "cell_type": "code",
      "metadata": {
        "id": "z3_cN2md43Kv"
      },
      "source": [
        "clf = xgboost.XGBClassifier()\n",
        "clf = clf.fit(train_X, train_y)\n",
        "\n",
        "predictions = clf.predict(test_X)\n",
        "prob = clf.predict_proba(test_X) #probalities"
      ],
      "execution_count": null,
      "outputs": []
    },
    {
      "cell_type": "code",
      "metadata": {
        "colab": {
          "base_uri": "https://localhost:8080/"
        },
        "id": "PiLiDzut5UPU",
        "outputId": "5720072c-3738-4e6a-9ecd-2523f2ddebd9"
      },
      "source": [
        "from sklearn.metrics import classification_report\n",
        "print(classification_report(test_y, predictions, digits=4))"
      ],
      "execution_count": null,
      "outputs": [
        {
          "output_type": "stream",
          "text": [
            "              precision    recall  f1-score   support\n",
            "\n",
            "           0     0.0000    0.0000    0.0000         1\n",
            "           1     0.5455    0.8571    0.6667         7\n",
            "           2     0.5000    0.4000    0.4444        10\n",
            "           3     0.0000    0.0000    0.0000         4\n",
            "           4     0.8333    1.0000    0.9091         5\n",
            "           5     0.8000    0.8000    0.8000        10\n",
            "           6     1.0000    0.6667    0.8000         9\n",
            "\n",
            "    accuracy                         0.6304        46\n",
            "   macro avg     0.5255    0.5320    0.5172        46\n",
            "weighted avg     0.6518    0.6304    0.6273        46\n",
            "\n"
          ],
          "name": "stdout"
        },
        {
          "output_type": "stream",
          "text": [
            "/usr/local/lib/python3.7/dist-packages/sklearn/metrics/_classification.py:1272: UndefinedMetricWarning: Precision and F-score are ill-defined and being set to 0.0 in labels with no predicted samples. Use `zero_division` parameter to control this behavior.\n",
            "  _warn_prf(average, modifier, msg_start, len(result))\n"
          ],
          "name": "stderr"
        }
      ]
    },
    {
      "cell_type": "code",
      "metadata": {
        "colab": {
          "base_uri": "https://localhost:8080/"
        },
        "id": "TwqJF7EE66nM",
        "outputId": "984efeb6-e4e9-47c2-b779-7a4ae98e570d"
      },
      "source": [
        "report = classification_report(test_y, predictions, digits=4,output_dict=True)"
      ],
      "execution_count": null,
      "outputs": [
        {
          "output_type": "stream",
          "text": [
            "/usr/local/lib/python3.7/dist-packages/sklearn/metrics/_classification.py:1272: UndefinedMetricWarning: Precision and F-score are ill-defined and being set to 0.0 in labels with no predicted samples. Use `zero_division` parameter to control this behavior.\n",
            "  _warn_prf(average, modifier, msg_start, len(result))\n"
          ],
          "name": "stderr"
        }
      ]
    },
    {
      "cell_type": "code",
      "metadata": {
        "colab": {
          "base_uri": "https://localhost:8080/"
        },
        "id": "W0wo4jvk8GPs",
        "outputId": "3f45ce18-dcec-472d-bdb1-8cd1e27042bd"
      },
      "source": [
        ""
      ],
      "execution_count": null,
      "outputs": [
        {
          "output_type": "execute_result",
          "data": {
            "text/plain": [
              "dict_values(['krasinski', 'lesmian', 'mickiewicz', 'norwid', 'prus', 'sienkiewicz', 'slowacki'])"
            ]
          },
          "metadata": {
            "tags": []
          },
          "execution_count": 140
        }
      ]
    },
    {
      "cell_type": "code",
      "metadata": {
        "id": "BoGl6kFL63fy"
      },
      "source": [
        "report=pd.DataFrame(report)\n",
        "new_columns = [0, 1, 2, 3, 4, 5, 6, 'accuracy', 'macro avg','weighted avg']\n",
        "report.columns=new_columns"
      ],
      "execution_count": null,
      "outputs": []
    },
    {
      "cell_type": "code",
      "metadata": {
        "colab": {
          "base_uri": "https://localhost:8080/",
          "height": 160
        },
        "id": "nt5cds568OVB",
        "outputId": "2a159032-c707-420a-fab3-e72741d7981a"
      },
      "source": [
        "report.rename(columns=d, inplace=True)\n",
        "report"
      ],
      "execution_count": null,
      "outputs": [
        {
          "output_type": "execute_result",
          "data": {
            "text/html": [
              "<div>\n",
              "<style scoped>\n",
              "    .dataframe tbody tr th:only-of-type {\n",
              "        vertical-align: middle;\n",
              "    }\n",
              "\n",
              "    .dataframe tbody tr th {\n",
              "        vertical-align: top;\n",
              "    }\n",
              "\n",
              "    .dataframe thead th {\n",
              "        text-align: right;\n",
              "    }\n",
              "</style>\n",
              "<table border=\"1\" class=\"dataframe\">\n",
              "  <thead>\n",
              "    <tr style=\"text-align: right;\">\n",
              "      <th></th>\n",
              "      <th>krasinski</th>\n",
              "      <th>lesmian</th>\n",
              "      <th>mickiewicz</th>\n",
              "      <th>norwid</th>\n",
              "      <th>prus</th>\n",
              "      <th>sienkiewicz</th>\n",
              "      <th>slowacki</th>\n",
              "      <th>accuracy</th>\n",
              "      <th>macro avg</th>\n",
              "      <th>weighted avg</th>\n",
              "    </tr>\n",
              "  </thead>\n",
              "  <tbody>\n",
              "    <tr>\n",
              "      <th>precision</th>\n",
              "      <td>0.0</td>\n",
              "      <td>0.545455</td>\n",
              "      <td>0.500000</td>\n",
              "      <td>0.0</td>\n",
              "      <td>0.833333</td>\n",
              "      <td>0.8</td>\n",
              "      <td>1.000000</td>\n",
              "      <td>0.630435</td>\n",
              "      <td>0.525541</td>\n",
              "      <td>0.651845</td>\n",
              "    </tr>\n",
              "    <tr>\n",
              "      <th>recall</th>\n",
              "      <td>0.0</td>\n",
              "      <td>0.857143</td>\n",
              "      <td>0.400000</td>\n",
              "      <td>0.0</td>\n",
              "      <td>1.000000</td>\n",
              "      <td>0.8</td>\n",
              "      <td>0.666667</td>\n",
              "      <td>0.630435</td>\n",
              "      <td>0.531973</td>\n",
              "      <td>0.630435</td>\n",
              "    </tr>\n",
              "    <tr>\n",
              "      <th>f1-score</th>\n",
              "      <td>0.0</td>\n",
              "      <td>0.666667</td>\n",
              "      <td>0.444444</td>\n",
              "      <td>0.0</td>\n",
              "      <td>0.909091</td>\n",
              "      <td>0.8</td>\n",
              "      <td>0.800000</td>\n",
              "      <td>0.630435</td>\n",
              "      <td>0.517172</td>\n",
              "      <td>0.627317</td>\n",
              "    </tr>\n",
              "    <tr>\n",
              "      <th>support</th>\n",
              "      <td>1.0</td>\n",
              "      <td>7.000000</td>\n",
              "      <td>10.000000</td>\n",
              "      <td>4.0</td>\n",
              "      <td>5.000000</td>\n",
              "      <td>10.0</td>\n",
              "      <td>9.000000</td>\n",
              "      <td>0.630435</td>\n",
              "      <td>46.000000</td>\n",
              "      <td>46.000000</td>\n",
              "    </tr>\n",
              "  </tbody>\n",
              "</table>\n",
              "</div>"
            ],
            "text/plain": [
              "           krasinski   lesmian  mickiewicz  ...  accuracy  macro avg  weighted avg\n",
              "precision        0.0  0.545455    0.500000  ...  0.630435   0.525541      0.651845\n",
              "recall           0.0  0.857143    0.400000  ...  0.630435   0.531973      0.630435\n",
              "f1-score         0.0  0.666667    0.444444  ...  0.630435   0.517172      0.627317\n",
              "support          1.0  7.000000   10.000000  ...  0.630435  46.000000     46.000000\n",
              "\n",
              "[4 rows x 10 columns]"
            ]
          },
          "metadata": {
            "tags": []
          },
          "execution_count": 166
        }
      ]
    },
    {
      "cell_type": "code",
      "metadata": {
        "id": "MgW3-_Mc5bDC"
      },
      "source": [
        "def metrics(test_y,pred):\n",
        "\t\tprint(\"Accuracy\", accuracy_score(test_y, pred))\n",
        "\t\tprint(\"recall\", recall_score(test_y, pred, average='micro'))\n",
        "\t\tprint(\"precision\", precision_score(test_y, pred, average='micro'))"
      ],
      "execution_count": null,
      "outputs": []
    },
    {
      "cell_type": "code",
      "metadata": {
        "colab": {
          "base_uri": "https://localhost:8080/"
        },
        "id": "MgmpXYKx5bJp",
        "outputId": "0472c0ca-68de-4163-e83e-48143e577dcd"
      },
      "source": [
        "metrics(test_y,predictions)"
      ],
      "execution_count": null,
      "outputs": [
        {
          "output_type": "stream",
          "text": [
            "Accuracy 0.6304347826086957\n",
            "recall 0.6304347826086957\n",
            "precision 0.6304347826086957\n"
          ],
          "name": "stdout"
        }
      ]
    },
    {
      "cell_type": "code",
      "metadata": {
        "id": "1t3ZqxkbAHea"
      },
      "source": [
        ""
      ],
      "execution_count": null,
      "outputs": []
    }
  ]
}