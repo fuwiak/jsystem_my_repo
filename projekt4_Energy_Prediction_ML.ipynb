{
  "nbformat": 4,
  "nbformat_minor": 0,
  "metadata": {
    "kernelspec": {
      "display_name": "Python 3",
      "language": "python",
      "name": "python3"
    },
    "language_info": {
      "codemirror_mode": {
        "name": "ipython",
        "version": 3
      },
      "file_extension": ".py",
      "mimetype": "text/x-python",
      "name": "python",
      "nbconvert_exporter": "python",
      "pygments_lexer": "ipython3",
      "version": "3.9.2"
    },
    "colab": {
      "name": "Energy_Prediction_ML.ipynb",
      "provenance": [],
      "collapsed_sections": [],
      "toc_visible": true
    }
  },
  "cells": [
    {
      "cell_type": "code",
      "metadata": {
        "id": "qOO8yQ14Md5U"
      },
      "source": [
        "import pandas as pd\n",
        "import matplotlib.pylab as plt\n",
        "from datetime import datetime\n",
        "import seaborn as sns\n",
        "import numpy as np"
      ],
      "execution_count": 1,
      "outputs": []
    },
    {
      "cell_type": "code",
      "metadata": {
        "id": "75vcAe14Md5X"
      },
      "source": [
        ""
      ],
      "execution_count": 1,
      "outputs": []
    },
    {
      "cell_type": "markdown",
      "metadata": {
        "id": "Fwxal6_OMd5Y"
      },
      "source": [
        "# Data reading"
      ]
    },
    {
      "cell_type": "code",
      "metadata": {
        "id": "uVT6RWOXMd5Y"
      },
      "source": [
        "# !pip3 install numpy==1.19"
      ],
      "execution_count": 2,
      "outputs": []
    },
    {
      "cell_type": "code",
      "metadata": {
        "colab": {
          "base_uri": "https://localhost:8080/",
          "height": 35
        },
        "id": "SmCGoTnrMd5Z",
        "outputId": "02c37458-905a-441b-d889-fbce09dd7ef9"
      },
      "source": [
        "np.__version__"
      ],
      "execution_count": 3,
      "outputs": [
        {
          "output_type": "execute_result",
          "data": {
            "application/vnd.google.colaboratory.intrinsic+json": {
              "type": "string"
            },
            "text/plain": [
              "'1.19.5'"
            ]
          },
          "metadata": {},
          "execution_count": 3
        }
      ]
    },
    {
      "cell_type": "code",
      "metadata": {
        "id": "YjxLl7UMMd5a"
      },
      "source": [
        "df = pd.read_csv(\"https://raw.githubusercontent.com/fuwiak/jsystem_my_repo/main/Dane/1990.csv\")"
      ],
      "execution_count": 4,
      "outputs": []
    },
    {
      "cell_type": "code",
      "metadata": {
        "scrolled": false,
        "colab": {
          "base_uri": "https://localhost:8080/",
          "height": 202
        },
        "id": "6quPwJh1Md5a",
        "outputId": "84b7768f-e9da-42b2-e8c9-d2bce0326728"
      },
      "source": [
        "df.head()"
      ],
      "execution_count": 5,
      "outputs": [
        {
          "output_type": "execute_result",
          "data": {
            "text/html": [
              "<div>\n",
              "<style scoped>\n",
              "    .dataframe tbody tr th:only-of-type {\n",
              "        vertical-align: middle;\n",
              "    }\n",
              "\n",
              "    .dataframe tbody tr th {\n",
              "        vertical-align: top;\n",
              "    }\n",
              "\n",
              "    .dataframe thead th {\n",
              "        text-align: right;\n",
              "    }\n",
              "</style>\n",
              "<table border=\"1\" class=\"dataframe\">\n",
              "  <thead>\n",
              "    <tr style=\"text-align: right;\">\n",
              "      <th></th>\n",
              "      <th>Time stamp</th>\n",
              "      <th>GHI (W/m2)</th>\n",
              "      <th>DNI (W/m2)</th>\n",
              "      <th>DHI (W/m2)</th>\n",
              "      <th>Wet bulb temp (C)</th>\n",
              "      <th>Dew point temp (C)</th>\n",
              "      <th>Energy (kWh)</th>\n",
              "    </tr>\n",
              "  </thead>\n",
              "  <tbody>\n",
              "    <tr>\n",
              "      <th>0</th>\n",
              "      <td>01/01/1990 00:00</td>\n",
              "      <td>0</td>\n",
              "      <td>0</td>\n",
              "      <td>0</td>\n",
              "      <td>12.3844</td>\n",
              "      <td>11.6</td>\n",
              "      <td>0.0</td>\n",
              "    </tr>\n",
              "    <tr>\n",
              "      <th>1</th>\n",
              "      <td>01/01/1990 01:00</td>\n",
              "      <td>0</td>\n",
              "      <td>0</td>\n",
              "      <td>0</td>\n",
              "      <td>12.0406</td>\n",
              "      <td>11.5</td>\n",
              "      <td>0.0</td>\n",
              "    </tr>\n",
              "    <tr>\n",
              "      <th>2</th>\n",
              "      <td>01/01/1990 02:00</td>\n",
              "      <td>0</td>\n",
              "      <td>0</td>\n",
              "      <td>0</td>\n",
              "      <td>12.3313</td>\n",
              "      <td>12.0</td>\n",
              "      <td>0.0</td>\n",
              "    </tr>\n",
              "    <tr>\n",
              "      <th>3</th>\n",
              "      <td>01/01/1990 03:00</td>\n",
              "      <td>0</td>\n",
              "      <td>0</td>\n",
              "      <td>0</td>\n",
              "      <td>12.4312</td>\n",
              "      <td>12.1</td>\n",
              "      <td>0.0</td>\n",
              "    </tr>\n",
              "    <tr>\n",
              "      <th>4</th>\n",
              "      <td>01/01/1990 04:00</td>\n",
              "      <td>0</td>\n",
              "      <td>0</td>\n",
              "      <td>0</td>\n",
              "      <td>12.8359</td>\n",
              "      <td>12.5</td>\n",
              "      <td>0.0</td>\n",
              "    </tr>\n",
              "  </tbody>\n",
              "</table>\n",
              "</div>"
            ],
            "text/plain": [
              "         Time stamp  GHI (W/m2)  ...  Dew point temp (C)  Energy (kWh)\n",
              "0  01/01/1990 00:00           0  ...                11.6           0.0\n",
              "1  01/01/1990 01:00           0  ...                11.5           0.0\n",
              "2  01/01/1990 02:00           0  ...                12.0           0.0\n",
              "3  01/01/1990 03:00           0  ...                12.1           0.0\n",
              "4  01/01/1990 04:00           0  ...                12.5           0.0\n",
              "\n",
              "[5 rows x 7 columns]"
            ]
          },
          "metadata": {},
          "execution_count": 5
        }
      ]
    },
    {
      "cell_type": "markdown",
      "metadata": {
        "id": "Nmou4uXFMd5b"
      },
      "source": [
        "# Data processing"
      ]
    },
    {
      "cell_type": "code",
      "metadata": {
        "id": "ctsuCH81Md5b"
      },
      "source": [
        "#get full date, day, month, year, hour from timestamp\n",
        "df['full_date'] = df[df.columns[0]].apply(lambda x: datetime.strptime(x,'%d/%m/%Y %H:%S').strftime('%m/%d/%Y'))\n",
        "df['day'] = df[df.columns[0]].apply(lambda x: datetime.strptime(x,'%d/%m/%Y %H:%S').day)\n",
        "df['month'] = df[df.columns[0]].apply(lambda x: datetime.strptime(x,'%d/%m/%Y %H:%S').month)\n",
        "df['year'] = df[df.columns[0]].apply(lambda x: datetime.strptime(x,'%d/%m/%Y %H:%S').year)\n",
        "df['hour'] = df[df.columns[0]].apply(lambda x: datetime.strptime(x,'%d/%m/%Y %H:%S').hour)\n"
      ],
      "execution_count": 6,
      "outputs": []
    },
    {
      "cell_type": "code",
      "metadata": {
        "colab": {
          "base_uri": "https://localhost:8080/"
        },
        "id": "Hr2R6FxiMd5c",
        "outputId": "9083422a-d018-453c-de04-8eca51720f5d"
      },
      "source": [
        "df.columns"
      ],
      "execution_count": 7,
      "outputs": [
        {
          "output_type": "execute_result",
          "data": {
            "text/plain": [
              "Index(['Time stamp', 'GHI (W/m2)', 'DNI (W/m2)', ' DHI (W/m2)',\n",
              "       'Wet bulb temp (C)', 'Dew point temp (C)', 'Energy (kWh)', 'full_date',\n",
              "       'day', 'month', 'year', 'hour'],\n",
              "      dtype='object')"
            ]
          },
          "metadata": {},
          "execution_count": 7
        }
      ]
    },
    {
      "cell_type": "code",
      "metadata": {
        "colab": {
          "base_uri": "https://localhost:8080/",
          "height": 628
        },
        "id": "F2H-hUrrMd5d",
        "outputId": "8659449f-5746-4953-a2fa-e5cfa8d821ef"
      },
      "source": [
        "df.set_index('full_date', inplace=True)\n",
        "df"
      ],
      "execution_count": 8,
      "outputs": [
        {
          "output_type": "execute_result",
          "data": {
            "text/html": [
              "<div>\n",
              "<style scoped>\n",
              "    .dataframe tbody tr th:only-of-type {\n",
              "        vertical-align: middle;\n",
              "    }\n",
              "\n",
              "    .dataframe tbody tr th {\n",
              "        vertical-align: top;\n",
              "    }\n",
              "\n",
              "    .dataframe thead th {\n",
              "        text-align: right;\n",
              "    }\n",
              "</style>\n",
              "<table border=\"1\" class=\"dataframe\">\n",
              "  <thead>\n",
              "    <tr style=\"text-align: right;\">\n",
              "      <th></th>\n",
              "      <th>Time stamp</th>\n",
              "      <th>GHI (W/m2)</th>\n",
              "      <th>DNI (W/m2)</th>\n",
              "      <th>DHI (W/m2)</th>\n",
              "      <th>Wet bulb temp (C)</th>\n",
              "      <th>Dew point temp (C)</th>\n",
              "      <th>Energy (kWh)</th>\n",
              "      <th>day</th>\n",
              "      <th>month</th>\n",
              "      <th>year</th>\n",
              "      <th>hour</th>\n",
              "    </tr>\n",
              "    <tr>\n",
              "      <th>full_date</th>\n",
              "      <th></th>\n",
              "      <th></th>\n",
              "      <th></th>\n",
              "      <th></th>\n",
              "      <th></th>\n",
              "      <th></th>\n",
              "      <th></th>\n",
              "      <th></th>\n",
              "      <th></th>\n",
              "      <th></th>\n",
              "      <th></th>\n",
              "    </tr>\n",
              "  </thead>\n",
              "  <tbody>\n",
              "    <tr>\n",
              "      <th>01/01/1990</th>\n",
              "      <td>01/01/1990 00:00</td>\n",
              "      <td>0</td>\n",
              "      <td>0</td>\n",
              "      <td>0</td>\n",
              "      <td>12.3844</td>\n",
              "      <td>11.6</td>\n",
              "      <td>0.00</td>\n",
              "      <td>1</td>\n",
              "      <td>1</td>\n",
              "      <td>1990</td>\n",
              "      <td>0</td>\n",
              "    </tr>\n",
              "    <tr>\n",
              "      <th>01/01/1990</th>\n",
              "      <td>01/01/1990 01:00</td>\n",
              "      <td>0</td>\n",
              "      <td>0</td>\n",
              "      <td>0</td>\n",
              "      <td>12.0406</td>\n",
              "      <td>11.5</td>\n",
              "      <td>0.00</td>\n",
              "      <td>1</td>\n",
              "      <td>1</td>\n",
              "      <td>1990</td>\n",
              "      <td>1</td>\n",
              "    </tr>\n",
              "    <tr>\n",
              "      <th>01/01/1990</th>\n",
              "      <td>01/01/1990 02:00</td>\n",
              "      <td>0</td>\n",
              "      <td>0</td>\n",
              "      <td>0</td>\n",
              "      <td>12.3313</td>\n",
              "      <td>12.0</td>\n",
              "      <td>0.00</td>\n",
              "      <td>1</td>\n",
              "      <td>1</td>\n",
              "      <td>1990</td>\n",
              "      <td>2</td>\n",
              "    </tr>\n",
              "    <tr>\n",
              "      <th>01/01/1990</th>\n",
              "      <td>01/01/1990 03:00</td>\n",
              "      <td>0</td>\n",
              "      <td>0</td>\n",
              "      <td>0</td>\n",
              "      <td>12.4312</td>\n",
              "      <td>12.1</td>\n",
              "      <td>0.00</td>\n",
              "      <td>1</td>\n",
              "      <td>1</td>\n",
              "      <td>1990</td>\n",
              "      <td>3</td>\n",
              "    </tr>\n",
              "    <tr>\n",
              "      <th>01/01/1990</th>\n",
              "      <td>01/01/1990 04:00</td>\n",
              "      <td>0</td>\n",
              "      <td>0</td>\n",
              "      <td>0</td>\n",
              "      <td>12.8359</td>\n",
              "      <td>12.5</td>\n",
              "      <td>0.00</td>\n",
              "      <td>1</td>\n",
              "      <td>1</td>\n",
              "      <td>1990</td>\n",
              "      <td>4</td>\n",
              "    </tr>\n",
              "    <tr>\n",
              "      <th>...</th>\n",
              "      <td>...</td>\n",
              "      <td>...</td>\n",
              "      <td>...</td>\n",
              "      <td>...</td>\n",
              "      <td>...</td>\n",
              "      <td>...</td>\n",
              "      <td>...</td>\n",
              "      <td>...</td>\n",
              "      <td>...</td>\n",
              "      <td>...</td>\n",
              "      <td>...</td>\n",
              "    </tr>\n",
              "    <tr>\n",
              "      <th>12/31/1990</th>\n",
              "      <td>31/12/1990 19:00</td>\n",
              "      <td>0</td>\n",
              "      <td>0</td>\n",
              "      <td>0</td>\n",
              "      <td>15.1031</td>\n",
              "      <td>14.0</td>\n",
              "      <td>-0.24</td>\n",
              "      <td>31</td>\n",
              "      <td>12</td>\n",
              "      <td>1990</td>\n",
              "      <td>19</td>\n",
              "    </tr>\n",
              "    <tr>\n",
              "      <th>12/31/1990</th>\n",
              "      <td>31/12/1990 20:00</td>\n",
              "      <td>0</td>\n",
              "      <td>0</td>\n",
              "      <td>0</td>\n",
              "      <td>14.2469</td>\n",
              "      <td>12.9</td>\n",
              "      <td>0.00</td>\n",
              "      <td>31</td>\n",
              "      <td>12</td>\n",
              "      <td>1990</td>\n",
              "      <td>20</td>\n",
              "    </tr>\n",
              "    <tr>\n",
              "      <th>12/31/1990</th>\n",
              "      <td>31/12/1990 21:00</td>\n",
              "      <td>0</td>\n",
              "      <td>0</td>\n",
              "      <td>0</td>\n",
              "      <td>13.9937</td>\n",
              "      <td>13.1</td>\n",
              "      <td>0.00</td>\n",
              "      <td>31</td>\n",
              "      <td>12</td>\n",
              "      <td>1990</td>\n",
              "      <td>21</td>\n",
              "    </tr>\n",
              "    <tr>\n",
              "      <th>12/31/1990</th>\n",
              "      <td>31/12/1990 22:00</td>\n",
              "      <td>0</td>\n",
              "      <td>0</td>\n",
              "      <td>0</td>\n",
              "      <td>13.5109</td>\n",
              "      <td>12.6</td>\n",
              "      <td>0.00</td>\n",
              "      <td>31</td>\n",
              "      <td>12</td>\n",
              "      <td>1990</td>\n",
              "      <td>22</td>\n",
              "    </tr>\n",
              "    <tr>\n",
              "      <th>12/31/1990</th>\n",
              "      <td>31/12/1990 23:00</td>\n",
              "      <td>0</td>\n",
              "      <td>0</td>\n",
              "      <td>0</td>\n",
              "      <td>13.5109</td>\n",
              "      <td>12.6</td>\n",
              "      <td>0.00</td>\n",
              "      <td>31</td>\n",
              "      <td>12</td>\n",
              "      <td>1990</td>\n",
              "      <td>23</td>\n",
              "    </tr>\n",
              "  </tbody>\n",
              "</table>\n",
              "<p>8760 rows × 11 columns</p>\n",
              "</div>"
            ],
            "text/plain": [
              "                  Time stamp  GHI (W/m2)  DNI (W/m2)  ...  month  year  hour\n",
              "full_date                                             ...                   \n",
              "01/01/1990  01/01/1990 00:00           0           0  ...      1  1990     0\n",
              "01/01/1990  01/01/1990 01:00           0           0  ...      1  1990     1\n",
              "01/01/1990  01/01/1990 02:00           0           0  ...      1  1990     2\n",
              "01/01/1990  01/01/1990 03:00           0           0  ...      1  1990     3\n",
              "01/01/1990  01/01/1990 04:00           0           0  ...      1  1990     4\n",
              "...                      ...         ...         ...  ...    ...   ...   ...\n",
              "12/31/1990  31/12/1990 19:00           0           0  ...     12  1990    19\n",
              "12/31/1990  31/12/1990 20:00           0           0  ...     12  1990    20\n",
              "12/31/1990  31/12/1990 21:00           0           0  ...     12  1990    21\n",
              "12/31/1990  31/12/1990 22:00           0           0  ...     12  1990    22\n",
              "12/31/1990  31/12/1990 23:00           0           0  ...     12  1990    23\n",
              "\n",
              "[8760 rows x 11 columns]"
            ]
          },
          "metadata": {},
          "execution_count": 8
        }
      ]
    },
    {
      "cell_type": "code",
      "metadata": {
        "id": "FyTVgv11Md5d"
      },
      "source": [
        "energy = df['Energy (kWh)']"
      ],
      "execution_count": 9,
      "outputs": []
    },
    {
      "cell_type": "code",
      "metadata": {
        "colab": {
          "base_uri": "https://localhost:8080/"
        },
        "id": "neg8wVJGMd5e",
        "outputId": "4f9a130d-9a2c-41d1-bf67-433088182570"
      },
      "source": [
        "energy"
      ],
      "execution_count": 10,
      "outputs": [
        {
          "output_type": "execute_result",
          "data": {
            "text/plain": [
              "full_date\n",
              "01/01/1990    0.00\n",
              "01/01/1990    0.00\n",
              "01/01/1990    0.00\n",
              "01/01/1990    0.00\n",
              "01/01/1990    0.00\n",
              "              ... \n",
              "12/31/1990   -0.24\n",
              "12/31/1990    0.00\n",
              "12/31/1990    0.00\n",
              "12/31/1990    0.00\n",
              "12/31/1990    0.00\n",
              "Name: Energy (kWh), Length: 8760, dtype: float64"
            ]
          },
          "metadata": {},
          "execution_count": 10
        }
      ]
    },
    {
      "cell_type": "code",
      "metadata": {
        "colab": {
          "base_uri": "https://localhost:8080/"
        },
        "id": "KbE_61mpMd5e",
        "outputId": "03df41d2-2bae-4b8e-990a-168f935f6468"
      },
      "source": [
        "df.dtypes"
      ],
      "execution_count": 11,
      "outputs": [
        {
          "output_type": "execute_result",
          "data": {
            "text/plain": [
              "Time stamp             object\n",
              "GHI (W/m2)              int64\n",
              "DNI (W/m2)              int64\n",
              " DHI (W/m2)             int64\n",
              "Wet bulb temp (C)     float64\n",
              "Dew point temp (C)    float64\n",
              "Energy (kWh)          float64\n",
              "day                     int64\n",
              "month                   int64\n",
              "year                    int64\n",
              "hour                    int64\n",
              "dtype: object"
            ]
          },
          "metadata": {},
          "execution_count": 11
        }
      ]
    },
    {
      "cell_type": "markdown",
      "metadata": {
        "id": "Kef9QlvwMd5f"
      },
      "source": [
        "# Data statistics"
      ]
    },
    {
      "cell_type": "code",
      "metadata": {
        "colab": {
          "base_uri": "https://localhost:8080/",
          "height": 294
        },
        "id": "Rnq5Sg02Md5f",
        "outputId": "8744221d-202c-4462-c84b-b0e6455a3b96"
      },
      "source": [
        "df.describe()"
      ],
      "execution_count": 12,
      "outputs": [
        {
          "output_type": "execute_result",
          "data": {
            "text/html": [
              "<div>\n",
              "<style scoped>\n",
              "    .dataframe tbody tr th:only-of-type {\n",
              "        vertical-align: middle;\n",
              "    }\n",
              "\n",
              "    .dataframe tbody tr th {\n",
              "        vertical-align: top;\n",
              "    }\n",
              "\n",
              "    .dataframe thead th {\n",
              "        text-align: right;\n",
              "    }\n",
              "</style>\n",
              "<table border=\"1\" class=\"dataframe\">\n",
              "  <thead>\n",
              "    <tr style=\"text-align: right;\">\n",
              "      <th></th>\n",
              "      <th>GHI (W/m2)</th>\n",
              "      <th>DNI (W/m2)</th>\n",
              "      <th>DHI (W/m2)</th>\n",
              "      <th>Wet bulb temp (C)</th>\n",
              "      <th>Dew point temp (C)</th>\n",
              "      <th>Energy (kWh)</th>\n",
              "      <th>day</th>\n",
              "      <th>month</th>\n",
              "      <th>year</th>\n",
              "      <th>hour</th>\n",
              "    </tr>\n",
              "  </thead>\n",
              "  <tbody>\n",
              "    <tr>\n",
              "      <th>count</th>\n",
              "      <td>8760.000000</td>\n",
              "      <td>8760.000000</td>\n",
              "      <td>8760.000000</td>\n",
              "      <td>8760.000000</td>\n",
              "      <td>8760.000000</td>\n",
              "      <td>8760.000000</td>\n",
              "      <td>8760.000000</td>\n",
              "      <td>8760.000000</td>\n",
              "      <td>8760.0</td>\n",
              "      <td>8760.000000</td>\n",
              "    </tr>\n",
              "    <tr>\n",
              "      <th>mean</th>\n",
              "      <td>187.417352</td>\n",
              "      <td>184.102740</td>\n",
              "      <td>77.507306</td>\n",
              "      <td>12.134381</td>\n",
              "      <td>10.565148</td>\n",
              "      <td>149.144354</td>\n",
              "      <td>15.720548</td>\n",
              "      <td>6.526027</td>\n",
              "      <td>1990.0</td>\n",
              "      <td>11.500000</td>\n",
              "    </tr>\n",
              "    <tr>\n",
              "      <th>std</th>\n",
              "      <td>268.384810</td>\n",
              "      <td>288.374696</td>\n",
              "      <td>111.491970</td>\n",
              "      <td>3.495635</td>\n",
              "      <td>3.484829</td>\n",
              "      <td>265.067137</td>\n",
              "      <td>8.796749</td>\n",
              "      <td>3.448048</td>\n",
              "      <td>0.0</td>\n",
              "      <td>6.922582</td>\n",
              "    </tr>\n",
              "    <tr>\n",
              "      <th>min</th>\n",
              "      <td>0.000000</td>\n",
              "      <td>0.000000</td>\n",
              "      <td>0.000000</td>\n",
              "      <td>2.131250</td>\n",
              "      <td>1.100000</td>\n",
              "      <td>-0.240000</td>\n",
              "      <td>1.000000</td>\n",
              "      <td>1.000000</td>\n",
              "      <td>1990.0</td>\n",
              "      <td>0.000000</td>\n",
              "    </tr>\n",
              "    <tr>\n",
              "      <th>25%</th>\n",
              "      <td>0.000000</td>\n",
              "      <td>0.000000</td>\n",
              "      <td>0.000000</td>\n",
              "      <td>9.687500</td>\n",
              "      <td>8.000000</td>\n",
              "      <td>0.000000</td>\n",
              "      <td>8.000000</td>\n",
              "      <td>4.000000</td>\n",
              "      <td>1990.0</td>\n",
              "      <td>5.750000</td>\n",
              "    </tr>\n",
              "    <tr>\n",
              "      <th>50%</th>\n",
              "      <td>0.000000</td>\n",
              "      <td>0.000000</td>\n",
              "      <td>0.000000</td>\n",
              "      <td>11.989100</td>\n",
              "      <td>10.400000</td>\n",
              "      <td>0.000000</td>\n",
              "      <td>16.000000</td>\n",
              "      <td>7.000000</td>\n",
              "      <td>1990.0</td>\n",
              "      <td>11.500000</td>\n",
              "    </tr>\n",
              "    <tr>\n",
              "      <th>75%</th>\n",
              "      <td>327.000000</td>\n",
              "      <td>290.000000</td>\n",
              "      <td>124.000000</td>\n",
              "      <td>14.496900</td>\n",
              "      <td>12.900000</td>\n",
              "      <td>179.063750</td>\n",
              "      <td>23.000000</td>\n",
              "      <td>10.000000</td>\n",
              "      <td>1990.0</td>\n",
              "      <td>17.250000</td>\n",
              "    </tr>\n",
              "    <tr>\n",
              "      <th>max</th>\n",
              "      <td>1128.000000</td>\n",
              "      <td>1044.000000</td>\n",
              "      <td>552.000000</td>\n",
              "      <td>24.856300</td>\n",
              "      <td>22.400000</td>\n",
              "      <td>1003.220000</td>\n",
              "      <td>31.000000</td>\n",
              "      <td>12.000000</td>\n",
              "      <td>1990.0</td>\n",
              "      <td>23.000000</td>\n",
              "    </tr>\n",
              "  </tbody>\n",
              "</table>\n",
              "</div>"
            ],
            "text/plain": [
              "        GHI (W/m2)   DNI (W/m2)   DHI (W/m2)  ...        month    year         hour\n",
              "count  8760.000000  8760.000000  8760.000000  ...  8760.000000  8760.0  8760.000000\n",
              "mean    187.417352   184.102740    77.507306  ...     6.526027  1990.0    11.500000\n",
              "std     268.384810   288.374696   111.491970  ...     3.448048     0.0     6.922582\n",
              "min       0.000000     0.000000     0.000000  ...     1.000000  1990.0     0.000000\n",
              "25%       0.000000     0.000000     0.000000  ...     4.000000  1990.0     5.750000\n",
              "50%       0.000000     0.000000     0.000000  ...     7.000000  1990.0    11.500000\n",
              "75%     327.000000   290.000000   124.000000  ...    10.000000  1990.0    17.250000\n",
              "max    1128.000000  1044.000000   552.000000  ...    12.000000  1990.0    23.000000\n",
              "\n",
              "[8 rows x 10 columns]"
            ]
          },
          "metadata": {},
          "execution_count": 12
        }
      ]
    },
    {
      "cell_type": "code",
      "metadata": {
        "colab": {
          "base_uri": "https://localhost:8080/",
          "height": 405
        },
        "id": "cDyTPyiTMd5f",
        "outputId": "e8854c6a-5931-4719-a3fb-da346ca7f962"
      },
      "source": [
        "data_names = ['GHI (W/m2)', 'DNI (W/m2)', ' DHI (W/m2)',\n",
        "       'Wet bulb temp (C)', 'Dew point temp (C)', 'Energy (kWh)']\n",
        "\n",
        "df[data_names].hist()"
      ],
      "execution_count": 13,
      "outputs": [
        {
          "output_type": "execute_result",
          "data": {
            "text/plain": [
              "array([[<matplotlib.axes._subplots.AxesSubplot object at 0x7fc281bc0810>,\n",
              "        <matplotlib.axes._subplots.AxesSubplot object at 0x7fc280d55490>],\n",
              "       [<matplotlib.axes._subplots.AxesSubplot object at 0x7fc280d8ca50>,\n",
              "        <matplotlib.axes._subplots.AxesSubplot object at 0x7fc280d39b90>],\n",
              "       [<matplotlib.axes._subplots.AxesSubplot object at 0x7fc280d05690>,\n",
              "        <matplotlib.axes._subplots.AxesSubplot object at 0x7fc280cb9c90>]],\n",
              "      dtype=object)"
            ]
          },
          "metadata": {},
          "execution_count": 13
        },
        {
          "output_type": "display_data",
          "data": {
            "image/png": "[encoded data removed]",
            "text/plain": [
              "<Figure size 432x288 with 6 Axes>"
            ]
          },
          "metadata": {
            "needs_background": "light"
          }
        }
      ]
    },
    {
      "cell_type": "code",
      "metadata": {
        "scrolled": true,
        "colab": {
          "base_uri": "https://localhost:8080/",
          "height": 264
        },
        "id": "I2yaeM7pMd5g",
        "outputId": "03a7828d-81eb-451a-c04f-022def369a4c"
      },
      "source": [
        "energy.hist()\n",
        "plt.show()"
      ],
      "execution_count": 14,
      "outputs": [
        {
          "output_type": "display_data",
          "data": {
            "image/png": "[encoded data removed]",
            "text/plain": [
              "<Figure size 432x288 with 1 Axes>"
            ]
          },
          "metadata": {
            "needs_background": "light"
          }
        }
      ]
    },
    {
      "cell_type": "code",
      "metadata": {
        "colab": {
          "base_uri": "https://localhost:8080/",
          "height": 270
        },
        "id": "lLEAs2tjMd5h",
        "outputId": "206a32bd-93b6-41b5-f450-f173e96351fd"
      },
      "source": [
        "plt.subplot(1,2,2)\n",
        "sns.boxplot(y=energy, data=df)"
      ],
      "execution_count": 15,
      "outputs": [
        {
          "output_type": "execute_result",
          "data": {
            "text/plain": [
              "<matplotlib.axes._subplots.AxesSubplot at 0x7fc2805c5ed0>"
            ]
          },
          "metadata": {},
          "execution_count": 15
        },
        {
          "output_type": "display_data",
          "data": {
            "image/png": "[encoded data removed]",
            "text/plain": [
              "<Figure size 432x288 with 1 Axes>"
            ]
          },
          "metadata": {
            "needs_background": "light"
          }
        }
      ]
    },
    {
      "cell_type": "markdown",
      "metadata": {
        "id": "U-u5oNblMd5h"
      },
      "source": [
        "# times series"
      ]
    },
    {
      "cell_type": "code",
      "metadata": {
        "colab": {
          "base_uri": "https://localhost:8080/",
          "height": 343
        },
        "id": "cnByIqiKMd5i",
        "outputId": "a47846a0-9cfc-453f-e250-81fc54c6ccab"
      },
      "source": [
        "# Draw Plot\n",
        "def plot_df(df, x, y, title=\"Energy consumption\", xlabel='Date', ylabel='Energy'):\n",
        "    fig, ax = plt.subplots(1,1)\n",
        "    ax.plot(x, y, color='tab:red')\n",
        "    ax.title.set_text(title)\n",
        "    ax.set_xlabel(xlabel)\n",
        "    ax.set_ylabel(ylabel)\n",
        "    ax.set_xticks(ax.get_xticks()[::20])\n",
        "    ax.tick_params(axis='x', labelrotation=90)\n",
        "    plt.show()\n",
        "   \n",
        "  \n",
        "  \n",
        "    \n",
        "\n",
        "plot_df(df, x=df.index, y=energy, title='Energy consumption')"
      ],
      "execution_count": 16,
      "outputs": [
        {
          "output_type": "display_data",
          "data": {
            "image/png": "[encoded data removed]",
            "text/plain": [
              "<Figure size 432x288 with 1 Axes>"
            ]
          },
          "metadata": {
            "needs_background": "light"
          }
        }
      ]
    },
    {
      "cell_type": "code",
      "metadata": {
        "id": "m3aajSCBMd5i"
      },
      "source": [
        "short_window = 400\n",
        "long_window = short_window*2"
      ],
      "execution_count": 53,
      "outputs": []
    },
    {
      "cell_type": "code",
      "metadata": {
        "colab": {
          "base_uri": "https://localhost:8080/",
          "height": 374
        },
        "id": "93f8imerMd5j",
        "outputId": "46bd5704-75c7-4ee9-e1e3-9d53a7c0666f"
      },
      "source": [
        "#moving average plot\n",
        "new_df = df.rolling(window=long_window, min_periods=10, center=False).mean()\n",
        "plt.plot(new_df['Energy (kWh)'])\n",
        "plt.xticks(new_df.index[::2000])"
      ],
      "execution_count": 18,
      "outputs": [
        {
          "output_type": "execute_result",
          "data": {
            "text/plain": [
              "([<matplotlib.axis.XTick at 0x7fc280aec710>,\n",
              "  <matplotlib.axis.XTick at 0x7fc280aecb90>,\n",
              "  <matplotlib.axis.XTick at 0x7fc28056fed0>,\n",
              "  <matplotlib.axis.XTick at 0x7fc280510ad0>,\n",
              "  <matplotlib.axis.XTick at 0x7fc280510e50>],\n",
              " <a list of 5 Text major ticklabel objects>)"
            ]
          },
          "metadata": {},
          "execution_count": 18
        },
        {
          "output_type": "display_data",
          "data": {
            "image/png": "[encoded data removed]",
            "text/plain": [
              "<Figure size 432x288 with 1 Axes>"
            ]
          },
          "metadata": {
            "needs_background": "light"
          }
        }
      ]
    },
    {
      "cell_type": "markdown",
      "metadata": {
        "id": "fo8DjPqOMd5j"
      },
      "source": [
        "# Rolling statistics "
      ]
    },
    {
      "cell_type": "code",
      "metadata": {
        "colab": {
          "base_uri": "https://localhost:8080/",
          "height": 280
        },
        "id": "HTTmGSinMd5j",
        "outputId": "ae0e7afd-2811-4111-9bb5-c0f7d97c531c"
      },
      "source": [
        "\n",
        "rolling = energy.rolling(365, center=True)\n",
        "data = pd.DataFrame({'input': energy,\n",
        "                     'one-year rolling_mean': rolling.mean(),\n",
        "                     'one-year rolling_std': rolling.std()})\n",
        "ax = data.plot(style=['-', '--', ':'])\n",
        "ax.lines[0].set_alpha(0.3)\n",
        "\n",
        "\n"
      ],
      "execution_count": 19,
      "outputs": [
        {
          "output_type": "display_data",
          "data": {
            "image/png": "[encoded data removed]",
            "text/plain": [
              "<Figure size 432x288 with 1 Axes>"
            ]
          },
          "metadata": {
            "needs_background": "light"
          }
        }
      ]
    },
    {
      "cell_type": "code",
      "metadata": {
        "colab": {
          "base_uri": "https://localhost:8080/",
          "height": 320
        },
        "id": "IiFiseHKMd5l",
        "outputId": "655adb57-c02c-460c-cb56-90e29229a3ba"
      },
      "source": [
        "from statsmodels.tsa.seasonal import seasonal_decompose\n",
        "from dateutil.parser import parse\n",
        "# Additive Decomposition\n",
        "# result_add = seasonal_decompose(df['Energy (kWh)'].values, model='additive', extrapolate_trend='freq')\n",
        "decomposition = seasonal_decompose(df['Energy (kWh)'].values, freq=12, model='additive')\n",
        "decomposition.plot().suptitle('Additive Decompose')\n"
      ],
      "execution_count": 54,
      "outputs": [
        {
          "output_type": "execute_result",
          "data": {
            "text/plain": [
              "Text(0.5, 0.98, 'Additive Decompose')"
            ]
          },
          "metadata": {},
          "execution_count": 54
        },
        {
          "output_type": "display_data",
          "data": {
            "image/png": "[encoded data removed]",
            "text/plain": [
              "<Figure size 432x288 with 4 Axes>"
            ]
          },
          "metadata": {
            "needs_background": "light"
          }
        }
      ]
    },
    {
      "cell_type": "code",
      "metadata": {
        "id": "G-50GShOMd5l"
      },
      "source": [
        "# trend = decomposition.trend\n",
        "# seasonal = decomposition.seasonal\n"
      ],
      "execution_count": 23,
      "outputs": []
    },
    {
      "cell_type": "markdown",
      "metadata": {
        "id": "VgMLZKneMd5m"
      },
      "source": [
        "# Feature selection"
      ]
    },
    {
      "cell_type": "markdown",
      "metadata": {
        "id": "JfgB55CXMd5m"
      },
      "source": [
        "## filter methods\n",
        "1) Using Pearson Correlation\n",
        "\n",
        "2) Chi2"
      ]
    },
    {
      "cell_type": "markdown",
      "metadata": {
        "id": "HEcZtu9hMd5m"
      },
      "source": [
        "### Using Pearson Correlation"
      ]
    },
    {
      "cell_type": "code",
      "metadata": {
        "id": "1vrymVieMd5m"
      },
      "source": [
        "data_names = ['GHI (W/m2)', 'DNI (W/m2)', ' DHI (W/m2)',\n",
        "       'Wet bulb temp (C)', 'Dew point temp (C)', 'Energy (kWh)']"
      ],
      "execution_count": 24,
      "outputs": []
    },
    {
      "cell_type": "code",
      "metadata": {
        "colab": {
          "base_uri": "https://localhost:8080/",
          "height": 356
        },
        "id": "dPoulTAUMd5n",
        "outputId": "5dd2dc32-91d5-49d6-cecb-36ed833a7b35"
      },
      "source": [
        "cor = df[data_names].corr()\n",
        "sns.heatmap(cor, annot=True, cmap=plt.cm.Reds)\n",
        "plt.show()"
      ],
      "execution_count": 25,
      "outputs": [
        {
          "output_type": "display_data",
          "data": {
            "image/png": "[encoded data removed]",
            "text/plain": [
              "<Figure size 432x288 with 2 Axes>"
            ]
          },
          "metadata": {
            "needs_background": "light"
          }
        }
      ]
    },
    {
      "cell_type": "code",
      "metadata": {
        "colab": {
          "base_uri": "https://localhost:8080/"
        },
        "id": "pziSuG9yMd5n",
        "outputId": "32288c68-bd9a-4d03-cbae-948ce75940dc"
      },
      "source": [
        "#Correlation with output variable\n",
        "cor_target = abs(cor['Energy (kWh)'])\n",
        "#Selecting highly correlated features\n",
        "relevant_features = cor_target[(cor_target>0.5) & (cor_target<1)]\n",
        "relevant_features"
      ],
      "execution_count": 26,
      "outputs": [
        {
          "output_type": "execute_result",
          "data": {
            "text/plain": [
              "GHI (W/m2)    0.709867\n",
              "DNI (W/m2)    0.890319\n",
              "Name: Energy (kWh), dtype: float64"
            ]
          },
          "metadata": {},
          "execution_count": 26
        }
      ]
    },
    {
      "cell_type": "code",
      "metadata": {
        "colab": {
          "base_uri": "https://localhost:8080/",
          "height": 445
        },
        "id": "9nhYyEAwMd5n",
        "outputId": "3f04fe65-3822-42cd-aeb2-9e65d89c79ec"
      },
      "source": [
        "X_pearson = df[relevant_features.index]\n",
        "X_pearson"
      ],
      "execution_count": 27,
      "outputs": [
        {
          "output_type": "execute_result",
          "data": {
            "text/html": [
              "<div>\n",
              "<style scoped>\n",
              "    .dataframe tbody tr th:only-of-type {\n",
              "        vertical-align: middle;\n",
              "    }\n",
              "\n",
              "    .dataframe tbody tr th {\n",
              "        vertical-align: top;\n",
              "    }\n",
              "\n",
              "    .dataframe thead th {\n",
              "        text-align: right;\n",
              "    }\n",
              "</style>\n",
              "<table border=\"1\" class=\"dataframe\">\n",
              "  <thead>\n",
              "    <tr style=\"text-align: right;\">\n",
              "      <th></th>\n",
              "      <th>GHI (W/m2)</th>\n",
              "      <th>DNI (W/m2)</th>\n",
              "    </tr>\n",
              "    <tr>\n",
              "      <th>full_date</th>\n",
              "      <th></th>\n",
              "      <th></th>\n",
              "    </tr>\n",
              "  </thead>\n",
              "  <tbody>\n",
              "    <tr>\n",
              "      <th>01/01/1990</th>\n",
              "      <td>0</td>\n",
              "      <td>0</td>\n",
              "    </tr>\n",
              "    <tr>\n",
              "      <th>01/01/1990</th>\n",
              "      <td>0</td>\n",
              "      <td>0</td>\n",
              "    </tr>\n",
              "    <tr>\n",
              "      <th>01/01/1990</th>\n",
              "      <td>0</td>\n",
              "      <td>0</td>\n",
              "    </tr>\n",
              "    <tr>\n",
              "      <th>01/01/1990</th>\n",
              "      <td>0</td>\n",
              "      <td>0</td>\n",
              "    </tr>\n",
              "    <tr>\n",
              "      <th>01/01/1990</th>\n",
              "      <td>0</td>\n",
              "      <td>0</td>\n",
              "    </tr>\n",
              "    <tr>\n",
              "      <th>...</th>\n",
              "      <td>...</td>\n",
              "      <td>...</td>\n",
              "    </tr>\n",
              "    <tr>\n",
              "      <th>12/31/1990</th>\n",
              "      <td>0</td>\n",
              "      <td>0</td>\n",
              "    </tr>\n",
              "    <tr>\n",
              "      <th>12/31/1990</th>\n",
              "      <td>0</td>\n",
              "      <td>0</td>\n",
              "    </tr>\n",
              "    <tr>\n",
              "      <th>12/31/1990</th>\n",
              "      <td>0</td>\n",
              "      <td>0</td>\n",
              "    </tr>\n",
              "    <tr>\n",
              "      <th>12/31/1990</th>\n",
              "      <td>0</td>\n",
              "      <td>0</td>\n",
              "    </tr>\n",
              "    <tr>\n",
              "      <th>12/31/1990</th>\n",
              "      <td>0</td>\n",
              "      <td>0</td>\n",
              "    </tr>\n",
              "  </tbody>\n",
              "</table>\n",
              "<p>8760 rows × 2 columns</p>\n",
              "</div>"
            ],
            "text/plain": [
              "            GHI (W/m2)  DNI (W/m2)\n",
              "full_date                         \n",
              "01/01/1990           0           0\n",
              "01/01/1990           0           0\n",
              "01/01/1990           0           0\n",
              "01/01/1990           0           0\n",
              "01/01/1990           0           0\n",
              "...                ...         ...\n",
              "12/31/1990           0           0\n",
              "12/31/1990           0           0\n",
              "12/31/1990           0           0\n",
              "12/31/1990           0           0\n",
              "12/31/1990           0           0\n",
              "\n",
              "[8760 rows x 2 columns]"
            ]
          },
          "metadata": {},
          "execution_count": 27
        }
      ]
    },
    {
      "cell_type": "code",
      "metadata": {
        "colab": {
          "base_uri": "https://localhost:8080/"
        },
        "id": "u2BYIPBnMd5o",
        "outputId": "b4e2617c-5078-4229-c515-6949cb674ec5"
      },
      "source": [
        "from sklearn.feature_selection import SelectKBest\n",
        "from sklearn.feature_selection import chi2\n",
        "from sklearn.preprocessing import MinMaxScaler\n",
        "from sklearn import preprocessing\n",
        "le = preprocessing.LabelEncoder()\n",
        "\n",
        "\n",
        "data_names = ['GHI (W/m2)', 'DNI (W/m2)', ' DHI (W/m2)',\n",
        "       'Wet bulb temp (C)', 'Dew point temp (C)']\n",
        "X = df[data_names]\n",
        "\n",
        "\n",
        "le.fit(df['Energy (kWh)'])\n",
        "\n",
        "y = le.transform(df['Energy (kWh)'])\n",
        "X_norm = MinMaxScaler().fit_transform(X)\n",
        "\n",
        "\n",
        "N_best_features = 3\n",
        "chi_selector = SelectKBest(chi2, k=N_best_features)\n",
        "\n",
        "chi_selector.fit(X_norm, y)"
      ],
      "execution_count": 28,
      "outputs": [
        {
          "output_type": "execute_result",
          "data": {
            "text/plain": [
              "SelectKBest(k=3, score_func=<function chi2 at 0x7fc2741bfa70>)"
            ]
          },
          "metadata": {},
          "execution_count": 28
        }
      ]
    },
    {
      "cell_type": "code",
      "metadata": {
        "colab": {
          "base_uri": "https://localhost:8080/"
        },
        "id": "6R8G-T4EMd5o",
        "outputId": "ec37000f-2a70-41a7-89d0-708827cd0ad6"
      },
      "source": [
        "chi_support = chi_selector.get_support()\n",
        "chi_feature = df[data_names].loc[:,chi_support].columns.tolist()\n",
        "print(str(len(chi_feature)), 'selected features')\n"
      ],
      "execution_count": 29,
      "outputs": [
        {
          "output_type": "stream",
          "name": "stdout",
          "text": [
            "3 selected features\n"
          ]
        }
      ]
    },
    {
      "cell_type": "code",
      "metadata": {
        "colab": {
          "base_uri": "https://localhost:8080/"
        },
        "id": "9p3opFVQMd5p",
        "outputId": "c2468501-b82f-4f4c-aa3f-5c0e7f42cf01"
      },
      "source": [
        "chi_feature"
      ],
      "execution_count": 30,
      "outputs": [
        {
          "output_type": "execute_result",
          "data": {
            "text/plain": [
              "['GHI (W/m2)', 'DNI (W/m2)', ' DHI (W/m2)']"
            ]
          },
          "metadata": {},
          "execution_count": 30
        }
      ]
    },
    {
      "cell_type": "code",
      "metadata": {
        "id": "ULpQr0bvMd5p"
      },
      "source": [
        "X_chi2 = df[chi_feature]\n"
      ],
      "execution_count": 55,
      "outputs": []
    },
    {
      "cell_type": "markdown",
      "metadata": {
        "id": "mo7VESFMMd5p"
      },
      "source": [
        "# Classical ML"
      ]
    },
    {
      "cell_type": "code",
      "metadata": {
        "id": "5myZnk0KMd5q"
      },
      "source": [
        "X = df[df.columns[1:-1]]\n",
        "y = energy"
      ],
      "execution_count": 32,
      "outputs": []
    },
    {
      "cell_type": "code",
      "metadata": {
        "id": "yqi1roYKMd5q"
      },
      "source": [
        "from sklearn.model_selection import train_test_split\n",
        "\n",
        "train_X, test_X, train_y, test_y = train_test_split(X, y, test_size=0.3, random_state=100)"
      ],
      "execution_count": 33,
      "outputs": []
    },
    {
      "cell_type": "code",
      "metadata": {
        "id": "XlDXnSydMd5q"
      },
      "source": [
        "from sklearn.tree import DecisionTreeRegressor"
      ],
      "execution_count": 34,
      "outputs": []
    },
    {
      "cell_type": "code",
      "metadata": {
        "id": "F0DO-jk-Md5q"
      },
      "source": [
        "from sklearn.tree import DecisionTreeRegressor\n",
        "clf = DecisionTreeRegressor()\n"
      ],
      "execution_count": 35,
      "outputs": []
    },
    {
      "cell_type": "code",
      "metadata": {
        "id": "-sUoMr7EMd5r"
      },
      "source": [
        "clf = clf.fit(train_X, train_y)\n",
        "predictions = clf.predict(test_X)"
      ],
      "execution_count": 36,
      "outputs": []
    },
    {
      "cell_type": "code",
      "metadata": {
        "colab": {
          "base_uri": "https://localhost:8080/"
        },
        "id": "kqgxcIz2Md5s",
        "outputId": "3e0b3256-d610-400b-c63c-d33d95125b35"
      },
      "source": [
        "\n",
        "import numpy as np\n",
        "from sklearn import metrics\n",
        "# calculate MAE, MSE, RMSE\n",
        "clf = clf.fit(train_X, train_y)\n",
        "predictions = clf.predict(test_X)\n",
        "\n",
        "print(\"MAE\", metrics.mean_absolute_error(test_y, predictions))\n",
        "print(\"MSE\", metrics.mean_squared_error(test_y, predictions))\n",
        "print(\"RMSE\", np.sqrt(metrics.mean_squared_error(test_y, predictions)))"
      ],
      "execution_count": 37,
      "outputs": [
        {
          "output_type": "stream",
          "name": "stdout",
          "text": [
            "MAE 0.20010019322678865\n",
            "MSE 0.26416381907714714\n",
            "RMSE 0.5139686946470059\n"
          ]
        }
      ]
    },
    {
      "cell_type": "code",
      "metadata": {
        "id": "-GmRqdR9urIe"
      },
      "source": [
        "#nie stanowi to tresci szkolenia, zostawiam dla porownania z ML"
      ],
      "execution_count": null,
      "outputs": []
    },
    {
      "cell_type": "markdown",
      "metadata": {
        "id": "YB6q32CaMd5t"
      },
      "source": [
        "# LSTM"
      ]
    },
    {
      "cell_type": "code",
      "metadata": {
        "id": "ORwgQjuoMd5t"
      },
      "source": [
        "dataset = df['Energy (kWh)'].values #numpy.ndarray\n",
        "dataset = dataset.astype('float32')\n",
        "dataset = np.reshape(dataset, (-1, 1))\n",
        "scaler = MinMaxScaler(feature_range=(0, 1))\n",
        "dataset = scaler.fit_transform(dataset)\n",
        "train_size = int(len(dataset) * 0.80)\n",
        "test_size = len(dataset) - train_size\n",
        "train, test = dataset[0:train_size,:], dataset[train_size:len(dataset),:]\n",
        "\n",
        "def create_dataset(dataset, look_back=1):\n",
        "    X, Y = [], []\n",
        "    for i in range(len(dataset)-look_back-1):\n",
        "        a = dataset[i:(i+look_back), 0]\n",
        "        X.append(a)\n",
        "        Y.append(dataset[i + look_back, 0])\n",
        "    return np.array(X), np.array(Y)\n",
        "    \n",
        "look_back = 30\n",
        "X_train, Y_train = create_dataset(train, look_back)\n",
        "X_test, Y_test = create_dataset(test, look_back)\n",
        "\n",
        "# reshape input to be [samples, time steps, features]\n",
        "X_train = np.reshape(X_train, (X_train.shape[0], 1, X_train.shape[1]))\n",
        "X_test = np.reshape(X_test, (X_test.shape[0], 1, X_test.shape[1]))"
      ],
      "execution_count": 38,
      "outputs": []
    },
    {
      "cell_type": "code",
      "metadata": {
        "colab": {
          "base_uri": "https://localhost:8080/"
        },
        "id": "mPRVh4xlMd5u",
        "outputId": "982422a4-6d46-42b6-dd08-68674f62b651"
      },
      "source": [
        "X_train.shape"
      ],
      "execution_count": 39,
      "outputs": [
        {
          "output_type": "execute_result",
          "data": {
            "text/plain": [
              "(6977, 1, 30)"
            ]
          },
          "metadata": {},
          "execution_count": 39
        }
      ]
    },
    {
      "cell_type": "code",
      "metadata": {
        "colab": {
          "base_uri": "https://localhost:8080/"
        },
        "id": "7bJ7H3FqMd5u",
        "outputId": "723b170c-10b3-4b4b-e799-0632f300d7ac"
      },
      "source": [
        "Y_train.shape"
      ],
      "execution_count": 40,
      "outputs": [
        {
          "output_type": "execute_result",
          "data": {
            "text/plain": [
              "(6977,)"
            ]
          },
          "metadata": {},
          "execution_count": 40
        }
      ]
    },
    {
      "cell_type": "code",
      "metadata": {
        "id": "AGwB61JkMd5u"
      },
      "source": [
        "import math\n",
        "import keras\n",
        "from keras.models import Sequential\n",
        "from keras.layers import Dense\n",
        "from keras.layers import LSTM\n",
        "from keras.layers import Dropout\n",
        "from keras.layers import *\n",
        "from sklearn.preprocessing import MinMaxScaler\n",
        "from sklearn.metrics import mean_squared_error\n",
        "from sklearn.metrics import mean_absolute_error\n",
        "from keras.callbacks import EarlyStopping"
      ],
      "execution_count": 41,
      "outputs": []
    },
    {
      "cell_type": "code",
      "metadata": {
        "colab": {
          "base_uri": "https://localhost:8080/"
        },
        "id": "-m4hlWQuMd5v",
        "outputId": "660d1b15-9077-44ef-8ecb-fb58d6fb20e9"
      },
      "source": [
        "X_train.shape"
      ],
      "execution_count": 42,
      "outputs": [
        {
          "output_type": "execute_result",
          "data": {
            "text/plain": [
              "(6977, 1, 30)"
            ]
          },
          "metadata": {},
          "execution_count": 42
        }
      ]
    },
    {
      "cell_type": "code",
      "metadata": {
        "colab": {
          "base_uri": "https://localhost:8080/"
        },
        "id": "I95Hz9O1NGMa",
        "outputId": "e3baa350-7d42-4335-9ed1-960ce085c7e9"
      },
      "source": [
        "Y_train.shape"
      ],
      "execution_count": 43,
      "outputs": [
        {
          "output_type": "execute_result",
          "data": {
            "text/plain": [
              "(6977,)"
            ]
          },
          "metadata": {},
          "execution_count": 43
        }
      ]
    },
    {
      "cell_type": "code",
      "metadata": {
        "colab": {
          "base_uri": "https://localhost:8080/",
          "height": 35
        },
        "id": "iqs-DFXpMd5v",
        "outputId": "c251afa3-998d-4308-fac9-7c37a60cbfa5"
      },
      "source": [
        "np.__version__"
      ],
      "execution_count": 44,
      "outputs": [
        {
          "output_type": "execute_result",
          "data": {
            "application/vnd.google.colaboratory.intrinsic+json": {
              "type": "string"
            },
            "text/plain": [
              "'1.19.5'"
            ]
          },
          "metadata": {},
          "execution_count": 44
        }
      ]
    },
    {
      "cell_type": "code",
      "metadata": {
        "colab": {
          "base_uri": "https://localhost:8080/"
        },
        "id": "cJzOz7keMd5v",
        "outputId": "b2524efd-ff68-44e0-a9be-f8b1cd8bd37c"
      },
      "source": [
        "#LSTM\n",
        "\n",
        "model = Sequential()\n",
        "model.add(LSTM(100, input_shape=(X_train.shape[1], X_train.shape[2])))\n",
        "model.add(Dropout(0.2))\n",
        "model.add(Dense(1))\n",
        "model.compile(loss='mean_squared_error', optimizer='adam')\n",
        "\n",
        "history = model.fit(X_train, Y_train, epochs=20, batch_size=70, validation_data=(X_test, Y_test), \n",
        "                    callbacks=[EarlyStopping(monitor='val_loss', patience=10)], verbose=1, shuffle=False)\n",
        "\n",
        "model.summary()"
      ],
      "execution_count": 45,
      "outputs": [
        {
          "output_type": "stream",
          "name": "stdout",
          "text": [
            "Epoch 1/20\n",
            "100/100 [==============================] - 3s 8ms/step - loss: 0.0387 - val_loss: 0.0503\n",
            "Epoch 2/20\n",
            "100/100 [==============================] - 0s 4ms/step - loss: 0.0215 - val_loss: 0.0391\n",
            "Epoch 3/20\n",
            "100/100 [==============================] - 0s 4ms/step - loss: 0.0179 - val_loss: 0.0346\n",
            "Epoch 4/20\n",
            "100/100 [==============================] - 0s 4ms/step - loss: 0.0168 - val_loss: 0.0330\n",
            "Epoch 5/20\n",
            "100/100 [==============================] - 0s 4ms/step - loss: 0.0164 - val_loss: 0.0324\n",
            "Epoch 6/20\n",
            "100/100 [==============================] - 0s 4ms/step - loss: 0.0156 - val_loss: 0.0320\n",
            "Epoch 7/20\n",
            "100/100 [==============================] - 0s 4ms/step - loss: 0.0155 - val_loss: 0.0316\n",
            "Epoch 8/20\n",
            "100/100 [==============================] - 0s 4ms/step - loss: 0.0153 - val_loss: 0.0311\n",
            "Epoch 9/20\n",
            "100/100 [==============================] - 0s 4ms/step - loss: 0.0150 - val_loss: 0.0307\n",
            "Epoch 10/20\n",
            "100/100 [==============================] - 0s 4ms/step - loss: 0.0149 - val_loss: 0.0312\n",
            "Epoch 11/20\n",
            "100/100 [==============================] - 0s 3ms/step - loss: 0.0148 - val_loss: 0.0307\n",
            "Epoch 12/20\n",
            "100/100 [==============================] - 0s 4ms/step - loss: 0.0147 - val_loss: 0.0305\n",
            "Epoch 13/20\n",
            "100/100 [==============================] - 0s 4ms/step - loss: 0.0144 - val_loss: 0.0306\n",
            "Epoch 14/20\n",
            "100/100 [==============================] - 0s 4ms/step - loss: 0.0145 - val_loss: 0.0306\n",
            "Epoch 15/20\n",
            "100/100 [==============================] - 0s 4ms/step - loss: 0.0145 - val_loss: 0.0308\n",
            "Epoch 16/20\n",
            "100/100 [==============================] - 0s 4ms/step - loss: 0.0143 - val_loss: 0.0304\n",
            "Epoch 17/20\n",
            "100/100 [==============================] - 0s 3ms/step - loss: 0.0142 - val_loss: 0.0305\n",
            "Epoch 18/20\n",
            "100/100 [==============================] - 0s 3ms/step - loss: 0.0143 - val_loss: 0.0305\n",
            "Epoch 19/20\n",
            "100/100 [==============================] - 0s 4ms/step - loss: 0.0142 - val_loss: 0.0305\n",
            "Epoch 20/20\n",
            "100/100 [==============================] - 0s 4ms/step - loss: 0.0142 - val_loss: 0.0303\n",
            "Model: \"sequential\"\n",
            "_________________________________________________________________\n",
            " Layer (type)                Output Shape              Param #   \n",
            "=================================================================\n",
            " lstm (LSTM)                 (None, 100)               52400     \n",
            "                                                                 \n",
            " dropout (Dropout)           (None, 100)               0         \n",
            "                                                                 \n",
            " dense (Dense)               (None, 1)                 101       \n",
            "                                                                 \n",
            "=================================================================\n",
            "Total params: 52,501\n",
            "Trainable params: 52,501\n",
            "Non-trainable params: 0\n",
            "_________________________________________________________________\n"
          ]
        }
      ]
    },
    {
      "cell_type": "code",
      "metadata": {
        "colab": {
          "base_uri": "https://localhost:8080/"
        },
        "id": "7MVgJa--Md5w",
        "outputId": "638a59e1-ebce-4d2c-d909-79549d7afa7b"
      },
      "source": [
        "train_predict = model.predict(X_train)\n",
        "test_predict = model.predict(X_test)\n",
        "# invert predictions\n",
        "train_predict = scaler.inverse_transform(train_predict)\n",
        "Y_train = scaler.inverse_transform([Y_train])\n",
        "test_predict = scaler.inverse_transform(test_predict)\n",
        "Y_test = scaler.inverse_transform([Y_test])\n",
        "print('Train Mean Absolute Error:', mean_absolute_error(Y_train[0], train_predict[:,0]))\n",
        "print('Train Root Mean Squared Error:',np.sqrt(mean_squared_error(Y_train[0], train_predict[:,0])))\n",
        "print('Test Mean Absolute Error:', mean_absolute_error(Y_test[0], test_predict[:,0]))\n",
        "print('Test Root Mean Squared Error:',np.sqrt(mean_squared_error(Y_test[0], test_predict[:,0])))"
      ],
      "execution_count": 46,
      "outputs": [
        {
          "output_type": "stream",
          "name": "stdout",
          "text": [
            "Train Mean Absolute Error: 62.26881196049271\n",
            "Train Root Mean Squared Error: 116.65364985388717\n",
            "Test Mean Absolute Error: 102.19101163478322\n",
            "Test Root Mean Squared Error: 174.61484868562277\n"
          ]
        }
      ]
    },
    {
      "cell_type": "code",
      "metadata": {
        "colab": {
          "base_uri": "https://localhost:8080/",
          "height": 294
        },
        "id": "60ZufedGMd5w",
        "outputId": "82969494-cf47-47dc-b94c-05f214968e8b"
      },
      "source": [
        "plt.figure(figsize=(8,4))\n",
        "plt.plot(history.history['loss'], label='Train Loss')\n",
        "plt.plot(history.history['val_loss'], label='Test Loss')\n",
        "plt.title('model loss')\n",
        "plt.ylabel('loss')\n",
        "plt.xlabel('epochs')\n",
        "plt.legend(loc='upper right')\n",
        "plt.show();"
      ],
      "execution_count": 47,
      "outputs": [
        {
          "output_type": "display_data",
          "data": {
            "image/png": "[encoded data removed]",
            "text/plain": [
              "<Figure size 576x288 with 1 Axes>"
            ]
          },
          "metadata": {
            "needs_background": "light"
          }
        }
      ]
    },
    {
      "cell_type": "code",
      "metadata": {
        "id": "aBa4FLUUMd5w",
        "colab": {
          "base_uri": "https://localhost:8080/",
          "height": 331
        },
        "outputId": "ea9f77e9-55ff-498c-dd26-9d894ab622cf"
      },
      "source": [
        "aa=[x for x in range(200)]\n",
        "plt.figure(figsize=(8,4))\n",
        "plt.plot(aa, Y_test[0][:200], marker='.', label=\"actual\")\n",
        "plt.plot(aa, test_predict[:,0][:200], 'r', label=\"prediction\")\n",
        "# plt.tick_params(left=False, labelleft=True) #remove ticks\n",
        "plt.tight_layout()\n",
        "sns.despine(top=True)\n",
        "plt.subplots_adjust(left=0.07)\n",
        "plt.title(\"Energy prediction\")\n",
        "plt.xlabel('Time step', size=15)\n",
        "plt.legend(fontsize=15)\n",
        "plt.show();"
      ],
      "execution_count": 48,
      "outputs": [
        {
          "output_type": "display_data",
          "data": {
            "image/png": "[encoded data removed]",
            "text/plain": [
              "<Figure size 576x288 with 1 Axes>"
            ]
          },
          "metadata": {
            "needs_background": "light"
          }
        }
      ]
    },
    {
      "cell_type": "code",
      "metadata": {
        "id": "US3k0x-KMd52"
      },
      "source": [
        ""
      ],
      "execution_count": null,
      "outputs": []
    }
  ]
}