{
 "cells": [
  {
   "cell_type": "markdown",
   "metadata": {},
   "source": [
    "# NumPy, pandas i Matplotlib"
   ]
  },
  {
   "cell_type": "markdown",
   "metadata": {},
   "source": [
    "## NumPy"
   ]
  },
  {
   "cell_type": "code",
   "execution_count": 2,
   "metadata": {},
   "outputs": [
    {
     "name": "stdout",
     "output_type": "stream",
     "text": [
      "WEKTOR\n",
      "[1. 2. 3. 4. 5.]\n",
      "Liczba wymiarów:  1\n",
      "Wymiar:  (5,)\n",
      "Rozmiar:  5\n",
      "Typ tablicy:  float64\n",
      "Macierz 2D\n",
      "[[1 2]\n",
      " [3 4]\n",
      " [5 6]\n",
      " [7 8]]\n",
      "[[1 0 1]\n",
      " [0 0 0]\n",
      " [1 0 1]]\n",
      "Liczba wymiarów:  2\n",
      "Wymiar:  (4, 2)\n",
      "Rozmiar:  8\n",
      "Typ tablicy:  int64\n",
      "Macierz z krotek\n",
      "[['1' 'a' '3.0']\n",
      " ['2' 'b' '3.5']]\n",
      "Liczba wymiarów:  2\n",
      "Wymiar:  (2, 3)\n",
      "Rozmiar:  6\n",
      "Typ tablicy:  <U21\n"
     ]
    }
   ],
   "source": [
    "import numpy as np\n",
    "\n",
    "# tablica 1-wymiarowa (wektor)\n",
    "\n",
    "vec = np.array([1.0, 2.0, 3.0, 4.0, 5.0])\n",
    "vec2 = [1, 2, 3, 4, 5]\n",
    "np_vec = np.array(vec2)\n",
    "print(\"WEKTOR\")\n",
    "print(vec)\n",
    "print(\"Liczba wymiarów: \", vec.ndim)\n",
    "print(\"Wymiar: \", vec.shape)\n",
    "print(\"Rozmiar: \", vec.size)\n",
    "print(\"Typ tablicy: \", vec.dtype)\n",
    "\n",
    "# tablica 2-wymiarowa (macierz)\n",
    "\n",
    "mat = np.array([[1,2],[3,4],[5,6],[7,8]])\n",
    "mat2 = np.matrix([[1,0,1],[0, 0, 0],[1, 0, 1]])\n",
    "print(\"Macierz 2D\")\n",
    "print(mat)\n",
    "print(mat2)\n",
    "print(\"Liczba wymiarów: \", mat.ndim)\n",
    "print(\"Wymiar: \", mat.shape)\n",
    "print(\"Rozmiar: \", mat.size) \n",
    "print(\"Typ tablicy: \", mat.dtype)\n",
    "\n",
    "# macierz wielowymiarowa z krotek\n",
    "print(\"Macierz z krotek\")\n",
    "tupMat = np.array([(1,'a',3.0),(2,'b',3.5)])\n",
    "print(tupMat)\n",
    "print(\"Liczba wymiarów: \", tupMat.ndim)\n",
    "print(\"Wymiar: \", tupMat.shape)\n",
    "print(\"Rozmiar: \", tupMat.size) \n",
    "print(\"Typ tablicy: \", tupMat.dtype)\n"
   ]
  },
  {
   "cell_type": "code",
   "execution_count": 14,
   "metadata": {},
   "outputs": [
    {
     "name": "stdout",
     "output_type": "stream",
     "text": [
      "[0.45873121 0.41194585 0.44304199 0.38520128 0.65716139]\n",
      "[ 1.08519354  0.28984922 -1.2367323   1.27959547 -1.19016549]\n",
      "[-10  -8  -6  -4  -2   0   2   4   6   8]\n",
      "[[ 0  1  2  3]\n",
      " [ 4  5  6  7]\n",
      " [ 8  9 10 11]]\n",
      "[[ 0  1  2]\n",
      " [ 3  4  5]\n",
      " [ 6  7  8]\n",
      " [ 9 10 11]]\n",
      "[0.         0.11111111 0.22222222 0.33333333 0.44444444 0.55555556\n",
      " 0.66666667 0.77777778 0.88888889 1.        ]\n",
      "[1.e-03 1.e-02 1.e-01 1.e+00 1.e+01 1.e+02 1.e+03]\n"
     ]
    }
   ],
   "source": [
    "print(np.random.rand(5))          # wektor 5 wartości losowych w zakresie od 0 do 1\n",
    "print(np.random.randn(5))         # wektor 5 wartości losowych z o rozkładzie Gaussa\n",
    "print(np.arange(-10,10,2))        # działa jak range, tylko zwraca ndarray zamiast list\n",
    "print(np.arange(12).reshape(3,4)) # zmiana wymiarów macierzy\n",
    "print(np.arange(12).reshape(4,3))\n",
    "print(np.linspace(0,1,10))        # wektor 10 wartości od 0 do 1 (równa odległość między punktami)\n",
    "print(np.logspace(-3,3,7))        # wektor 7 wartości od 10^-3 do 10^3 (odległości logarytmiczne)"
   ]
  },
  {
   "cell_type": "code",
   "execution_count": 15,
   "metadata": {},
   "outputs": [
    {
     "name": "stdout",
     "output_type": "stream",
     "text": [
      "[[0. 0. 0. 0. 0. 0. 0. 0. 0. 0.]\n",
      " [0. 0. 0. 0. 0. 0. 0. 0. 0. 0.]\n",
      " [0. 0. 0. 0. 0. 0. 0. 0. 0. 0.]\n",
      " [0. 0. 0. 0. 0. 0. 0. 0. 0. 0.]\n",
      " [0. 0. 0. 0. 0. 0. 0. 0. 0. 0.]\n",
      " [0. 0. 0. 0. 0. 0. 0. 0. 0. 0.]\n",
      " [0. 0. 0. 0. 0. 0. 0. 0. 0. 0.]\n",
      " [0. 0. 0. 0. 0. 0. 0. 0. 0. 0.]\n",
      " [0. 0. 0. 0. 0. 0. 0. 0. 0. 0.]\n",
      " [0. 0. 0. 0. 0. 0. 0. 0. 0. 0.]]\n",
      "[[1. 1.]\n",
      " [1. 1.]\n",
      " [1. 1.]]\n",
      "[[1. 0. 0. 0. 0.]\n",
      " [0. 1. 0. 0. 0.]\n",
      " [0. 0. 1. 0. 0.]\n",
      " [0. 0. 0. 1. 0.]\n",
      " [0. 0. 0. 0. 1.]]\n"
     ]
    }
   ],
   "source": [
    "print(np.zeros((10,10)))      # macierz zer\n",
    "print(np.ones((3,2)))         # macierz jedynek\n",
    "print(np.eye(5))              # macierz jednostkowa"
   ]
  },
  {
   "cell_type": "code",
   "execution_count": 16,
   "metadata": {},
   "outputs": [
    {
     "name": "stdout",
     "output_type": "stream",
     "text": [
      "[2 3 4 5 6]\n",
      "[0 1 2 3 4]\n",
      "[ 2  4  6  8 10]\n",
      "[0 1 1 2 2]\n",
      "[ 1  4  9 16 25]\n",
      "[1 0 1 0 1]\n",
      "[1.         0.5        0.33333333 0.25       0.2       ]\n"
     ]
    }
   ],
   "source": [
    "x = np.array([1,2,3,4,5])\n",
    "\n",
    "print(x + 1)      # dodanie do każdego elementu wektora/macierzy 1\n",
    "print(x - 1)      # odjęcie od każdego elementu wektora/macierzy 1\n",
    "print(x * 2)      # przemnożenie każdego elementu wektora/macierzy przez 2\n",
    "print(x // 2)     # dzielenie całkowite każdego elementu wektora/macierzy przez 2\n",
    "print(x ** 2)     # kwadrat macierzy/wektora\n",
    "print(x % 2)      # dzielenie modulo każdego elementu wektora/macierzy przez 2  \n",
    "print(1 / x)      # odwrotność każdego elementu wektora/macierzy"
   ]
  },
  {
   "cell_type": "code",
   "execution_count": 22,
   "metadata": {},
   "outputs": [
    {
     "name": "stdout",
     "output_type": "stream",
     "text": [
      "[-5 -4 -3 -2 -1  0  1  2  3  4]\n",
      "[-2 -1]\n",
      "[1000 1000]\n",
      "[  -5   -4   -3 1000 1000    0    1    2    3    4]\n",
      "[-5 -4 -3 -2 -1  0  1  2  3  4]\n",
      "[-2 -1]\n",
      "[500 500]\n",
      "[-5 -4 -3 -2 -1  0  1  2  3  4]\n",
      "[-3 -2]\n",
      "[-3 -2 -1  0  1  2  3  4]\n",
      "[-5 -4 -3 -2]\n",
      "[-5 -4 -3 -2 -1  0  1  2  3  4]\n"
     ]
    }
   ],
   "source": [
    "x = np.arange(-5,5)\n",
    "print(x)\n",
    "\n",
    "y = x[3:5]     # elementy wektora od pozycji 3. do 4. (indeksacja od 0)\n",
    "print(y)\n",
    "y[:] = 1000    # zmodyfikowanie wartości w każdym elemencie wekora y\n",
    "\n",
    "print(y)\n",
    "print(x)\n",
    "\n",
    "# UWAGA - zmodyfikowano również wektor x !!!\n",
    "\n",
    "x = np.arange(-5,5)\n",
    "print(x)\n",
    "z = x[3:5].copy()   # z jest kopią fragmentu wektora x\n",
    "print(z)\n",
    "z[:] = 500          # modyfikacja wartości w każdym elemencie wektora z\n",
    "print(z)\n",
    "print(x)\n",
    "\n",
    "# UWAGA - po skopiowaniu fragmentu x do z nie został modyfikowany wektor x\n",
    "\n",
    "print(x[2:4]) # wyświetlenie wektora x od pozycji o indeksie 2 do pozycji o indeksie 3\n",
    "print(x[2:]) # wyświetlenie wektora x od pozycji o indeksie 2 do końca\n",
    "print(x[:4]) # wyświetlenie wektora x od początku do elementu o indeksie 3\n",
    "print(x[:])  # tożsme z print(x)"
   ]
  },
  {
   "cell_type": "code",
   "execution_count": 25,
   "metadata": {},
   "outputs": [
    {
     "name": "stdout",
     "output_type": "stream",
     "text": [
      "[[1, 2, 3, 4], [5, 6, 7, 8], [9, 10, 11, 12], [13, 14, 15, 16]]\n",
      "[9, 10, 11, 12]\n",
      "[9, 10, 11, 12]\n",
      "11\n"
     ]
    }
   ],
   "source": [
    "mat2D = [ [1, 2, 3, 4], [5, 6, 7, 8], [9, 10, 11, 12], [13, 14, 15, 16] ]  # macierz w postaci listy wierszy\n",
    "print(mat2D)\n",
    "\n",
    "print(mat2D[2])        # trzeci wiersz macierzy\n",
    "print(mat2D[:][2])     # trzecia kolumna macierzy\n",
    "print(mat2D[2][2])     # element macierzy o indeksach [2,2]\n",
    "\n",
    "# print(mat2D[2,2])    # w przypadku listy list pojawi się błąd!\n"
   ]
  },
  {
   "cell_type": "code",
   "execution_count": 44,
   "metadata": {},
   "outputs": [
    {
     "name": "stdout",
     "output_type": "stream",
     "text": [
      "[[ 1  2  3  4]\n",
      " [ 5  6  7  8]\n",
      " [ 9 10 11 12]\n",
      " [13 14 15 16]]\n",
      "[ 9 10 11 12]\n",
      "[ 9 10 11 12]\n",
      "[ 9 10 11 12]\n",
      "[ 3  7 11 15]\n",
      "11\n",
      "11\n",
      "[[1 2]\n",
      " [5 6]]\n",
      "[ 2  4  6  8 10 12 14 16]\n",
      "[10 12]\n",
      "[ 1  6 11 16]\n"
     ]
    }
   ],
   "source": [
    "matrix2D = np.array(mat2D)\n",
    "print(matrix2D)\n",
    "print(matrix2D[2][:])      # trzeci wiersz macierzy\n",
    "print(matrix2D[2,:])       # trzeci wiersz macierzy\n",
    "print(matrix2D[:][2])      # trzeci wiersz macierzy\n",
    "print(matrix2D[:,2])       # trzecia kolumna macierzy\n",
    "print(matrix2D[2,2])       # element macierzy o indeksie [2,2]\n",
    "print(matrix2D[2][2])      # element macierzy o indeksie [2,2]\n",
    "print(matrix2D[:2,:2])     # podmacierz od elementu o indeksie 0 do 1 w wierszu i w kolumnie\n",
    "print(matrix2D[ matrix2D % 2 == 0]) # elementy macierzy spełniające podany warunek logiczny\n",
    "print(matrix2D[2, matrix2D[2] % 2 == 0]) # elementy macierzy spełniające podany warunek logiczny\n",
    "print(matrix2D[[0,1,2,3], [0,1,2,3]]) # elementy macierzy o podanych parach indeksów [0,0], [1,1], [2,2], [3,3]"
   ]
  },
  {
   "cell_type": "markdown",
   "metadata": {},
   "source": [
    "### Funkcje arytmetyczne i statystyczne"
   ]
  },
  {
   "cell_type": "code",
   "execution_count": 10,
   "metadata": {},
   "outputs": [
    {
     "name": "stdout",
     "output_type": "stream",
     "text": [
      "[[-0.46148402 -0.41077117  0.23370623  0.20093599  0.4524403 ]]\n",
      "\n",
      "[[0.46148402 0.41077117 0.23370623 0.20093599 0.4524403 ]]\n",
      "[[0.67932615 0.64091432 0.48343172 0.44825885 0.67263682]]\n",
      "[[-1. -1.  1.  1.  1.]]\n",
      "[[0.6303475  0.66313866 1.26327332 1.22254652 1.57214401]]\n",
      "[[-0.46148402 -0.41077117  0.20093599  0.23370623  0.4524403 ]]\n",
      "Min = -0.46148401768061\n",
      "Max = 0.4524402980797385\n",
      "Avg = 0.0029654663015025173\n",
      "Std dev = 0.3691483659068899\n",
      "Sum = 0.014827331507512587\n",
      "\n",
      "[[0.2993631  0.44385263 0.04072602 0.87058462 0.87471272]]\n",
      "\n",
      "[[-0.16212091  0.03308146  0.27443224  1.07152061  1.32715302]]\n",
      "[[-0.16212091  0.03308146  0.27443224  1.07152061  1.32715302]]\n",
      "[[ 0.76084712  0.8546238  -0.19298021  0.66964863  0.42227242]]\n",
      "[[ 0.76084712  0.8546238  -0.19298021  0.66964863  0.42227242]]\n",
      "[[-0.13815129 -0.18232186  0.00951792  0.17493179  0.39575528]]\n",
      "[[-0.13815129 -0.18232186  0.00951792  0.17493179  0.39575528]]\n",
      "[[-0.64869658 -1.08053501  0.17426158  4.33264647  1.93332186]]\n",
      "[[-0.64869658 -1.08053501  0.17426158  4.33264647  1.93332186]]\n",
      "[[0.2993631  0.44385263 0.23370623 0.87058462 0.87471272]]\n"
     ]
    }
   ],
   "source": [
    "y = np.random.rand(1, 5) - 0.5   # wektor 5 losowych wartości z przedziału [-0.5, 0.5]\n",
    "print(y)\n",
    "print()\n",
    "print(np.abs(y))                      # wartość bezwzględna\n",
    "print(np.sqrt(abs(y)))                # pierwiastek\n",
    "print(np.sign(y))                     # znak\n",
    "print(np.exp(y))                      # e^x\n",
    "print(np.sort(y))                     # posortowany wektor\n",
    "print(\"Min =\", np.min(y))             # minimalna wartość z y \n",
    "print(\"Max =\", np.max(y))             # maksymalna wartość z y \n",
    "print(\"Avg =\", np.mean(y))            # średnia wartość y\n",
    "print(\"Std dev =\", np.std(y))         # odchylenie standowe\n",
    "print(\"Sum =\", np.sum(y))             # suma elementów \n",
    "\n",
    "x = np.random.rand(1, 5)     # wektor 5 losowych elementów z przedziału [0, 1]\n",
    "print()\n",
    "print(x)\n",
    "print()\n",
    "\n",
    "print(np.add(x,y))           # x + y\n",
    "print(x + y)\n",
    "print(np.subtract(x,y))      # x - y\n",
    "print(x - y)\n",
    "print(np.multiply(x,y))      # x * y\n",
    "print(x * y)\n",
    "print(np.divide(x,y))        # x / y\n",
    "print(x /y)\n",
    "print(np.maximum(x,y))       # max(x,y)"
   ]
  },
  {
   "cell_type": "markdown",
   "metadata": {},
   "source": [
    "### Elementy algebry liniowej"
   ]
  },
  {
   "cell_type": "code",
   "execution_count": 28,
   "metadata": {},
   "outputs": [
    {
     "name": "stdout",
     "output_type": "stream",
     "text": [
      "[[0.11804312 0.69004648 0.69869934 0.29656632]\n",
      " [0.44053135 0.55030554 0.97661338 0.81672986]\n",
      " [0.25569279 0.85020976 0.541541   0.17443049]\n",
      " [0.56199699 0.11240954 0.16507485 0.74250847]]\n",
      "\n",
      "[[-10.50248083   4.69554617   5.7929712   -2.33099231]\n",
      " [  4.47412712  -3.14181704  -0.66277029   1.82455526]\n",
      " [ -4.74772715   3.99304041   1.65005819  -2.88352244]\n",
      " [  8.32739107  -3.96610043  -4.65114396   3.47593379]]\n",
      "\n",
      "[[0.11804312 0.44053135 0.25569279 0.56199699]\n",
      " [0.69004648 0.55030554 0.85020976 0.11240954]\n",
      " [0.69869934 0.97661338 0.541541   0.16507485]\n",
      " [0.29656632 0.81672986 0.17443049 0.74250847]]\n",
      "\n",
      "0.031138817938422686\n",
      "[ 2.01974545  0.39013436 -0.11558296 -0.34189872]\n",
      "\n",
      "[[-0.47001228 -0.3520712  -0.71295075  0.09857942]\n",
      " [-0.65261471  0.0343355   0.37814599 -0.72102424]\n",
      " [-0.4953977  -0.50514871 -0.34000247  0.68117524]\n",
      " [-0.3282737   0.78720501  0.48280965 -0.08004026]]\n",
      "\n",
      "[0.54093018 0.93235805 0.2323199  0.49083142]\n",
      "[0.54093018 0.93235805 0.2323199  0.49083142]\n",
      "\n",
      "[[0.06385308 0.64337039 0.16232176 0.14556407]\n",
      " [0.2382967  0.5130818  0.22688673 0.40087668]\n",
      " [0.13831195 0.79269991 0.12581075 0.08561597]\n",
      " [0.30400114 0.10480594 0.03835017 0.36444649]]\n",
      "\n",
      "[[0.06385308 0.64337039 0.16232176 0.14556407]\n",
      " [0.2382967  0.5130818  0.22688673 0.40087668]\n",
      " [0.13831195 0.79269991 0.12581075 0.08561597]\n",
      " [0.30400114 0.10480594 0.03835017 0.36444649]]\n",
      "\n",
      "[1.01510931 1.37914191 1.14243858 0.81160374]\n"
     ]
    }
   ],
   "source": [
    "mat = np.random.rand(4, 4)  # macierz 4x4 o losowych wartościach z przedziału [0, 1]\n",
    "\n",
    "print(mat)\n",
    "print()\n",
    "print(np.linalg.inv(mat))  # macierz odwrotna\n",
    "print()\n",
    "print(np.transpose(mat))   # macierz transponowana\n",
    "print()\n",
    "print(np.linalg.det(mat))  # wyznacznik macierzy\n",
    "v, w = np.linalg.eig(mat)  # v - wartości własne macierzy, w - wektory własne do wartości własnych\n",
    "print(v)\n",
    "print()\n",
    "print(w)\n",
    "print()\n",
    "\n",
    "vec = np.random.rand(4)\n",
    "\n",
    "print(vec)               # wektor wierszowy\n",
    "print(np.transpose(vec)) # wektor kolumnowy\n",
    "\n",
    "print()\n",
    "print( mat * vec ) # macierz x wektor\n",
    "print()\n",
    "print( mat * np.transpose(vec)) # macierz x wektor\n",
    "print()\n",
    "print(np.dot(mat, vec)) # iloczyn skalarny\n"
   ]
  },
  {
   "cell_type": "markdown",
   "metadata": {},
   "source": [
    "## pandas"
   ]
  },
  {
   "cell_type": "markdown",
   "metadata": {},
   "source": [
    "### Szeregi"
   ]
  },
  {
   "cell_type": "code",
   "execution_count": 20,
   "metadata": {},
   "outputs": [
    {
     "name": "stdout",
     "output_type": "stream",
     "text": [
      "0    0.763813\n",
      "1    0.074030\n",
      "2    0.584622\n",
      "3    0.380448\n",
      "4    0.848834\n",
      "dtype: float64\n",
      "Wartości:  [0.76381256 0.07403008 0.58462205 0.38044759 0.84883429]\n",
      "Indeksy:  RangeIndex(start=0, stop=5, step=1)\n"
     ]
    }
   ],
   "source": [
    "from pandas import Series\n",
    "\n",
    "s = Series( np.random.rand(5) ) # szereg z listy losowych elementów\n",
    "print(s)\n",
    "print(\"Wartości: \", s.values)\n",
    "print(\"Indeksy: \", s.index)"
   ]
  },
  {
   "cell_type": "code",
   "execution_count": 22,
   "metadata": {},
   "outputs": [
    {
     "name": "stdout",
     "output_type": "stream",
     "text": [
      "styczeń         1\n",
      "luty            2\n",
      "marzec          3\n",
      "kwiecień        4\n",
      "maj             5\n",
      "czerwiec        6\n",
      "lipiec          7\n",
      "sierpień        8\n",
      "wrzesień        9\n",
      "październik    10\n",
      "listopad       11\n",
      "grudzień       12\n",
      "dtype: int64\n"
     ]
    }
   ],
   "source": [
    "s1 = Series([1, 2, 3, 4, 5, 6, 7, 8, 9, 10, 11, 12], \n",
    "            index = ['styczeń', 'luty', 'marzec', 'kwiecień', 'maj', 'czerwiec', 'lipiec', 'sierpień', 'wrzesień', 'październik', 'listopad', 'grudzień'])\n",
    "\n",
    "print(s1)"
   ]
  },
  {
   "cell_type": "code",
   "execution_count": 23,
   "metadata": {},
   "outputs": [
    {
     "name": "stdout",
     "output_type": "stream",
     "text": [
      "PL             Polska\n",
      "GB    Wielka Brytania\n",
      "DE             Niemcy\n",
      "FR            Francja\n",
      "dtype: object\n"
     ]
    }
   ],
   "source": [
    "kraje = { \"PL\": \"Polska\", \"GB\": \"Wielka Brytania\", \"DE\": \"Niemcy\", \"FR\" : \"Francja\"}\n",
    "s2 = Series(kraje)\n",
    "print(s2)"
   ]
  },
  {
   "cell_type": "markdown",
   "metadata": {},
   "source": [
    "### DataFrame - tabele"
   ]
  },
  {
   "cell_type": "code",
   "execution_count": 37,
   "metadata": {},
   "outputs": [
    {
     "data": {
      "text/html": [
       "<div>\n",
       "<style scoped>\n",
       "    .dataframe tbody tr th:only-of-type {\n",
       "        vertical-align: middle;\n",
       "    }\n",
       "\n",
       "    .dataframe tbody tr th {\n",
       "        vertical-align: top;\n",
       "    }\n",
       "\n",
       "    .dataframe thead th {\n",
       "        text-align: right;\n",
       "    }\n",
       "</style>\n",
       "<table border=\"1\" class=\"dataframe\">\n",
       "  <thead>\n",
       "    <tr style=\"text-align: right;\">\n",
       "      <th></th>\n",
       "      <th>dzień</th>\n",
       "      <th>temperatura</th>\n",
       "      <th>zachmurzenie</th>\n",
       "    </tr>\n",
       "  </thead>\n",
       "  <tbody>\n",
       "    <tr>\n",
       "      <th>0</th>\n",
       "      <td>poniedziałek</td>\n",
       "      <td>22.0</td>\n",
       "      <td>pogodnie</td>\n",
       "    </tr>\n",
       "    <tr>\n",
       "      <th>1</th>\n",
       "      <td>wtorek</td>\n",
       "      <td>24.0</td>\n",
       "      <td>pogodnie</td>\n",
       "    </tr>\n",
       "    <tr>\n",
       "      <th>2</th>\n",
       "      <td>środa</td>\n",
       "      <td>26.0</td>\n",
       "      <td>pogodnie</td>\n",
       "    </tr>\n",
       "    <tr>\n",
       "      <th>3</th>\n",
       "      <td>czwartek</td>\n",
       "      <td>24.0</td>\n",
       "      <td>częściowe zachmurzenie</td>\n",
       "    </tr>\n",
       "    <tr>\n",
       "      <th>4</th>\n",
       "      <td>piątek</td>\n",
       "      <td>25.0</td>\n",
       "      <td>przelotne opady</td>\n",
       "    </tr>\n",
       "    <tr>\n",
       "      <th>5</th>\n",
       "      <td>sobota</td>\n",
       "      <td>18.0</td>\n",
       "      <td>burze</td>\n",
       "    </tr>\n",
       "    <tr>\n",
       "      <th>6</th>\n",
       "      <td>niedziela</td>\n",
       "      <td>16.0</td>\n",
       "      <td>gradobicia</td>\n",
       "    </tr>\n",
       "  </tbody>\n",
       "</table>\n",
       "</div>"
      ],
      "text/plain": [
       "          dzień  temperatura            zachmurzenie\n",
       "0  poniedziałek         22.0                pogodnie\n",
       "1        wtorek         24.0                pogodnie\n",
       "2         środa         26.0                pogodnie\n",
       "3      czwartek         24.0  częściowe zachmurzenie\n",
       "4        piątek         25.0         przelotne opady\n",
       "5        sobota         18.0                   burze\n",
       "6     niedziela         16.0              gradobicia"
      ]
     },
     "execution_count": 37,
     "metadata": {},
     "output_type": "execute_result"
    }
   ],
   "source": [
    "from pandas import DataFrame\n",
    "pogoda = {\"dzień\": [\"poniedziałek\", \"wtorek\", \"środa\", \"czwartek\", \"piątek\", \"sobota\", \"niedziela\"], \n",
    "          \"temperatura\": [22.0, 24.0, 26.0, 24.0, 25.0, 18.0, 16.0],\n",
    "          \"zachmurzenie\": [\"pogodnie\", \"pogodnie\", \"pogodnie\", \"częściowe zachmurzenie\", \"przelotne opady\", \"burze\", \"gradobicia\"]}\n",
    "pogodaTab = DataFrame(pogoda)\n",
    "\n",
    "pogodaTab"
   ]
  },
  {
   "cell_type": "code",
   "execution_count": 54,
   "metadata": {},
   "outputs": [
    {
     "name": "stdout",
     "output_type": "stream",
     "text": [
      "0    22.0\n",
      "1    24.0\n",
      "2    26.0\n",
      "3    24.0\n",
      "4    25.0\n",
      "5    18.0\n",
      "6    16.0\n",
      "Name: temperatura, dtype: float64\n",
      "\n",
      "dzień           poniedziałek\n",
      "temperatura               22\n",
      "zachmurzenie        pogodnie\n",
      "Name: 0, dtype: object\n",
      "\n",
      "       dzień  temperatura     zachmurzenie\n",
      "4     piątek         25.0  przelotne opady\n",
      "5     sobota         18.0            burze\n",
      "6  niedziela         16.0       gradobicia\n",
      "\n",
      "          dzień  temperatura zachmurzenie\n",
      "0  poniedziałek         22.0     pogodnie\n",
      "5        sobota         18.0        burze\n",
      "6     niedziela         16.0   gradobicia\n",
      "\n",
      "          dzień  temperatura\n",
      "0  poniedziałek         22.0\n",
      "1        wtorek         24.0\n",
      "2         środa         26.0\n",
      "3      czwartek         24.0\n",
      "4        piątek         25.0\n",
      "5        sobota         18.0\n",
      "6     niedziela         16.0\n",
      "\n",
      "                         0         1         2                       3  \\\n",
      "dzień         poniedziałek    wtorek     środa                czwartek   \n",
      "temperatura             22        24        26                      24   \n",
      "zachmurzenie      pogodnie  pogodnie  pogodnie  częściowe zachmurzenie   \n",
      "\n",
      "                            4       5           6  \n",
      "dzień                  piątek  sobota   niedziela  \n",
      "temperatura                25      18          16  \n",
      "zachmurzenie  przelotne opady   burze  gradobicia  \n",
      "\n",
      "4    30.0\n",
      "5    23.0\n",
      "6    21.0\n",
      "Name: temperatura, dtype: float64\n"
     ]
    }
   ],
   "source": [
    "print(pogodaTab[\"temperatura\"]) # wybór jednej kolumny\n",
    "print()\n",
    "print(pogodaTab.iloc[0]) #pododa na poniedziałek\n",
    "print()\n",
    "print(pogodaTab.iloc[4:]) #pogoda na weekend\n",
    "print() \n",
    "print(pogodaTab[pogodaTab.temperatura < 24 ]) # kiedy temperatura będzie niższa niż 24*C\n",
    "print()\n",
    "print(pogodaTab.iloc[:, 0:2]) # tylko temperatura\n",
    "print()\n",
    "print(pogodaTab.T) # transpozycja tabeli\n",
    "print()\n",
    "print(pogodaTab[4:].temperatura + 5.0) # w weekend zdecydowanie cieplej"
   ]
  },
  {
   "cell_type": "code",
   "execution_count": 60,
   "metadata": {},
   "outputs": [
    {
     "data": {
      "text/html": [
       "<div>\n",
       "<style scoped>\n",
       "    .dataframe tbody tr th:only-of-type {\n",
       "        vertical-align: middle;\n",
       "    }\n",
       "\n",
       "    .dataframe tbody tr th {\n",
       "        vertical-align: top;\n",
       "    }\n",
       "\n",
       "    .dataframe thead th {\n",
       "        text-align: right;\n",
       "    }\n",
       "</style>\n",
       "<table border=\"1\" class=\"dataframe\">\n",
       "  <thead>\n",
       "    <tr style=\"text-align: right;\">\n",
       "      <th></th>\n",
       "      <th>dzień</th>\n",
       "      <th>temperatura</th>\n",
       "    </tr>\n",
       "  </thead>\n",
       "  <tbody>\n",
       "    <tr>\n",
       "      <th>0</th>\n",
       "      <td>poniedziałek</td>\n",
       "      <td>22.0</td>\n",
       "    </tr>\n",
       "    <tr>\n",
       "      <th>1</th>\n",
       "      <td>wtorek</td>\n",
       "      <td>24.0</td>\n",
       "    </tr>\n",
       "    <tr>\n",
       "      <th>2</th>\n",
       "      <td>środa</td>\n",
       "      <td>26.0</td>\n",
       "    </tr>\n",
       "    <tr>\n",
       "      <th>3</th>\n",
       "      <td>czwartek</td>\n",
       "      <td>24.0</td>\n",
       "    </tr>\n",
       "    <tr>\n",
       "      <th>4</th>\n",
       "      <td>piątek</td>\n",
       "      <td>25.0</td>\n",
       "    </tr>\n",
       "    <tr>\n",
       "      <th>5</th>\n",
       "      <td>sobota</td>\n",
       "      <td>18.0</td>\n",
       "    </tr>\n",
       "    <tr>\n",
       "      <th>6</th>\n",
       "      <td>niedziela</td>\n",
       "      <td>16.0</td>\n",
       "    </tr>\n",
       "  </tbody>\n",
       "</table>\n",
       "</div>"
      ],
      "text/plain": [
       "          dzień  temperatura\n",
       "0  poniedziałek         22.0\n",
       "1        wtorek         24.0\n",
       "2         środa         26.0\n",
       "3      czwartek         24.0\n",
       "4        piątek         25.0\n",
       "5        sobota         18.0\n",
       "6     niedziela         16.0"
      ]
     },
     "execution_count": 60,
     "metadata": {},
     "output_type": "execute_result"
    }
   ],
   "source": [
    "DataFrame(pogodaTab.iloc[:, 0:2]) # tylko temperatura jako nowy DataFrame"
   ]
  },
  {
   "cell_type": "code",
   "execution_count": 63,
   "metadata": {},
   "outputs": [
    {
     "name": "stdout",
     "output_type": "stream",
     "text": [
      " 0.022020  0.225984  0.729283  0.338856  0.091630\n",
      " 0.851324  0.585878  0.023617  0.901678  0.311837\n",
      " 0.050714  0.601360  0.484544  0.819577  0.304432\n",
      " 0.255154  0.517273  0.588695  0.389821  0.662186\n",
      " 0.843653  0.730793  0.931191  0.626829  0.894655\n"
     ]
    }
   ],
   "source": [
    "mat = np.random.rand(5, 5)\n",
    "\n",
    "matTab = DataFrame(mat)\n",
    "print(matTab.to_string(index=False, header=None)) # ukrycie indeksów i nagłówków"
   ]
  },
  {
   "cell_type": "markdown",
   "metadata": {},
   "source": [
    "### Przykład - zbiór IRIS z pliku CSV"
   ]
  },
  {
   "cell_type": "code",
   "execution_count": 67,
   "metadata": {},
   "outputs": [
    {
     "data": {
      "text/html": [
       "<div>\n",
       "<style scoped>\n",
       "    .dataframe tbody tr th:only-of-type {\n",
       "        vertical-align: middle;\n",
       "    }\n",
       "\n",
       "    .dataframe tbody tr th {\n",
       "        vertical-align: top;\n",
       "    }\n",
       "\n",
       "    .dataframe thead th {\n",
       "        text-align: right;\n",
       "    }\n",
       "</style>\n",
       "<table border=\"1\" class=\"dataframe\">\n",
       "  <thead>\n",
       "    <tr style=\"text-align: right;\">\n",
       "      <th></th>\n",
       "      <th>sepal length</th>\n",
       "      <th>sepal width</th>\n",
       "      <th>petal length</th>\n",
       "      <th>petal width</th>\n",
       "      <th>target</th>\n",
       "    </tr>\n",
       "  </thead>\n",
       "  <tbody>\n",
       "    <tr>\n",
       "      <th>0</th>\n",
       "      <td>5.1</td>\n",
       "      <td>3.5</td>\n",
       "      <td>1.4</td>\n",
       "      <td>0.2</td>\n",
       "      <td>Iris-setosa</td>\n",
       "    </tr>\n",
       "    <tr>\n",
       "      <th>1</th>\n",
       "      <td>4.9</td>\n",
       "      <td>3.0</td>\n",
       "      <td>1.4</td>\n",
       "      <td>0.2</td>\n",
       "      <td>Iris-setosa</td>\n",
       "    </tr>\n",
       "    <tr>\n",
       "      <th>2</th>\n",
       "      <td>4.7</td>\n",
       "      <td>3.2</td>\n",
       "      <td>1.3</td>\n",
       "      <td>0.2</td>\n",
       "      <td>Iris-setosa</td>\n",
       "    </tr>\n",
       "    <tr>\n",
       "      <th>3</th>\n",
       "      <td>4.6</td>\n",
       "      <td>3.1</td>\n",
       "      <td>1.5</td>\n",
       "      <td>0.2</td>\n",
       "      <td>Iris-setosa</td>\n",
       "    </tr>\n",
       "    <tr>\n",
       "      <th>4</th>\n",
       "      <td>5.0</td>\n",
       "      <td>3.6</td>\n",
       "      <td>1.4</td>\n",
       "      <td>0.2</td>\n",
       "      <td>Iris-setosa</td>\n",
       "    </tr>\n",
       "    <tr>\n",
       "      <th>...</th>\n",
       "      <td>...</td>\n",
       "      <td>...</td>\n",
       "      <td>...</td>\n",
       "      <td>...</td>\n",
       "      <td>...</td>\n",
       "    </tr>\n",
       "    <tr>\n",
       "      <th>145</th>\n",
       "      <td>6.7</td>\n",
       "      <td>3.0</td>\n",
       "      <td>5.2</td>\n",
       "      <td>2.3</td>\n",
       "      <td>Iris-virginica</td>\n",
       "    </tr>\n",
       "    <tr>\n",
       "      <th>146</th>\n",
       "      <td>6.3</td>\n",
       "      <td>2.5</td>\n",
       "      <td>5.0</td>\n",
       "      <td>1.9</td>\n",
       "      <td>Iris-virginica</td>\n",
       "    </tr>\n",
       "    <tr>\n",
       "      <th>147</th>\n",
       "      <td>6.5</td>\n",
       "      <td>3.0</td>\n",
       "      <td>5.2</td>\n",
       "      <td>2.0</td>\n",
       "      <td>Iris-virginica</td>\n",
       "    </tr>\n",
       "    <tr>\n",
       "      <th>148</th>\n",
       "      <td>6.2</td>\n",
       "      <td>3.4</td>\n",
       "      <td>5.4</td>\n",
       "      <td>2.3</td>\n",
       "      <td>Iris-virginica</td>\n",
       "    </tr>\n",
       "    <tr>\n",
       "      <th>149</th>\n",
       "      <td>5.9</td>\n",
       "      <td>3.0</td>\n",
       "      <td>5.1</td>\n",
       "      <td>1.8</td>\n",
       "      <td>Iris-virginica</td>\n",
       "    </tr>\n",
       "  </tbody>\n",
       "</table>\n",
       "<p>150 rows × 5 columns</p>\n",
       "</div>"
      ],
      "text/plain": [
       "     sepal length  sepal width  petal length  petal width          target\n",
       "0             5.1          3.5           1.4          0.2     Iris-setosa\n",
       "1             4.9          3.0           1.4          0.2     Iris-setosa\n",
       "2             4.7          3.2           1.3          0.2     Iris-setosa\n",
       "3             4.6          3.1           1.5          0.2     Iris-setosa\n",
       "4             5.0          3.6           1.4          0.2     Iris-setosa\n",
       "..            ...          ...           ...          ...             ...\n",
       "145           6.7          3.0           5.2          2.3  Iris-virginica\n",
       "146           6.3          2.5           5.0          1.9  Iris-virginica\n",
       "147           6.5          3.0           5.2          2.0  Iris-virginica\n",
       "148           6.2          3.4           5.4          2.3  Iris-virginica\n",
       "149           5.9          3.0           5.1          1.8  Iris-virginica\n",
       "\n",
       "[150 rows x 5 columns]"
      ]
     },
     "execution_count": 67,
     "metadata": {},
     "output_type": "execute_result"
    }
   ],
   "source": [
    "import pandas as pd\n",
    "url = \"https://archive.ics.uci.edu/ml/machine-learning-databases/iris/iris.data\"\n",
    "df = pd.read_csv(url, names=['sepal length','sepal width','petal length','petal width','target']) # załadowanie zbioru IRIS do DataFrame i przypisanie im odpowiednich nagłówklów tabeli\n",
    "\n",
    "df"
   ]
  },
  {
   "cell_type": "markdown",
   "metadata": {},
   "source": [
    "## Wykresy z wykorzystaniem Matplotlib"
   ]
  },
  {
   "cell_type": "markdown",
   "metadata": {},
   "source": [
    "### Prosty wykres liniowy"
   ]
  },
  {
   "cell_type": "code",
   "execution_count": 89,
   "metadata": {},
   "outputs": [
    {
     "name": "stdout",
     "output_type": "stream",
     "text": [
      "[ 0.          1.11111111  2.22222222  3.33333333  4.44444444  5.55555556\n",
      "  6.66666667  7.77777778  8.88888889 10.        ]\n",
      "[ 0.60839675 -1.46187714 -0.4398179  -0.36113941  0.35504883 -0.84721266\n",
      "  1.13988588 -0.29852057 -0.45692488  3.18514696]\n"
     ]
    },
    {
     "data": {
      "text/plain": [
       "[<matplotlib.lines.Line2D at 0x7f738b3dc6d0>]"
      ]
     },
     "execution_count": 89,
     "metadata": {},
     "output_type": "execute_result"
    },
    {
     "data": {
      "image/png": "[encoded data removed]",
      "text/plain": [
       "<Figure size 432x288 with 1 Axes>"
      ]
     },
     "metadata": {
      "needs_background": "light"
     },
     "output_type": "display_data"
    }
   ],
   "source": [
    "import matplotlib.pyplot as plt\n",
    "\n",
    "X = np.linspace(0,10, 10)\n",
    "Y = np.random.randn(10)\n",
    "\n",
    "print(X)\n",
    "print(Y)\n",
    "\n",
    "plt.plot(X, Y) # domyśly wykres"
   ]
  },
  {
   "cell_type": "markdown",
   "metadata": {},
   "source": [
    "### Wykres punktowy"
   ]
  },
  {
   "cell_type": "code",
   "execution_count": 74,
   "metadata": {},
   "outputs": [
    {
     "data": {
      "text/plain": [
       "[<matplotlib.lines.Line2D at 0x7f738b988ad0>]"
      ]
     },
     "execution_count": 74,
     "metadata": {},
     "output_type": "execute_result"
    },
    {
     "data": {
      "image/png": "[encoded data removed]",
      "text/plain": [
       "<Figure size 432x288 with 1 Axes>"
      ]
     },
     "metadata": {
      "needs_background": "light"
     },
     "output_type": "display_data"
    }
   ],
   "source": [
    "plt.plot(X, Y, 'bo') # wykres punktowy"
   ]
  },
  {
   "cell_type": "markdown",
   "metadata": {},
   "source": [
    "### Wykres słupkowy"
   ]
  },
  {
   "cell_type": "code",
   "execution_count": 82,
   "metadata": {},
   "outputs": [
    {
     "data": {
      "text/plain": [
       "<BarContainer object of 10 artists>"
      ]
     },
     "execution_count": 82,
     "metadata": {},
     "output_type": "execute_result"
    },
    {
     "data": {
      "image/png": "[encoded data removed]",
      "text/plain": [
       "<Figure size 432x288 with 1 Axes>"
      ]
     },
     "metadata": {
      "needs_background": "light"
     },
     "output_type": "display_data"
    }
   ],
   "source": [
    "plt.bar(X, Y)"
   ]
  },
  {
   "cell_type": "markdown",
   "metadata": {},
   "source": [
    "### Histogram"
   ]
  },
  {
   "cell_type": "code",
   "execution_count": 85,
   "metadata": {},
   "outputs": [
    {
     "data": {
      "text/plain": [
       "(array([2., 1., 0., 2., 0., 3., 1., 0., 0., 1.]),\n",
       " array([-1.25660269, -0.98785875, -0.7191148 , -0.45037085, -0.1816269 ,\n",
       "         0.08711704,  0.35586099,  0.62460494,  0.89334889,  1.16209283,\n",
       "         1.43083678]),\n",
       " <a list of 10 Patch objects>)"
      ]
     },
     "execution_count": 85,
     "metadata": {},
     "output_type": "execute_result"
    },
    {
     "data": {
      "image/png": "[encoded data removed]",
      "text/plain": [
       "<Figure size 432x288 with 1 Axes>"
      ]
     },
     "metadata": {
      "needs_background": "light"
     },
     "output_type": "display_data"
    }
   ],
   "source": [
    "plt.hist(Y)"
   ]
  },
  {
   "cell_type": "code",
   "execution_count": 86,
   "metadata": {},
   "outputs": [
    {
     "data": {
      "text/plain": [
       "(array([2., 1., 0., 2., 0., 3., 1., 0., 0., 1.]),\n",
       " array([-1.25660269, -0.98785875, -0.7191148 , -0.45037085, -0.1816269 ,\n",
       "         0.08711704,  0.35586099,  0.62460494,  0.89334889,  1.16209283,\n",
       "         1.43083678]),\n",
       " <a list of 10 Patch objects>)"
      ]
     },
     "execution_count": 86,
     "metadata": {},
     "output_type": "execute_result"
    },
    {
     "data": {
      "image/png": "[encoded data removed]",
      "text/plain": [
       "<Figure size 432x288 with 1 Axes>"
      ]
     },
     "metadata": {
      "needs_background": "light"
     },
     "output_type": "display_data"
    }
   ],
   "source": []
  },
  {
   "cell_type": "markdown",
   "metadata": {},
   "source": [
    "### Wykres bezpośrednio z szeregu"
   ]
  },
  {
   "cell_type": "code",
   "execution_count": 87,
   "metadata": {},
   "outputs": [
    {
     "data": {
      "text/plain": [
       "<matplotlib.axes._subplots.AxesSubplot at 0x7f738b50fa90>"
      ]
     },
     "execution_count": 87,
     "metadata": {},
     "output_type": "execute_result"
    },
    {
     "data": {
      "image/png": "[encoded data removed]",
      "text/plain": [
       "<Figure size 432x288 with 1 Axes>"
      ]
     },
     "metadata": {
      "needs_background": "light"
     },
     "output_type": "display_data"
    }
   ],
   "source": [
    "%matplotlib inline\n",
    "s = Series(Y, index=X)\n",
    "s.plot()"
   ]
  },
  {
   "cell_type": "markdown",
   "metadata": {},
   "source": [
    "### Wygładzony wykres - interpolacja wielomianowa"
   ]
  },
  {
   "cell_type": "code",
   "execution_count": 115,
   "metadata": {},
   "outputs": [
    {
     "data": {
      "image/png": "[encoded data removed]",
      "text/plain": [
       "<Figure size 432x288 with 2 Axes>"
      ]
     },
     "metadata": {
      "needs_background": "light"
     },
     "output_type": "display_data"
    }
   ],
   "source": [
    "from scipy.interpolate import make_interp_spline, BSpline\n",
    "\n",
    "x = np.linspace(0, 100, 5) \n",
    "y = np.sqrt(x)\n",
    " \n",
    "\n",
    "plt.subplot(1, 2, 1)\n",
    "\n",
    "# equivalent but more general\n",
    "plt.subplot(2, 2, 1)\n",
    "plt.plot(x, y) # wykres funkcji y = sqrt(x) - liniowy\n",
    "\n",
    "spl = make_interp_spline(x, y)  # wielomian interpolacyjny\n",
    "x_new = np.linspace(0, 100, 20)\n",
    "y_new = spl(x_new)\n",
    "\n",
    "plt.subplot(2, 2, 2)\n",
    "plt.plot(x_new, y_new)\n",
    "\n",
    "plt.show()"
   ]
  },
  {
   "cell_type": "markdown",
   "metadata": {},
   "source": [
    "### Bardziej zaawansowany wykres"
   ]
  },
  {
   "cell_type": "code",
   "execution_count": 149,
   "metadata": {},
   "outputs": [
    {
     "data": {
      "text/plain": [
       "Text(0, 0.5, 'Y')"
      ]
     },
     "execution_count": 149,
     "metadata": {},
     "output_type": "execute_result"
    },
    {
     "data": {
      "image/png": "[encoded data removed]",
      "text/plain": [
       "<Figure size 432x288 with 1 Axes>"
      ]
     },
     "metadata": {
      "needs_background": "light"
     },
     "output_type": "display_data"
    }
   ],
   "source": [
    "X = np.linspace(0, 100, 40)\n",
    "Y = 2 * X + 3.4  # y(x) = 2x+3.4\n",
    "\n",
    "noise = (np.random.rand(len(Y)) - 0.5) * 20  + Y \n",
    "\n",
    "plt.plot(X, noise, \"rs\")\n",
    "plt.plot(X, Y, color=\"#ffcc00\", linewidth=3)\n",
    "plt.grid(True)\n",
    "plt.xlim(10, 90)\n",
    "plt.ylim(25, 190)\n",
    "plt.xlabel(\"X\")\n",
    "plt.ylabel(\"Y\")\n"
   ]
  },
  {
   "cell_type": "markdown",
   "metadata": {},
   "source": [
    "### Wykres stworzony ze zbioru IRIS"
   ]
  },
  {
   "cell_type": "code",
   "execution_count": 146,
   "metadata": {},
   "outputs": [
    {
     "data": {
      "image/png": "[encoded data removed]",
      "text/plain": [
       "<Figure size 576x576 with 1 Axes>"
      ]
     },
     "metadata": {
      "needs_background": "light"
     },
     "output_type": "display_data"
    }
   ],
   "source": [
    "import pandas as pd\n",
    "url = \"https://archive.ics.uci.edu/ml/machine-learning-databases/iris/iris.data\"\n",
    "df = pd.read_csv(url, names=['sepal length','sepal width','petal length','petal width','target']) # załadowanie zbioru IRIS do DataFrame i przypisanie im odpowiednich nagłówklów tabeli\n",
    "\n",
    "\n",
    "fig = plt.figure(figsize = (8,8))\n",
    "ax = fig.add_subplot(1,1,1)\n",
    "ax.set_xlabel('sepal length', fontsize = 15)\n",
    "ax.set_ylabel('sepal width', fontsize = 15)\n",
    "ax.set_title('2 cechy zbioru IRIS', fontsize = 20)\n",
    "targets = ['Iris-setosa', 'Iris-versicolor', 'Iris-virginica']\n",
    "colors = ['r', 'g', 'b']\n",
    "for target, color in zip(targets,colors):\n",
    "    indicesToKeep = df['target'] == target\n",
    "    ax.scatter(df.loc[indicesToKeep, 'sepal length']\n",
    "               , df.loc[indicesToKeep, 'sepal width']\n",
    "               , c = color\n",
    "               , s = 50)\n",
    "ax.legend(targets)\n",
    "ax.grid()"
   ]
  },
  {
   "cell_type": "markdown",
   "metadata": {},
   "source": [
    "## Zadanie"
   ]
  },
  {
   "cell_type": "markdown",
   "metadata": {},
   "source": [
    "Dla danych z pliku Summary of Weather.csv znajdującego się w repozytorium w katalogu Dane, przedstaw dane dotyczące temperatury (na wykresie ma się znaleźć temperatura średnia, minimalna i maksymalna) dla każdego miesiąca roku 1943. Każdy miesiąc to pojedynczy wykres.\n",
    "\n",
    "Na wykresie zaznacz miesięczną temperaturę średnią, maksymalną i minimalną. W legendzie wykresu zawrzyj informacje na temat użytych oznaczeń."
   ]
  },
  {
   "cell_type": "code",
   "execution_count": null,
   "metadata": {},
   "outputs": [],
   "source": []
  }
 ],
 "metadata": {
  "kernelspec": {
   "display_name": "Python 3",
   "language": "python",
   "name": "python3"
  },
  "language_info": {
   "codemirror_mode": {
    "name": "ipython",
    "version": 3
   },
   "file_extension": ".py",
   "mimetype": "text/x-python",
   "name": "python",
   "nbconvert_exporter": "python",
   "pygments_lexer": "ipython3",
   "version": "3.7.6"
  }
 },
 "nbformat": 4,
 "nbformat_minor": 4
}
