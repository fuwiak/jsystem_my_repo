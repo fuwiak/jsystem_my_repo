{
 "cells": [
  {
   "cell_type": "markdown",
   "metadata": {},
   "source": [
    "# Zajęcia 4 - klasyfikacja"
   ]
  },
  {
   "cell_type": "markdown",
   "metadata": {},
   "source": [
    "Klasyfikacja to zagadnienie polegające na przypisaniu do danych konkretnej klasy na podstawie wartości atrybutów opisujących dany obiekt.\n",
    "\n",
    "Na tych zajęciach skupimy się na wykorzystaniu części z metod klasyfikacji danych, które udostępnia biblioteka scikit-learn (sklearn)."
   ]
  },
  {
   "cell_type": "markdown",
   "metadata": {},
   "source": [
    "## Przygotowanie danych "
   ]
  },
  {
   "cell_type": "markdown",
   "metadata": {},
   "source": [
    "Na potrzeby nauki podstawowych metod klasyfikacji wykorzystamy zbiór zawierający informacje na temat kręgowców. Dane są cechy: ciepłokrwisty, żyworodny, stworzenie wodne, stworzenie powietrzne, ma nogi, hibernuje i klasa, określająca, czy stworzenie jest rybą, płazem, gadem, ptakim czy ssakiem. Cechy mają wartości 0/1, tak więc można traktować je jako wartości logiczne False/True. Pozostawimy je natomiast w formie numerycznej na potrzeby dalszych operacji."
   ]
  },
  {
   "cell_type": "code",
   "execution_count": 1,
   "metadata": {},
   "outputs": [
    {
     "data": {
      "text/html": [
       "<div>\n",
       "<style scoped>\n",
       "    .dataframe tbody tr th:only-of-type {\n",
       "        vertical-align: middle;\n",
       "    }\n",
       "\n",
       "    .dataframe tbody tr th {\n",
       "        vertical-align: top;\n",
       "    }\n",
       "\n",
       "    .dataframe thead th {\n",
       "        text-align: right;\n",
       "    }\n",
       "</style>\n",
       "<table border=\"1\" class=\"dataframe\">\n",
       "  <thead>\n",
       "    <tr style=\"text-align: right;\">\n",
       "      <th></th>\n",
       "      <th>Name</th>\n",
       "      <th>Warm-blooded</th>\n",
       "      <th>Gives Birth</th>\n",
       "      <th>Aquatic Creature</th>\n",
       "      <th>Aerial Creature</th>\n",
       "      <th>Has Legs</th>\n",
       "      <th>Hibernates</th>\n",
       "      <th>Class</th>\n",
       "    </tr>\n",
       "  </thead>\n",
       "  <tbody>\n",
       "    <tr>\n",
       "      <th>0</th>\n",
       "      <td>human</td>\n",
       "      <td>1</td>\n",
       "      <td>1</td>\n",
       "      <td>0</td>\n",
       "      <td>0</td>\n",
       "      <td>1</td>\n",
       "      <td>0</td>\n",
       "      <td>mammals</td>\n",
       "    </tr>\n",
       "    <tr>\n",
       "      <th>1</th>\n",
       "      <td>python</td>\n",
       "      <td>0</td>\n",
       "      <td>0</td>\n",
       "      <td>0</td>\n",
       "      <td>0</td>\n",
       "      <td>0</td>\n",
       "      <td>1</td>\n",
       "      <td>reptiles</td>\n",
       "    </tr>\n",
       "    <tr>\n",
       "      <th>2</th>\n",
       "      <td>salmon</td>\n",
       "      <td>0</td>\n",
       "      <td>0</td>\n",
       "      <td>1</td>\n",
       "      <td>0</td>\n",
       "      <td>0</td>\n",
       "      <td>0</td>\n",
       "      <td>fishes</td>\n",
       "    </tr>\n",
       "    <tr>\n",
       "      <th>3</th>\n",
       "      <td>whale</td>\n",
       "      <td>1</td>\n",
       "      <td>1</td>\n",
       "      <td>1</td>\n",
       "      <td>0</td>\n",
       "      <td>0</td>\n",
       "      <td>0</td>\n",
       "      <td>mammals</td>\n",
       "    </tr>\n",
       "    <tr>\n",
       "      <th>4</th>\n",
       "      <td>frog</td>\n",
       "      <td>0</td>\n",
       "      <td>0</td>\n",
       "      <td>1</td>\n",
       "      <td>0</td>\n",
       "      <td>1</td>\n",
       "      <td>1</td>\n",
       "      <td>amphibians</td>\n",
       "    </tr>\n",
       "    <tr>\n",
       "      <th>5</th>\n",
       "      <td>komodo</td>\n",
       "      <td>0</td>\n",
       "      <td>0</td>\n",
       "      <td>0</td>\n",
       "      <td>0</td>\n",
       "      <td>1</td>\n",
       "      <td>0</td>\n",
       "      <td>reptiles</td>\n",
       "    </tr>\n",
       "    <tr>\n",
       "      <th>6</th>\n",
       "      <td>bat</td>\n",
       "      <td>1</td>\n",
       "      <td>1</td>\n",
       "      <td>0</td>\n",
       "      <td>1</td>\n",
       "      <td>1</td>\n",
       "      <td>1</td>\n",
       "      <td>mammals</td>\n",
       "    </tr>\n",
       "    <tr>\n",
       "      <th>7</th>\n",
       "      <td>pigeon</td>\n",
       "      <td>1</td>\n",
       "      <td>0</td>\n",
       "      <td>0</td>\n",
       "      <td>1</td>\n",
       "      <td>1</td>\n",
       "      <td>0</td>\n",
       "      <td>birds</td>\n",
       "    </tr>\n",
       "    <tr>\n",
       "      <th>8</th>\n",
       "      <td>cat</td>\n",
       "      <td>1</td>\n",
       "      <td>1</td>\n",
       "      <td>0</td>\n",
       "      <td>0</td>\n",
       "      <td>1</td>\n",
       "      <td>0</td>\n",
       "      <td>mammals</td>\n",
       "    </tr>\n",
       "    <tr>\n",
       "      <th>9</th>\n",
       "      <td>leopard shark</td>\n",
       "      <td>0</td>\n",
       "      <td>1</td>\n",
       "      <td>1</td>\n",
       "      <td>0</td>\n",
       "      <td>0</td>\n",
       "      <td>0</td>\n",
       "      <td>fishes</td>\n",
       "    </tr>\n",
       "    <tr>\n",
       "      <th>10</th>\n",
       "      <td>turtle</td>\n",
       "      <td>0</td>\n",
       "      <td>0</td>\n",
       "      <td>1</td>\n",
       "      <td>0</td>\n",
       "      <td>1</td>\n",
       "      <td>0</td>\n",
       "      <td>reptiles</td>\n",
       "    </tr>\n",
       "    <tr>\n",
       "      <th>11</th>\n",
       "      <td>penguin</td>\n",
       "      <td>1</td>\n",
       "      <td>0</td>\n",
       "      <td>1</td>\n",
       "      <td>0</td>\n",
       "      <td>1</td>\n",
       "      <td>0</td>\n",
       "      <td>birds</td>\n",
       "    </tr>\n",
       "    <tr>\n",
       "      <th>12</th>\n",
       "      <td>porcupine</td>\n",
       "      <td>1</td>\n",
       "      <td>1</td>\n",
       "      <td>0</td>\n",
       "      <td>0</td>\n",
       "      <td>1</td>\n",
       "      <td>1</td>\n",
       "      <td>mammals</td>\n",
       "    </tr>\n",
       "    <tr>\n",
       "      <th>13</th>\n",
       "      <td>eel</td>\n",
       "      <td>0</td>\n",
       "      <td>0</td>\n",
       "      <td>1</td>\n",
       "      <td>0</td>\n",
       "      <td>0</td>\n",
       "      <td>0</td>\n",
       "      <td>fishes</td>\n",
       "    </tr>\n",
       "    <tr>\n",
       "      <th>14</th>\n",
       "      <td>salamander</td>\n",
       "      <td>0</td>\n",
       "      <td>0</td>\n",
       "      <td>1</td>\n",
       "      <td>0</td>\n",
       "      <td>1</td>\n",
       "      <td>1</td>\n",
       "      <td>amphibians</td>\n",
       "    </tr>\n",
       "  </tbody>\n",
       "</table>\n",
       "</div>"
      ],
      "text/plain": [
       "             Name  Warm-blooded  Gives Birth  Aquatic Creature  \\\n",
       "0           human             1            1                 0   \n",
       "1          python             0            0                 0   \n",
       "2          salmon             0            0                 1   \n",
       "3           whale             1            1                 1   \n",
       "4            frog             0            0                 1   \n",
       "5          komodo             0            0                 0   \n",
       "6             bat             1            1                 0   \n",
       "7          pigeon             1            0                 0   \n",
       "8             cat             1            1                 0   \n",
       "9   leopard shark             0            1                 1   \n",
       "10         turtle             0            0                 1   \n",
       "11        penguin             1            0                 1   \n",
       "12      porcupine             1            1                 0   \n",
       "13            eel             0            0                 1   \n",
       "14     salamander             0            0                 1   \n",
       "\n",
       "    Aerial Creature  Has Legs  Hibernates       Class  \n",
       "0                 0         1           0     mammals  \n",
       "1                 0         0           1    reptiles  \n",
       "2                 0         0           0      fishes  \n",
       "3                 0         0           0     mammals  \n",
       "4                 0         1           1  amphibians  \n",
       "5                 0         1           0    reptiles  \n",
       "6                 1         1           1     mammals  \n",
       "7                 1         1           0       birds  \n",
       "8                 0         1           0     mammals  \n",
       "9                 0         0           0      fishes  \n",
       "10                0         1           0    reptiles  \n",
       "11                0         1           0       birds  \n",
       "12                0         1           1     mammals  \n",
       "13                0         0           0      fishes  \n",
       "14                0         1           1  amphibians  "
      ]
     },
     "execution_count": 1,
     "metadata": {},
     "output_type": "execute_result"
    }
   ],
   "source": [
    "import pandas as pd\n",
    "\n",
    "data = pd.read_csv('./Dane/vertebrate.csv')\n",
    "data"
   ]
  },
  {
   "cell_type": "markdown",
   "metadata": {},
   "source": [
    "Postawmy problem dzisiejszych zajęć w postaci - jak rozpoznać, czy zwierzę jest ssakiem, czy ssakiem nie jest?\n",
    "\n",
    "Dla tak sformułowanego problemu, zdecydowanie łatwiej będzie nam operować na innych etykietach klas - wszystkie ssaki pozostawmy oznaczone jako \"mammals\", a wszędzie, gdzie mamy do czynienia z inną gromadą - ustawmy etykietę \"non-mammals\""
   ]
  },
  {
   "cell_type": "code",
   "execution_count": 3,
   "metadata": {},
   "outputs": [
    {
     "data": {
      "text/html": [
       "<div>\n",
       "<style scoped>\n",
       "    .dataframe tbody tr th:only-of-type {\n",
       "        vertical-align: middle;\n",
       "    }\n",
       "\n",
       "    .dataframe tbody tr th {\n",
       "        vertical-align: top;\n",
       "    }\n",
       "\n",
       "    .dataframe thead th {\n",
       "        text-align: right;\n",
       "    }\n",
       "</style>\n",
       "<table border=\"1\" class=\"dataframe\">\n",
       "  <thead>\n",
       "    <tr style=\"text-align: right;\">\n",
       "      <th></th>\n",
       "      <th>Name</th>\n",
       "      <th>Warm-blooded</th>\n",
       "      <th>Gives Birth</th>\n",
       "      <th>Aquatic Creature</th>\n",
       "      <th>Aerial Creature</th>\n",
       "      <th>Has Legs</th>\n",
       "      <th>Hibernates</th>\n",
       "      <th>Class</th>\n",
       "    </tr>\n",
       "  </thead>\n",
       "  <tbody>\n",
       "    <tr>\n",
       "      <th>0</th>\n",
       "      <td>human</td>\n",
       "      <td>1</td>\n",
       "      <td>1</td>\n",
       "      <td>0</td>\n",
       "      <td>0</td>\n",
       "      <td>1</td>\n",
       "      <td>0</td>\n",
       "      <td>mammals</td>\n",
       "    </tr>\n",
       "    <tr>\n",
       "      <th>1</th>\n",
       "      <td>python</td>\n",
       "      <td>0</td>\n",
       "      <td>0</td>\n",
       "      <td>0</td>\n",
       "      <td>0</td>\n",
       "      <td>0</td>\n",
       "      <td>1</td>\n",
       "      <td>non-mammals</td>\n",
       "    </tr>\n",
       "    <tr>\n",
       "      <th>2</th>\n",
       "      <td>salmon</td>\n",
       "      <td>0</td>\n",
       "      <td>0</td>\n",
       "      <td>1</td>\n",
       "      <td>0</td>\n",
       "      <td>0</td>\n",
       "      <td>0</td>\n",
       "      <td>non-mammals</td>\n",
       "    </tr>\n",
       "    <tr>\n",
       "      <th>3</th>\n",
       "      <td>whale</td>\n",
       "      <td>1</td>\n",
       "      <td>1</td>\n",
       "      <td>1</td>\n",
       "      <td>0</td>\n",
       "      <td>0</td>\n",
       "      <td>0</td>\n",
       "      <td>mammals</td>\n",
       "    </tr>\n",
       "    <tr>\n",
       "      <th>4</th>\n",
       "      <td>frog</td>\n",
       "      <td>0</td>\n",
       "      <td>0</td>\n",
       "      <td>1</td>\n",
       "      <td>0</td>\n",
       "      <td>1</td>\n",
       "      <td>1</td>\n",
       "      <td>non-mammals</td>\n",
       "    </tr>\n",
       "    <tr>\n",
       "      <th>5</th>\n",
       "      <td>komodo</td>\n",
       "      <td>0</td>\n",
       "      <td>0</td>\n",
       "      <td>0</td>\n",
       "      <td>0</td>\n",
       "      <td>1</td>\n",
       "      <td>0</td>\n",
       "      <td>non-mammals</td>\n",
       "    </tr>\n",
       "    <tr>\n",
       "      <th>6</th>\n",
       "      <td>bat</td>\n",
       "      <td>1</td>\n",
       "      <td>1</td>\n",
       "      <td>0</td>\n",
       "      <td>1</td>\n",
       "      <td>1</td>\n",
       "      <td>1</td>\n",
       "      <td>mammals</td>\n",
       "    </tr>\n",
       "    <tr>\n",
       "      <th>7</th>\n",
       "      <td>pigeon</td>\n",
       "      <td>1</td>\n",
       "      <td>0</td>\n",
       "      <td>0</td>\n",
       "      <td>1</td>\n",
       "      <td>1</td>\n",
       "      <td>0</td>\n",
       "      <td>non-mammals</td>\n",
       "    </tr>\n",
       "    <tr>\n",
       "      <th>8</th>\n",
       "      <td>cat</td>\n",
       "      <td>1</td>\n",
       "      <td>1</td>\n",
       "      <td>0</td>\n",
       "      <td>0</td>\n",
       "      <td>1</td>\n",
       "      <td>0</td>\n",
       "      <td>mammals</td>\n",
       "    </tr>\n",
       "    <tr>\n",
       "      <th>9</th>\n",
       "      <td>leopard shark</td>\n",
       "      <td>0</td>\n",
       "      <td>1</td>\n",
       "      <td>1</td>\n",
       "      <td>0</td>\n",
       "      <td>0</td>\n",
       "      <td>0</td>\n",
       "      <td>non-mammals</td>\n",
       "    </tr>\n",
       "    <tr>\n",
       "      <th>10</th>\n",
       "      <td>turtle</td>\n",
       "      <td>0</td>\n",
       "      <td>0</td>\n",
       "      <td>1</td>\n",
       "      <td>0</td>\n",
       "      <td>1</td>\n",
       "      <td>0</td>\n",
       "      <td>non-mammals</td>\n",
       "    </tr>\n",
       "    <tr>\n",
       "      <th>11</th>\n",
       "      <td>penguin</td>\n",
       "      <td>1</td>\n",
       "      <td>0</td>\n",
       "      <td>1</td>\n",
       "      <td>0</td>\n",
       "      <td>1</td>\n",
       "      <td>0</td>\n",
       "      <td>non-mammals</td>\n",
       "    </tr>\n",
       "    <tr>\n",
       "      <th>12</th>\n",
       "      <td>porcupine</td>\n",
       "      <td>1</td>\n",
       "      <td>1</td>\n",
       "      <td>0</td>\n",
       "      <td>0</td>\n",
       "      <td>1</td>\n",
       "      <td>1</td>\n",
       "      <td>mammals</td>\n",
       "    </tr>\n",
       "    <tr>\n",
       "      <th>13</th>\n",
       "      <td>eel</td>\n",
       "      <td>0</td>\n",
       "      <td>0</td>\n",
       "      <td>1</td>\n",
       "      <td>0</td>\n",
       "      <td>0</td>\n",
       "      <td>0</td>\n",
       "      <td>non-mammals</td>\n",
       "    </tr>\n",
       "    <tr>\n",
       "      <th>14</th>\n",
       "      <td>salamander</td>\n",
       "      <td>0</td>\n",
       "      <td>0</td>\n",
       "      <td>1</td>\n",
       "      <td>0</td>\n",
       "      <td>1</td>\n",
       "      <td>1</td>\n",
       "      <td>non-mammals</td>\n",
       "    </tr>\n",
       "  </tbody>\n",
       "</table>\n",
       "</div>"
      ],
      "text/plain": [
       "             Name  Warm-blooded  Gives Birth  Aquatic Creature  \\\n",
       "0           human             1            1                 0   \n",
       "1          python             0            0                 0   \n",
       "2          salmon             0            0                 1   \n",
       "3           whale             1            1                 1   \n",
       "4            frog             0            0                 1   \n",
       "5          komodo             0            0                 0   \n",
       "6             bat             1            1                 0   \n",
       "7          pigeon             1            0                 0   \n",
       "8             cat             1            1                 0   \n",
       "9   leopard shark             0            1                 1   \n",
       "10         turtle             0            0                 1   \n",
       "11        penguin             1            0                 1   \n",
       "12      porcupine             1            1                 0   \n",
       "13            eel             0            0                 1   \n",
       "14     salamander             0            0                 1   \n",
       "\n",
       "    Aerial Creature  Has Legs  Hibernates        Class  \n",
       "0                 0         1           0      mammals  \n",
       "1                 0         0           1  non-mammals  \n",
       "2                 0         0           0  non-mammals  \n",
       "3                 0         0           0      mammals  \n",
       "4                 0         1           1  non-mammals  \n",
       "5                 0         1           0  non-mammals  \n",
       "6                 1         1           1      mammals  \n",
       "7                 1         1           0  non-mammals  \n",
       "8                 0         1           0      mammals  \n",
       "9                 0         0           0  non-mammals  \n",
       "10                0         1           0  non-mammals  \n",
       "11                0         1           0  non-mammals  \n",
       "12                0         1           1      mammals  \n",
       "13                0         0           0  non-mammals  \n",
       "14                0         1           1  non-mammals  "
      ]
     },
     "execution_count": 3,
     "metadata": {},
     "output_type": "execute_result"
    }
   ],
   "source": [
    "data['Class'] = data['Class'].replace(['fishes','birds','amphibians','reptiles'],'non-mammals')\n",
    "data"
   ]
  },
  {
   "cell_type": "markdown",
   "metadata": {},
   "source": [
    "Na tym etapie wykorzystać można krostabulację wbudowaną w bibliotekę pandas, która pokaże nam ilościowe połączenie cech ze sobą. Możemy na przykład ocenić jak wygląda relacja pomiędzy ciepłokrwistością (kolumna Warm-blooded) a żyworodnością (kolumna Gives Birth)"
   ]
  },
  {
   "cell_type": "code",
   "execution_count": 4,
   "metadata": {},
   "outputs": [
    {
     "data": {
      "text/html": [
       "<div>\n",
       "<style scoped>\n",
       "    .dataframe tbody tr th:only-of-type {\n",
       "        vertical-align: middle;\n",
       "    }\n",
       "\n",
       "    .dataframe tbody tr th {\n",
       "        vertical-align: top;\n",
       "    }\n",
       "\n",
       "    .dataframe thead th {\n",
       "        text-align: right;\n",
       "    }\n",
       "</style>\n",
       "<table border=\"1\" class=\"dataframe\">\n",
       "  <thead>\n",
       "    <tr style=\"text-align: right;\">\n",
       "      <th></th>\n",
       "      <th>Class</th>\n",
       "      <th>mammals</th>\n",
       "      <th>non-mammals</th>\n",
       "    </tr>\n",
       "    <tr>\n",
       "      <th>Warm-blooded</th>\n",
       "      <th>Gives Birth</th>\n",
       "      <th></th>\n",
       "      <th></th>\n",
       "    </tr>\n",
       "  </thead>\n",
       "  <tbody>\n",
       "    <tr>\n",
       "      <th rowspan=\"2\" valign=\"top\">0</th>\n",
       "      <th>0</th>\n",
       "      <td>0</td>\n",
       "      <td>7</td>\n",
       "    </tr>\n",
       "    <tr>\n",
       "      <th>1</th>\n",
       "      <td>0</td>\n",
       "      <td>1</td>\n",
       "    </tr>\n",
       "    <tr>\n",
       "      <th rowspan=\"2\" valign=\"top\">1</th>\n",
       "      <th>0</th>\n",
       "      <td>0</td>\n",
       "      <td>2</td>\n",
       "    </tr>\n",
       "    <tr>\n",
       "      <th>1</th>\n",
       "      <td>5</td>\n",
       "      <td>0</td>\n",
       "    </tr>\n",
       "  </tbody>\n",
       "</table>\n",
       "</div>"
      ],
      "text/plain": [
       "Class                     mammals  non-mammals\n",
       "Warm-blooded Gives Birth                      \n",
       "0            0                  0            7\n",
       "             1                  0            1\n",
       "1            0                  0            2\n",
       "             1                  5            0"
      ]
     },
     "execution_count": 4,
     "metadata": {},
     "output_type": "execute_result"
    }
   ],
   "source": [
    "pd.crosstab([data['Warm-blooded'], data['Gives Birth']], data['Class'])"
   ]
  },
  {
   "cell_type": "markdown",
   "metadata": {},
   "source": [
    "## Drzewa decyzyjne"
   ]
  },
  {
   "cell_type": "markdown",
   "metadata": {},
   "source": [
    "Idąc tym tropem - można by było przeprowadzić analizę korelacji wszystkich cech ze sobą i na ich podstawie ocenić, które cechy definiują ssaki, a które nie-ssaki. \n",
    "\n",
    "Jednak naszym zadaniem jest automatyzacja tego procesu.\n",
    "\n",
    "Pierwsze podejście, jakie zastosujemy to drzewa decyzyjne. Skorzystamy z gotowej implementacji konstrukcji drzewa decyzyjnego z pakietu sklearn."
   ]
  },
  {
   "cell_type": "code",
   "execution_count": 10,
   "metadata": {},
   "outputs": [
    {
     "data": {
      "image/png": "[encoded data removed]",
      "text/plain": [
       "<IPython.core.display.Image object>"
      ]
     },
     "execution_count": 10,
     "metadata": {},
     "output_type": "execute_result"
    }
   ],
   "source": [
    "from sklearn import tree\n",
    "\n",
    "Y = data['Class']\n",
    "X = data.drop(['Name','Class'],axis=1)\n",
    "\n",
    "clf = tree.DecisionTreeClassifier(criterion='entropy',max_depth=3)\n",
    "clf = clf.fit(X, Y)\n",
    "\n",
    "import pydotplus \n",
    "from IPython.display import Image\n",
    "\n",
    "dot_data = tree.export_graphviz(clf, feature_names=X.columns, class_names=['mammals','non-mammals'], filled=True, \n",
    "                                out_file=None) \n",
    "graph = pydotplus.graph_from_dot_data(dot_data) \n",
    "Image(graph.create_png())"
   ]
  },
  {
   "cell_type": "markdown",
   "metadata": {},
   "source": [
    "Zbudujmy teraz zbiór testowy - w bardzo syntetyczny sposób i sprawdźmy, czy na podstawie nauczenia drzewa decyzyjnego, jesteśmy w stanie sklasyfikować zwierzęta do odpowiedniej klasy."
   ]
  },
  {
   "cell_type": "code",
   "execution_count": 12,
   "metadata": {},
   "outputs": [
    {
     "data": {
      "text/html": [
       "<div>\n",
       "<style scoped>\n",
       "    .dataframe tbody tr th:only-of-type {\n",
       "        vertical-align: middle;\n",
       "    }\n",
       "\n",
       "    .dataframe tbody tr th {\n",
       "        vertical-align: top;\n",
       "    }\n",
       "\n",
       "    .dataframe thead th {\n",
       "        text-align: right;\n",
       "    }\n",
       "</style>\n",
       "<table border=\"1\" class=\"dataframe\">\n",
       "  <thead>\n",
       "    <tr style=\"text-align: right;\">\n",
       "      <th></th>\n",
       "      <th>Name</th>\n",
       "      <th>Warm-blooded</th>\n",
       "      <th>Gives Birth</th>\n",
       "      <th>Aquatic Creature</th>\n",
       "      <th>Aerial Creature</th>\n",
       "      <th>Has Legs</th>\n",
       "      <th>Hibernates</th>\n",
       "      <th>Class</th>\n",
       "    </tr>\n",
       "  </thead>\n",
       "  <tbody>\n",
       "    <tr>\n",
       "      <th>0</th>\n",
       "      <td>gila monster</td>\n",
       "      <td>0</td>\n",
       "      <td>0</td>\n",
       "      <td>0</td>\n",
       "      <td>0</td>\n",
       "      <td>1</td>\n",
       "      <td>1</td>\n",
       "      <td>non-mammals</td>\n",
       "    </tr>\n",
       "    <tr>\n",
       "      <th>1</th>\n",
       "      <td>platypus</td>\n",
       "      <td>1</td>\n",
       "      <td>0</td>\n",
       "      <td>0</td>\n",
       "      <td>0</td>\n",
       "      <td>1</td>\n",
       "      <td>1</td>\n",
       "      <td>mammals</td>\n",
       "    </tr>\n",
       "    <tr>\n",
       "      <th>2</th>\n",
       "      <td>owl</td>\n",
       "      <td>1</td>\n",
       "      <td>0</td>\n",
       "      <td>0</td>\n",
       "      <td>1</td>\n",
       "      <td>1</td>\n",
       "      <td>0</td>\n",
       "      <td>non-mammals</td>\n",
       "    </tr>\n",
       "    <tr>\n",
       "      <th>3</th>\n",
       "      <td>dolphin</td>\n",
       "      <td>1</td>\n",
       "      <td>1</td>\n",
       "      <td>1</td>\n",
       "      <td>0</td>\n",
       "      <td>0</td>\n",
       "      <td>0</td>\n",
       "      <td>mammals</td>\n",
       "    </tr>\n",
       "  </tbody>\n",
       "</table>\n",
       "</div>"
      ],
      "text/plain": [
       "           Name  Warm-blooded  Gives Birth  Aquatic Creature  Aerial Creature  \\\n",
       "0  gila monster             0            0                 0                0   \n",
       "1      platypus             1            0                 0                0   \n",
       "2           owl             1            0                 0                1   \n",
       "3       dolphin             1            1                 1                0   \n",
       "\n",
       "   Has Legs  Hibernates        Class  \n",
       "0         1           1  non-mammals  \n",
       "1         1           1      mammals  \n",
       "2         1           0  non-mammals  \n",
       "3         0           0      mammals  "
      ]
     },
     "execution_count": 12,
     "metadata": {},
     "output_type": "execute_result"
    }
   ],
   "source": [
    "testData = [['gila monster',0,0,0,0,1,1,'non-mammals'],\n",
    "           ['platypus',1,0,0,0,1,1,'mammals'],\n",
    "           ['owl',1,0,0,1,1,0,'non-mammals'],\n",
    "           ['dolphin',1,1,1,0,0,0,'mammals']]\n",
    "testData = pd.DataFrame(testData, columns=data.columns)\n",
    "testData"
   ]
  },
  {
   "cell_type": "code",
   "execution_count": 19,
   "metadata": {},
   "outputs": [
    {
     "data": {
      "text/html": [
       "<div>\n",
       "<style scoped>\n",
       "    .dataframe tbody tr th:only-of-type {\n",
       "        vertical-align: middle;\n",
       "    }\n",
       "\n",
       "    .dataframe tbody tr th {\n",
       "        vertical-align: top;\n",
       "    }\n",
       "\n",
       "    .dataframe thead th {\n",
       "        text-align: right;\n",
       "    }\n",
       "</style>\n",
       "<table border=\"1\" class=\"dataframe\">\n",
       "  <thead>\n",
       "    <tr style=\"text-align: right;\">\n",
       "      <th></th>\n",
       "      <th>Name</th>\n",
       "      <th>Przewidywana klasa</th>\n",
       "    </tr>\n",
       "  </thead>\n",
       "  <tbody>\n",
       "    <tr>\n",
       "      <th>0</th>\n",
       "      <td>gila monster</td>\n",
       "      <td>non-mammals</td>\n",
       "    </tr>\n",
       "    <tr>\n",
       "      <th>1</th>\n",
       "      <td>platypus</td>\n",
       "      <td>non-mammals</td>\n",
       "    </tr>\n",
       "    <tr>\n",
       "      <th>2</th>\n",
       "      <td>owl</td>\n",
       "      <td>non-mammals</td>\n",
       "    </tr>\n",
       "    <tr>\n",
       "      <th>3</th>\n",
       "      <td>dolphin</td>\n",
       "      <td>mammals</td>\n",
       "    </tr>\n",
       "  </tbody>\n",
       "</table>\n",
       "</div>"
      ],
      "text/plain": [
       "           Name Przewidywana klasa\n",
       "0  gila monster        non-mammals\n",
       "1      platypus        non-mammals\n",
       "2           owl        non-mammals\n",
       "3       dolphin            mammals"
      ]
     },
     "execution_count": 19,
     "metadata": {},
     "output_type": "execute_result"
    }
   ],
   "source": [
    "testX = testData.drop(['Name','Class'],axis=1)\n",
    "testY = testData['Class']\n",
    "\n",
    "predY = clf.predict(testX)\n",
    "predictions = pd.concat([testData['Name'],pd.Series(predY,name='Przewidywana klasa')], axis=1)\n",
    "predictions"
   ]
  },
  {
   "cell_type": "code",
   "execution_count": 20,
   "metadata": {},
   "outputs": [
    {
     "name": "stdout",
     "output_type": "stream",
     "text": [
      "Skuteczność przewidywania to 0.75\n"
     ]
    }
   ],
   "source": [
    "from sklearn.metrics import accuracy_score\n",
    "\n",
    "print('Skuteczność przewidywania to %.2f' % (accuracy_score(testY, predY)))"
   ]
  },
  {
   "cell_type": "markdown",
   "metadata": {},
   "source": [
    "### Problem przeszacowania modelu z wykorzystaniem drzew decyzyjnych"
   ]
  },
  {
   "cell_type": "markdown",
   "metadata": {},
   "source": [
    "Aby zilustrować ten problem stworzymy sytentyczny zbiór danych, który składać się będzie z 1500 instancji etykietowanych jako 0 i 1.\n",
    "\n",
    "Zasada budowy klas jest następująca:\n",
    "\n",
    "0. rozkład równomierny w określonym przedziale parametrów X i Y, gdzie $X,Y \\in [0, 20]$.\n",
    "1. suma trzech rozkładów Gaussa zlokalizowanych odpowiednio wokół par punktów $(X,Y)$:  $(6, 14)$, $(10, 6)$ i $(14,14)$\n",
    "\n",
    "Na sam początek - wygenerowanie danych i ich ilustracja graficzna. Oczywiście w wyniku będziemy mieli pomieszane dane o różnych klasach, generowane dwiema metodami."
   ]
  },
  {
   "cell_type": "code",
   "execution_count": 36,
   "metadata": {},
   "outputs": [
    {
     "data": {
      "text/plain": [
       "Text(0, 0.5, 'Y')"
      ]
     },
     "execution_count": 36,
     "metadata": {},
     "output_type": "execute_result"
    },
    {
     "data": {
      "image/png": "[encoded data removed]",
      "text/plain": [
       "<Figure size 432x288 with 1 Axes>"
      ]
     },
     "metadata": {
      "needs_background": "light"
     },
     "output_type": "display_data"
    }
   ],
   "source": [
    "import numpy as np\n",
    "import matplotlib.pyplot as plt\n",
    "from numpy.random import random\n",
    "\n",
    "%matplotlib inline\n",
    "\n",
    "N = 1500\n",
    "\n",
    "mean1 = [6, 14]\n",
    "mean2 = [10, 6]\n",
    "mean3 = [14, 14]\n",
    "cov = [[3.5, 0], [0, 3.5]]\n",
    "\n",
    "np.random.seed(50)\n",
    "X = np.random.multivariate_normal(mean1, cov, int(N/6))\n",
    "X = np.concatenate((X, np.random.multivariate_normal(mean2, cov, int(N/6))))\n",
    "X = np.concatenate((X, np.random.multivariate_normal(mean3, cov, int(N/6))))\n",
    "X = np.concatenate((X, 20*np.random.rand(int(N/2),2)))\n",
    "Y = np.concatenate((np.ones(int(N/2)),np.zeros(int(N/2))))\n",
    "\n",
    "plt.plot(X[:int(N/2),0],X[:int(N/2),1],'bo',X[int(N/2):,0],X[int(N/2):,1],'co')\n",
    "plt.xlabel('X')\n",
    "plt.ylabel('Y')"
   ]
  },
  {
   "cell_type": "markdown",
   "metadata": {},
   "source": [
    "Następnie podzielmy wygenerowany zbiór danych na zbiór treningowy i testowy. Weźmy 80% danych jako zbiór treningowy i 20% jako zbiór testowy. Następnie zbudujmy na podstawie zbioru treningowego drzewa decyzyjne o określonej przez nas liczbie zagłębień (lista maxdepths)."
   ]
  },
  {
   "cell_type": "code",
   "execution_count": 37,
   "metadata": {},
   "outputs": [
    {
     "data": {
      "text/plain": [
       "Text(0, 0.5, 'Precyzja')"
      ]
     },
     "execution_count": 37,
     "metadata": {},
     "output_type": "execute_result"
    },
    {
     "data": {
      "image/png": "[encoded data removed]",
      "text/plain": [
       "<Figure size 432x288 with 1 Axes>"
      ]
     },
     "metadata": {
      "needs_background": "light"
     },
     "output_type": "display_data"
    }
   ],
   "source": [
    "from sklearn.model_selection import train_test_split\n",
    "X_train, X_test, Y_train, Y_test = train_test_split(X, Y, test_size=0.8, random_state=1)\n",
    "\n",
    "from sklearn import tree\n",
    "from sklearn.metrics import accuracy_score\n",
    "\n",
    "maxdepths = [2,3,4,5,6,7,8,9,10,15,20,25,30,35,40,45,50]\n",
    "\n",
    "trainAcc = np.zeros(len(maxdepths))\n",
    "testAcc = np.zeros(len(maxdepths))\n",
    "\n",
    "index = 0\n",
    "for depth in maxdepths:\n",
    "    clf = tree.DecisionTreeClassifier(max_depth=depth)\n",
    "    clf = clf.fit(X_train, Y_train)\n",
    "    Y_predTrain = clf.predict(X_train)\n",
    "    Y_predTest = clf.predict(X_test)\n",
    "    trainAcc[index] = accuracy_score(Y_train, Y_predTrain)\n",
    "    testAcc[index] = accuracy_score(Y_test, Y_predTest)\n",
    "    index += 1\n",
    "        \n",
    "plt.plot(maxdepths,trainAcc,'ro-',maxdepths,testAcc,'bo-')\n",
    "plt.legend(['Trening','Kontrola'])\n",
    "plt.xlabel('Głębokość drzewa')\n",
    "plt.ylabel('Precyzja')"
   ]
  },
  {
   "cell_type": "markdown",
   "metadata": {},
   "source": [
    "Efekt przeuczenia jest zbliżony do sytuacji, którą poznaliśmy omawiając regresję dla zbiorów skorelowanych - jeśli przesadzimy z poziomem skomplikowania modelu, osiągniemy wysoką precyzję uczenia, ale nie będzie ona za sobą pociągała zwiększenia precyzji klasyfikacji na zbiorze kontrolnym. Nauczymy nasze drzewo świetnie klasyfikować konkretne dane ze zbioru treningowego, ale przez to stracimy na ogólności problemu i nauczone przez nas drzewo nie będzie potrafiło klasyfikować bardziej ogólnych przypadków poza zbiorem treningowym.\n",
    "\n",
    "Powyższy wykres pokazuje, z w tym przypadku optymalna liczba zagłębień to 5, a powyżej tej wartości precyzja klasyfikacji na zbiorze kontrolnym spada dość znacznie, zatrzymując się w okolicach 65%, przy 100% precyzji klasyfikacji na zbiorze treningowym. "
   ]
  },
  {
   "cell_type": "markdown",
   "metadata": {},
   "source": [
    "## KNN - K najbliższych sąsiadów"
   ]
  },
  {
   "cell_type": "markdown",
   "metadata": {},
   "source": [
    "KNN jest algorytmem regresji nieparametrycznej, używanym do prognozowania wartości zmiennej losowej oraz do klasyfikacji.\n",
    "\n",
    "Na jego potrzeby przyjmuje się następujące założenia:\n",
    "\n",
    "1. dany jest zbiór treningowy zawierający obserwacje, z których każda ma przypisany wektor zmiennych $X$ oraz wartość zmiennej  $Y$\n",
    "2. dana jest obserwacja $C$ z przypisanym wektorem wartości $X$, dla której chcemy prognozować wartość zmiennej $Y$\n",
    "\n",
    "Algorytm KNN zakłada następujące kroki:\n",
    "\n",
    "1. porównanie wartości zmiennych $X$ dla obserwacji $C$ z wartościami ze zbioru treningowego\n",
    "2. wybór ustalonej z góry liczby $k$ najbliższych do $C$ obeserwacji ze zbioru treningowego\n",
    "3. uśrednienie wartości zmiennych $Y$ dla wybranych obserwacji, co traktowane jest jako prognoza\n",
    "\n",
    "Pojęcie \"najbliższych obserwacji\" wymaga od nas wprowadzenia pewnej miary odległości, zwanej metryką. Typowe wybory metryk to:\n",
    "\n",
    "1. metryka euklidesowa, gdzie odległości definiowane są jako norma wektora łączącego dwa punkty $p$ i $q$: $d_e(p, q) = ||q -p||$\n",
    "2. metrtka Mahalanobisa, gdzie odległości definiowane są jako $d_m(p, q) = \\sqrt{(p-q)^TC^{-1}(p-q)}$, gdzie $p$ i $q$ są wektorami w przestrzeni $R^n$, a $C$ pewną dodatnio określoną, symetryczną macierzą\n",
    "3. metryka Minkowskiego, gdzie oddległości definiowane są jako $d_M(p, q) = \\left[ \\sum_{i=1}^N |p_i - q_i|^M \\right] ^{\\frac{1}{M}}$, gdzie $M$ opisuje rząd metryki (dla M=1 i M=2 mamy szczególne przypadki - pierwszy to metryka Manhattan, a drugi to metryka Euklidesowa)\n",
    "\n",
    "Dodatkowo, często wykorzystuje się modyfikację dotyczącą liczenia wartości średniej - zamiast średniej arytmetycznej stosuje się średnią ważoną, medianę lub modę.\n",
    "\n",
    "Metodę k najbliższych sąsiadów stosuje się zazwyczaj w przypadkach, gdy zależności pomiędzy zbiorem argumentów a zbiorem wartości są nieliniowe. W przypadku liniowych zależności i danych, które oczyszczono z punktów odstających spodziewać się można, że liniowe modele będą działały lepiej, cechując się mniejszym błędem klasyfikacji. Wynika to oczywiście ze specyfiki metody."
   ]
  },
  {
   "cell_type": "code",
   "execution_count": 38,
   "metadata": {},
   "outputs": [
    {
     "data": {
      "text/plain": [
       "Text(0, 0.5, 'Precyzja')"
      ]
     },
     "execution_count": 38,
     "metadata": {},
     "output_type": "execute_result"
    },
    {
     "data": {
      "image/png": "[encoded data removed]",
      "text/plain": [
       "<Figure size 432x288 with 1 Axes>"
      ]
     },
     "metadata": {
      "needs_background": "light"
     },
     "output_type": "display_data"
    }
   ],
   "source": [
    "from sklearn.neighbors import KNeighborsClassifier\n",
    "import matplotlib.pyplot as plt\n",
    "%matplotlib inline\n",
    "\n",
    "numNeighbors = [1, 5, 10, 15, 20, 25, 30]\n",
    "trainAcc = []\n",
    "testAcc = []\n",
    "\n",
    "for k in numNeighbors:\n",
    "    clf = KNeighborsClassifier(n_neighbors=k, metric='minkowski', p=2)\n",
    "    clf.fit(X_train, Y_train)\n",
    "    Y_predTrain = clf.predict(X_train)\n",
    "    Y_predTest = clf.predict(X_test)\n",
    "    trainAcc.append(accuracy_score(Y_train, Y_predTrain))\n",
    "    testAcc.append(accuracy_score(Y_test, Y_predTest))\n",
    "\n",
    "plt.plot(numNeighbors, trainAcc, 'ro-', numNeighbors, testAcc,'bo-')\n",
    "plt.legend(['Trening','Kontrola'])\n",
    "plt.xlabel('Liczba sąsiadów')\n",
    "plt.ylabel('Precyzja')"
   ]
  },
  {
   "cell_type": "markdown",
   "metadata": {},
   "source": [
    "Klasyfikacja z wykorzystaniem algorytmu KNN zaimplementowanego w pakiecie sklearn wykonana została na tych samych danych, co poprzednio, z wykorzystaniem drzew decyzyjnych. Widać tutaj, że nie występuje problem przeuczenia - oczywiście, w pewnym momencie tracimy na ogólności. Jednak wykres pokazuje znacznie lepsze efekty uczenia - pomimo, że spada precyzja treningu, co bezpośrenio pociąga za sobą wzrost błędu treningowego, to rośnie precyzja klasyfikacji na zbiorze testowym, tym samym zmniejsza się błąd klasyfikacji elementów ze zbioru kontrolnego.\n",
    "\n",
    "Sytuacja ta jest łatwa do wyjaśnienia - dane skonstruowane zosstały tak, że nie odpowioadały one prostemu modelowi liniowemu, a więc nieliniowy model KNN wypadł w tym przypadku lepiej."
   ]
  },
  {
   "cell_type": "markdown",
   "metadata": {},
   "source": [
    "## Klasyfikatory liniowe"
   ]
  },
  {
   "cell_type": "markdown",
   "metadata": {},
   "source": [
    "Zadaniem klasyfikatorów liniowych jest podział całej przestrzeni na obszary odpowiadające klasom (dwie lub więcej klas). Klasyfikatory są najprostszymi możlwiymi klasyfikatorami.Są one szeroko stosowane w przypadku, gdy celem analizy danych jest \"postawienie kreski\" pomiędzy danymi w taki sposób, aby podział jednoznacznie (oczwyiście w najlepszym przypadku) prowadził do zaliczenia danych do odpowiedniej klasy. W przypadku przestrzeni 2D sprawa jest oczywista - naszym zadaniem będzie znalezienie prostej, która jest w stanie podzielić dane na przynajmniej dwie grupy. W ogólnej sytucaji - będziemy starali się znaleźć hiperpłaszczyznę, która dzieli dane na dwie grupy. Wspomniana prosta lub w ogólności hiperpłaszczyzna będzie nazywana funkcją decyzyjną.\n",
    "\n",
    "Oczywiście w przypadku rzeczywistych danych nie zawsze możliwe jest jednoznaczne skonstruowanie takiej funkcji, a wynikowa funkcja decyzyjna będzie skonstruowana tak, aby zminimalizować liczbę popełnianych błędów.\n",
    "\n",
    "Jedną z metod klasyfikacji liniowej jest omawiana wcześniej regresja liniowa, w której zależy nam, aby zmaksymalizować odległość prostej, która przechodzi pomiędzy grupami punktów od tych punktów - dzięki temu znajdować będziemy funkcję dzielącą zbiór danych na dwa podzbiory.\n",
    "\n",
    "Na tych zajęciach poznamy dwa podstawowe klasyfikatory liniowe - regresję liniową i SVM. Inne metody omawiane będą w ramach zajęć z sieci neuronowych i uczenia maszynowego."
   ]
  },
  {
   "cell_type": "markdown",
   "metadata": {},
   "source": [
    "### Regresja logistyczna"
   ]
  },
  {
   "cell_type": "markdown",
   "metadata": {},
   "source": [
    "Regresja logistyczna stosowana jest w przypadku, gdy zmienna może przyjąć dwie wartości. Opiera się ona na charakterystycznym sposobie określania prawdopodobieństwa - szansie. Zamiast określać prawdopodobieństwo za pomocą stosunku liczby sukcesów do liczby wszytskich prób, oblicza się tutaj stosunek prawdopodobieństwa sukcesu do prawdopodobieństwa porażki. Modelem jest więc prawdopodobieństwo w następującej postaci:\n",
    "\n",
    "$$ P(y=1|x) = \\frac{1}{1+ \\exp{-a^Tx-b}} = \\sigma(a^Tx+b), $$\n",
    "\n",
    "gdzie: $a$ i $b$ są parametrami modelu, których wartości estymowane są poprzez funkcję w postaci:\n",
    "\n",
    "$$(a, b) = arg\\ min_{a,b} - \\sum_{i=1}^{N} y_i \\log[\\sigma(a^Tx_i+b)] + (1-y_i) \\log [\\sigma (-a^Tx_i-b)] + \\frac{1}{C}\\Omega([a, b]), $$\n",
    "\n",
    "gdzie: $C$ jest parametrem kontrolujuącym odwrotność złożenia modelu (małe wartości $C$ powodują silną regularyzację), a funkcja $\\Omega()$ jest parametrem regularyzacyjnym. W przypadku korzystania z biblioteki sklearn, będzie to norma $l_2$.  "
   ]
  },
  {
   "cell_type": "code",
   "execution_count": 39,
   "metadata": {},
   "outputs": [
    {
     "data": {
      "text/plain": [
       "Text(0, 0.5, 'Precyzja')"
      ]
     },
     "execution_count": 39,
     "metadata": {},
     "output_type": "execute_result"
    },
    {
     "data": {
      "image/png": "[encoded data removed]",
      "text/plain": [
       "<Figure size 432x288 with 1 Axes>"
      ]
     },
     "metadata": {
      "needs_background": "light"
     },
     "output_type": "display_data"
    }
   ],
   "source": [
    "from sklearn import linear_model\n",
    "import matplotlib.pyplot as plt\n",
    "\n",
    "C = [0.01, 0.1, 0.2, 0.5, 0.8, 1, 5, 10, 20, 50]\n",
    "LRtrainAcc = []\n",
    "LRtestAcc = []\n",
    "\n",
    "for param in C:\n",
    "    clf = linear_model.LogisticRegression(C=param)\n",
    "    clf.fit(X_train, Y_train)\n",
    "    Y_predTrain = clf.predict(X_train)\n",
    "    Y_predTest = clf.predict(X_test)\n",
    "    LRtrainAcc.append(accuracy_score(Y_train, Y_predTrain))\n",
    "    LRtestAcc.append(accuracy_score(Y_test, Y_predTest))\n",
    "    \n",
    "plt.plot(C, LRtrainAcc, 'ro-', C, LRtestAcc,'bo-')\n",
    "plt.legend(['Trening','Kontrola'])\n",
    "plt.xlabel('C')\n",
    "plt.xscale('log')\n",
    "plt.ylabel('Precyzja')"
   ]
  },
  {
   "cell_type": "markdown",
   "metadata": {},
   "source": [
    "### Liniowa maszyna wektorów nośnych (Linear SVM)"
   ]
  },
  {
   "cell_type": "markdown",
   "metadata": {},
   "source": [
    "Jest to klasyfikator liniowy, którego zadaniem jest wyznaczenie hiperpłaszczyzny, która rozdziela dane należące do dwóch klas z jak największym marginesem. \n",
    "\n",
    "Formalnie liniowy SVM polega na rozwiązaniu problemu minimalizacyjnego w następującej postaci:\n",
    "\n",
    "$$ min_{a, b, \\xi} \\frac{||a||^2}{2} + \\frac{1}{C} \\sum_{i} \\xi_{i},$$\n",
    "\n",
    "gdzie:\n",
    "\n",
    "$$ y_i \\left[ a^T\\phi(x_i) + b\\right] \\ge 1 - \\xi_i \\ \\text{oraz} \\ \\xi_{i} \\ge 0. $$"
   ]
  },
  {
   "cell_type": "code",
   "execution_count": 43,
   "metadata": {},
   "outputs": [
    {
     "data": {
      "text/plain": [
       "Text(0, 0.5, 'Precyzja')"
      ]
     },
     "execution_count": 43,
     "metadata": {},
     "output_type": "execute_result"
    },
    {
     "data": {
      "image/png": "[encoded data removed]",
      "text/plain": [
       "<Figure size 432x288 with 1 Axes>"
      ]
     },
     "metadata": {
      "needs_background": "light"
     },
     "output_type": "display_data"
    }
   ],
   "source": [
    "from sklearn.svm import SVC\n",
    "import matplotlib.pyplot as plt\n",
    "\n",
    "C = [0.01, 0.1, 0.2, 0.5, 0.8, 1, 5, 10, 20, 50]\n",
    "\n",
    "SVMtrainAcc = []\n",
    "SVMtestAcc = []\n",
    "\n",
    "for param in C:\n",
    "    clf = SVC(C=param,kernel='linear')\n",
    "    clf.fit(X_train, Y_train)\n",
    "    Y_predTrain = clf.predict(X_train)\n",
    "    Y_predTest = clf.predict(X_test)\n",
    "    SVMtrainAcc.append(accuracy_score(Y_train, Y_predTrain))\n",
    "    SVMtestAcc.append(accuracy_score(Y_test, Y_predTest))\n",
    "\n",
    "plt.plot(C, SVMtrainAcc, 'ro-', C, SVMtestAcc,'bo-')\n",
    "plt.legend(['Trening','Kontrola'])\n",
    "plt.xlabel('C')\n",
    "plt.xscale('log')\n",
    "plt.ylabel('Precyzja')"
   ]
  },
  {
   "cell_type": "markdown",
   "metadata": {},
   "source": [
    "W obu powyższych przypadkach widać na prawdę złe zachowanie klasyfikatorów liniowych. Wynika to oczywiście z charakterystyki zbioru danych, który w żaden sposób nie chce dać się klasyfikować metodami liniowymi."
   ]
  },
  {
   "cell_type": "markdown",
   "metadata": {},
   "source": [
    "## Nieliniowa maszyna wektorów nośnych"
   ]
  },
  {
   "cell_type": "markdown",
   "metadata": {},
   "source": [
    "Skoro stwierdziliśmy, że problem z klasyfikatorem leży po stronie modelu - skorzystajmy z tej samej metody, ale zamiast wykorzystywać hiperpłaszczyznę - skorzystajmy z Gaussowskich radialnych funkcji bazowych.\n",
    "\n",
    "Formalizm matematyczny jest tożsamy z tym z liniowej maszyny wektorów nośnych, ale dane klasyfikowane są z wykorzystaniem radialnych funkcji bazowych w postaci:\n",
    "\n",
    "$$ y(x) = \\sum_{i-1}^N \\omega_i \\rho(||x - x_i||),$$\n",
    "\n",
    "gdzie $\\rho(r) = \\exp{(- \\beta r^2)}$, $\\omega_i$ to współczynnik wagowy  $i-tego$ argumentu, $\\beta$ jest parametrem rozmycia pozwalającym na uniknięcie złego uwarunkowania lub osobliwości w powstałym układzie równań, a $r$ - odległości punktów środkowych funkcji aproksymacyjnych od danych. \n",
    "\n",
    "Oczywiście funcje gaussowskie to nie jedyne funkcje radialne, ale w przypadku rozwiązywania problemów klasyfikacyjnych - bardzo często stosowane."
   ]
  },
  {
   "cell_type": "code",
   "execution_count": 44,
   "metadata": {},
   "outputs": [
    {
     "data": {
      "text/plain": [
       "Text(0, 0.5, 'Precyzja')"
      ]
     },
     "execution_count": 44,
     "metadata": {},
     "output_type": "execute_result"
    },
    {
     "data": {
      "image/png": "[encoded data removed]",
      "text/plain": [
       "<Figure size 432x288 with 1 Axes>"
      ]
     },
     "metadata": {
      "needs_background": "light"
     },
     "output_type": "display_data"
    }
   ],
   "source": [
    "from sklearn.svm import SVC\n",
    "\n",
    "C = [0.01, 0.1, 0.2, 0.5, 0.8, 1, 5, 10, 20, 50]\n",
    "SVMtrainAcc = []\n",
    "SVMtestAcc = []\n",
    "\n",
    "for param in C:\n",
    "    clf = SVC(C=param,kernel='rbf',gamma='auto')\n",
    "    clf.fit(X_train, Y_train)\n",
    "    Y_predTrain = clf.predict(X_train)\n",
    "    Y_predTest = clf.predict(X_test)\n",
    "    SVMtrainAcc.append(accuracy_score(Y_train, Y_predTrain))\n",
    "    SVMtestAcc.append(accuracy_score(Y_test, Y_predTest))\n",
    "\n",
    "plt.plot(C, SVMtrainAcc, 'ro-', C, SVMtestAcc,'bo-')\n",
    "plt.legend(['Trening','Kontrola'])\n",
    "plt.xlabel('C')\n",
    "plt.xscale('log')\n",
    "plt.ylabel('Precyzja')"
   ]
  },
  {
   "cell_type": "markdown",
   "metadata": {},
   "source": [
    "Jak widać - metoda ta jest całkiem dobrym rozwiązaniem. Wynika to oczywiście z faktu, że wygenerowaliśmy nasze dane za pomocą rozkładu Gaussa i na niego nałożyliśmy póżniej część punktów z rozkładu równomiernego.\n",
    "\n",
    "Ciekawy jest również fat, że do pewnego momentu - wraz z rosnącą precyzją uczenia, rośnie również prezcyzja klasyfikacji na zbiorze kontrolnym. Przy niepoprawnym parametrze $C$ mamy do czynienia z przeszacowaniem modelu."
   ]
  },
  {
   "cell_type": "markdown",
   "metadata": {},
   "source": [
    "## Metody grupowania (ensemble methods)"
   ]
  },
  {
   "cell_type": "markdown",
   "metadata": {},
   "source": [
    "Metody grupowania to jedna z technik uczenia maszynowego, która łączy kilka modeli w jeden, w celu stworzenia optymalnego modelu predykcyjnego. Metody te można podzielić na dwe główne grupy:\n",
    "\n",
    "1. sekwencyjne - zbiory uczące generowane są sekwencyjnie i wykorzystywane są zależności pomiędzy nimi, dzięki czemu manipulując wagami można ustalić, który zbiór ma większy wpływ na proces uczenia\n",
    "2. równoległe - zbiory uczące są generowane równolegle, dzięki czemu można zmniejszyć błąd związany z uczeniem poprzez uśrednianie\n",
    "\n",
    "W ramach zajęć zobaczymy, jak działają metody: agregacja bootstrap (bagging), losowe lasy (random forests) i wzmocnienie (boosting). Oczywiście nie są to jedyne metody grupowania, ale są one najczęściej wykorzystywane w zagadnieniach związanych z klasyfikacją.\n",
    "\n",
    "Bagging wykorzystuje fakt, iż możliwe jest budowanie losowych zbiorów treningowych z wymianą z całego zbioru treningowego, dzięki czemu każdy podzbiór danych treningowych wykorzystywany jest do uczenia innego klasyfikatora tego samego typu. Klasyfikatory są następnie łączone. Nakładanie się zbyt dużych części zbiorów treningowych na siebie można zniwelować poprzez nielosowe wybieranie podzbiorów zboiru uczącego lub użycie słabych klasyfikatorów.\n",
    "\n",
    "Losowe lasy to zbiory drzew decyzyjnych, które wykorzystują w swoim działaniu mechanizm baggingu - przez to tworzone jest dużo drzew (czasami nawet setki czy tysiące) i na ich podstawie ustala się najlepszy model dla każdego zestawu danych. Mechanizm ten zakłada, że na koniec wybrany zostanie najlepszy model z ze zbioru wszystkich ustalonych, co w przypadku mnieszej wariancji pozwala na wybór bardzo optymalnego modelu.\n",
    "\n",
    "Wzmocnienie jest bardzo podobne do baggingu, ale wybór podzbiorów uczących jest stratyfikowany w celu dostarczenia optymalnych danych treningowych. Dzięki temu każda iteracja wzmocnienia tworzy trzy słabe klasyfikatory o skuteczności ok. 50%, ale za to bardzo proste, z których póżniej można zbudować optymalny klasyfikator wynikowy.\n",
    "\n",
    "Przyjmy się tym trzem metodom grupowania zaimplementowanym w bibliotekę sklearn.\n",
    "\n",
    "Ogarniczymy się do 500 klasyfikatorów dla przestrzeni 2D. Za najgłębszy poziom zagłębienia drzewa decyzyjnego przyjmiemy 10."
   ]
  },
  {
   "cell_type": "code",
   "execution_count": 48,
   "metadata": {},
   "outputs": [
    {
     "data": {
      "text/plain": [
       "Text(0.5, 1.0, 'Kontrola')"
      ]
     },
     "execution_count": 48,
     "metadata": {},
     "output_type": "execute_result"
    },
    {
     "data": {
      "image/png": "[encoded data removed]",
      "text/plain": [
       "<Figure size 864x432 with 2 Axes>"
      ]
     },
     "metadata": {
      "needs_background": "light"
     },
     "output_type": "display_data"
    }
   ],
   "source": [
    "from sklearn import ensemble\n",
    "from sklearn.tree import DecisionTreeClassifier\n",
    "\n",
    "numBaseClassifiers = 500\n",
    "maxdepth = 10\n",
    "trainAcc = []\n",
    "testAcc = []\n",
    "\n",
    "clf = ensemble.RandomForestClassifier(n_estimators=numBaseClassifiers)\n",
    "clf.fit(X_train, Y_train)\n",
    "Y_predTrain = clf.predict(X_train)\n",
    "Y_predTest = clf.predict(X_test)\n",
    "trainAcc.append(accuracy_score(Y_train, Y_predTrain))\n",
    "testAcc.append(accuracy_score(Y_test, Y_predTest))\n",
    "\n",
    "clf = ensemble.BaggingClassifier(DecisionTreeClassifier(max_depth=maxdepth),n_estimators=numBaseClassifiers)\n",
    "clf.fit(X_train, Y_train)\n",
    "Y_predTrain = clf.predict(X_train)\n",
    "Y_predTest = clf.predict(X_test)\n",
    "trainAcc.append(accuracy_score(Y_train, Y_predTrain))\n",
    "testAcc.append(accuracy_score(Y_test, Y_predTest))\n",
    "\n",
    "clf = ensemble.AdaBoostClassifier(DecisionTreeClassifier(max_depth=maxdepth),n_estimators=numBaseClassifiers)\n",
    "clf.fit(X_train, Y_train)\n",
    "Y_predTrain = clf.predict(X_train)\n",
    "Y_predTest = clf.predict(X_test)\n",
    "trainAcc.append(accuracy_score(Y_train, Y_predTrain))\n",
    "testAcc.append(accuracy_score(Y_test, Y_predTest))\n",
    "\n",
    "methods = ['Losowe lasy', 'Bagging', 'Wzmocnienie']\n",
    "fig, (ax1, ax2) = plt.subplots(1, 2, figsize=(12,6))\n",
    "ax1.bar([1.5,2.5,3.5], trainAcc)\n",
    "ax1.set_xticks([1.5,2.5,3.5])\n",
    "ax1.set_xticklabels(methods)\n",
    "ax1.set_ylabel(\"Precyzja\")\n",
    "ax1.set_title(\"Trening\")\n",
    "ax2.bar([1.5,2.5,3.5], testAcc)\n",
    "ax2.set_xticks([1.5,2.5,3.5])\n",
    "ax2.set_xticklabels(methods)\n",
    "ax2.set_ylabel(\"Precyzja\")\n",
    "ax2.set_title(\"Kontrola\")"
   ]
  },
  {
   "cell_type": "markdown",
   "metadata": {},
   "source": [
    "Jak widać - metody te, pomimo swojego skomplikowania wynikającego z wielokrotnego procesu uczenia, dają świetne rezultaty - prezyzja uczenia jest bliska jedności, a testy klasyfikacji na zbiorze kontrolnym dają rezultaty z precyzją ok. 70%. Pamiętać należy, że w tym przypadku nie zakładaliśmy żadnego modelu, jak miało to miejsce w przypadku innych klasyfikatorów. Podobne rezulaty otrzymaliśmy w przypadkach, gdzie albo założyliśmy dobry model (gaussowski) albo \"ręcznie\" kontrolowaliśmy poziom zagłębienia drzew decyzyjnych."
   ]
  },
  {
   "cell_type": "markdown",
   "metadata": {},
   "source": [
    "## Zadanie"
   ]
  },
  {
   "cell_type": "markdown",
   "metadata": {},
   "source": [
    "Przetestuj poznane metody klasyfikacji na zbiorze IRIS, który już dobrze znasz. Na samym końcu - oceń wyniki i skomentuj krótko, która metoda kalsyfikacji i dlaczego przyniosła najlepsze rezultaty.\n",
    "\n",
    "Uwaga! Nie spodziewaj się świetnych wyników - pamiętaj, że zbiór ten nie jest syntetyczny i zawiera dane, które mogą być ciężkie do klasyfikacji. Postaraj się nie usuwać danych ze zbioru, chyba, że uda Ci się odkryć, które punkty psują klasyfikację. Natomiast jeśli usuniesz dane - wyraźnie zaznacz, które punkty usunąłeś i dlaczego.\n",
    "\n"
   ]
  },
  {
   "cell_type": "code",
   "execution_count": null,
   "metadata": {},
   "outputs": [],
   "source": []
  }
 ],
 "metadata": {
  "kernelspec": {
   "display_name": "Python 3",
   "language": "python",
   "name": "python3"
  },
  "language_info": {
   "codemirror_mode": {
    "name": "ipython",
    "version": 3
   },
   "file_extension": ".py",
   "mimetype": "text/x-python",
   "name": "python",
   "nbconvert_exporter": "python",
   "pygments_lexer": "ipython3",
   "version": "3.7.6"
  }
 },
 "nbformat": 4,
 "nbformat_minor": 4
}
