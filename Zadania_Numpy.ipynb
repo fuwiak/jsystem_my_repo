{
 "cells": [
  {
   "cell_type": "code",
   "execution_count": 29,
   "metadata": {},
   "outputs": [],
   "source": [
    "import numpy as np\n",
    "m = np.array([[7, 12, 1, 14], [2, 13, 8, 11], [16, 3, 10, 5], [9, 6, 15, 4]])"
   ]
  },
  {
   "cell_type": "markdown",
   "metadata": {},
   "source": [
    "# Zadanie 1. Suma elementów macierzy"
   ]
  },
  {
   "cell_type": "code",
   "execution_count": 30,
   "metadata": {},
   "outputs": [],
   "source": [
    "def matrix_sum(A):\n",
    "    sum_of_all = sum(sum(A))\n",
    "    return sum_of_all\n"
   ]
  },
  {
   "cell_type": "code",
   "execution_count": 31,
   "metadata": {},
   "outputs": [
    {
     "data": {
      "text/plain": [
       "136"
      ]
     },
     "execution_count": 31,
     "metadata": {},
     "output_type": "execute_result"
    }
   ],
   "source": [
    "m.sum()"
   ]
  },
  {
   "cell_type": "code",
   "execution_count": 32,
   "metadata": {},
   "outputs": [
    {
     "data": {
      "text/plain": [
       "136"
      ]
     },
     "execution_count": 32,
     "metadata": {},
     "output_type": "execute_result"
    }
   ],
   "source": [
    "matrix_sum(m)"
   ]
  },
  {
   "cell_type": "markdown",
   "metadata": {},
   "source": [
    "# Zadanie 2. Suma diagonali"
   ]
  },
  {
   "cell_type": "code",
   "execution_count": 10,
   "metadata": {},
   "outputs": [
    {
     "data": {
      "text/plain": [
       "34"
      ]
     },
     "execution_count": 10,
     "metadata": {},
     "output_type": "execute_result"
    }
   ],
   "source": [
    "def sum_diag(A):\n",
    "    '''\n",
    "    Sums all elements over the matrix diagonal.\n",
    "    Inputs: numpy matrix of any shape\n",
    "    Outputs: sum of its diagonal elements\n",
    "    '''\n",
    "    height = A.shape[0]\n",
    "    res = 0\n",
    "    for h in range(height):\n",
    "        res += A[h, h]\n",
    "    return res\n",
    "\n",
    "sum_diag(m)"
   ]
  },
  {
   "cell_type": "markdown",
   "metadata": {},
   "source": [
    "# Zadanie 3. Suma antydiagonali"
   ]
  },
  {
   "cell_type": "code",
   "execution_count": 11,
   "metadata": {},
   "outputs": [
    {
     "data": {
      "text/plain": [
       "34"
      ]
     },
     "execution_count": 11,
     "metadata": {},
     "output_type": "execute_result"
    }
   ],
   "source": [
    "def sum_antidiag(A):\n",
    "    '''\n",
    "    Sums all elements over the matrix antidiagonal.\n",
    "    Inputs: numpy matrix of any shape\n",
    "    Outputs: sum of its diagonal elements\n",
    "    '''\n",
    "    height = A.shape[0]\n",
    "    res = 0\n",
    "    for h in range(height):\n",
    "        res += A[h, height - 1 - h]\n",
    "    return res\n",
    "\n",
    "sum_antidiag(m)"
   ]
  },
  {
   "cell_type": "markdown",
   "metadata": {},
   "source": [
    "# Zadanie 4. Wyznacznik macierzy "
   ]
  },
  {
   "cell_type": "code",
   "execution_count": 12,
   "metadata": {},
   "outputs": [
    {
     "name": "stdout",
     "output_type": "stream",
     "text": [
      "[[ 1  2  4]\n",
      " [ 2 -1  3]\n",
      " [ 4  0  1]]\n"
     ]
    },
    {
     "data": {
      "text/plain": [
       "35"
      ]
     },
     "execution_count": 12,
     "metadata": {},
     "output_type": "execute_result"
    }
   ],
   "source": [
    "def determine(A):\n",
    "    '''\n",
    "    Calculates the determinant of any square matrix.\n",
    "    Input: A square matrix of type numpy.ndarray\n",
    "    Output: A numeric value\n",
    "    '''\n",
    "    # Check if input is a numpy array\n",
    "    if(not isinstance(m, np.ndarray)):\n",
    "        raise ValueError('Input must be of type numpy.ndarray')  \n",
    "    # Check if matrix is square\n",
    "    if(A.shape[0] != A.shape[1] ):\n",
    "        raise ValueError('Input must be a square matrix')   \n",
    "    # Check if matrix has 2 dimensions\n",
    "    if(len(A.shape) != 2):\n",
    "        raise ValueError('The matrix must be two-dimensional') \n",
    "    \n",
    "    height  = A.shape[0]\n",
    "    # If the matrix is 2x2 retrurn its determiner\n",
    "    if(height == 2):\n",
    "        minuend = A[0, 0] * A[1, 1] \n",
    "        subtrahend = A[0, 1] * A[1, 0]\n",
    "        diff = minuend - subtrahend\n",
    "        return diff\n",
    "    # Otherwise reduce it to sum of products\n",
    "    else:        \n",
    "        # Remove the first row\n",
    "        A_short = np.delete(A, 0, 0)\n",
    "        #Initialise the sum of results\n",
    "        res = 0\n",
    "        for h in range(height):\n",
    "            # Remove the h'th column\n",
    "            to_det = np.delete(A_short, h, 1)\n",
    "            # Take the determiner of the matrix\n",
    "            det = determine(to_det)\n",
    "            prod = det * A[0, h]\n",
    "            # Add products of odd columns\n",
    "            if(h % 2 == 0):\n",
    "                res += prod\n",
    "            # Subtract products of even columns\n",
    "            else:\n",
    "                res -= prod\n",
    "        return res\n",
    "\n",
    "print(np.array([[1,2,4], [2,-1,3], [4,0,1]]))\n",
    "determine(np.array([[1,2,4], [2,-1,3], [4,0,1]]))"
   ]
  },
  {
   "cell_type": "markdown",
   "metadata": {},
   "source": [
    "# Zadanie 5. Odwrotność Macierzy"
   ]
  },
  {
   "cell_type": "markdown",
   "metadata": {},
   "source": [
    "#### Kalkulacje w etapach"
   ]
  },
  {
   "cell_type": "code",
   "execution_count": 34,
   "metadata": {},
   "outputs": [
    {
     "name": "stdout",
     "output_type": "stream",
     "text": [
      "[[ 3  0  2]\n",
      " [ 2  0 -2]\n",
      " [ 0  1  1]]\n"
     ]
    },
    {
     "data": {
      "text/plain": [
       "array([[  2.,   2.,   2.],\n",
       "       [ -2.,   3.,   3.],\n",
       "       [  0., -10.,   0.]])"
      ]
     },
     "execution_count": 34,
     "metadata": {},
     "output_type": "execute_result"
    }
   ],
   "source": [
    "# https://www.mathsisfun.com/algebra/matrix-inverse-minors-cofactors-adjugate.html\n",
    "def matrix_of_minors(A):\n",
    "    # Loop over each element in the matrix\n",
    "    length = A.shape[0]\n",
    "    # Initialise matrix of results\n",
    "    M_of_minors = np.zeros(A.shape)\n",
    "    for i in range(length):\n",
    "        A_short = np.delete(A, i, 0)\n",
    "        for j in range(length):\n",
    "            A_small = np.delete(A_short, j, 1)\n",
    "            #print(A_small)\n",
    "            #print(\"A_small is \\n\",A_small)\n",
    "            M_of_minors[i, j] = determine(A_small)\n",
    "            #print(M_of_minors[i, j])\n",
    "    return M_of_minors\n",
    "\n",
    "print(np.array([[3, 0, 2],[2, 0, -2], [0, 1, 1]]))\n",
    "matrix_of_minors(np.array([[3, 0, 2],[2, 0, -2], [0, 1, 1]]))"
   ]
  },
  {
   "cell_type": "code",
   "execution_count": 14,
   "metadata": {},
   "outputs": [],
   "source": [
    "def minors_to_cof(A):\n",
    "    length = A.shape[0]\n",
    "    sign = -1\n",
    "    for i in range(length):\n",
    "        sign *= -1\n",
    "        for j in range(length):\n",
    "            A[i, j] *= sign \n",
    "            sign *= -1\n",
    "    return A"
   ]
  },
  {
   "cell_type": "code",
   "execution_count": 15,
   "metadata": {},
   "outputs": [],
   "source": [
    "def transpose(A):\n",
    "    length = A.shape[0]\n",
    "    B = A\n",
    "    for i in range(length):\n",
    "        for j in range(length):\n",
    "            B[j, i] = A[i, j] \n",
    "    return B"
   ]
  },
  {
   "cell_type": "code",
   "execution_count": 16,
   "metadata": {},
   "outputs": [],
   "source": [
    "def invert(A):\n",
    "    mm = matrix_of_minors(A)\n",
    "    mc = minors_to_cof(mm)\n",
    "    tmc = transpose(mm)\n",
    "    inv_A = tmc/determine(A)\n",
    "    return inv_A"
   ]
  },
  {
   "cell_type": "markdown",
   "metadata": {},
   "source": [
    "#### Kalkulacje zintegrowane"
   ]
  },
  {
   "cell_type": "code",
   "execution_count": 117,
   "metadata": {},
   "outputs": [
    {
     "data": {
      "text/plain": [
       "array([[ 0.2,  0.2,  0. ],\n",
       "       [-0.2,  0.3,  1. ],\n",
       "       [ 0.2, -0.3,  0. ]])"
      ]
     },
     "execution_count": 117,
     "metadata": {},
     "output_type": "execute_result"
    }
   ],
   "source": [
    "# https://www.mathsisfun.com/algebra/matrix-inverse-minors-cofactors-adjugate.html\n",
    "def inv_matrix(A):\n",
    "    '''\n",
    "    Calculates the inverse of an invertible square matrix.\n",
    "    Input: A square matrix of type numpy.ndarray\n",
    "    Output: A numpy ndarray, which is an inverse of the matrix\n",
    "    '''\n",
    "    # Check if input is a numpy array\n",
    "    if(not isinstance(m, np.ndarray)):\n",
    "        raise ValueError('Input must be of type numpy.ndarray')  \n",
    "    # Check if matrix is square\n",
    "    if(A.shape[0] != A.shape[1] ):\n",
    "        raise ValueError('Input must be a square matrix')   \n",
    "    # Check if matrix has 2 dimensions\n",
    "    if(len(A.shape) != 2):\n",
    "        raise ValueError('The matrix must be two-dimensional')\n",
    "    #!!! We should also check if any two columns or any two rows are the same !!!\n",
    "    \n",
    "    # Loop over each element in the matrix\n",
    "    length = A.shape[0]\n",
    "    # Initialise matrix of results\n",
    "    M_adj = np.zeros(A.shape)\n",
    "    # Initialise row sign change\n",
    "    row_sign = -1\n",
    "    # Initialise vector of determinants\n",
    "    top3dets = np.zeros(length)\n",
    "    \n",
    "    # Row loop\n",
    "    for i in range(length):\n",
    "        # Remove the value's row\n",
    "        A_short = np.delete(A, i, 0)\n",
    "        # Initialise row sign for cofactors\n",
    "        row_sign *= -1\n",
    "        # Make the first value sign the same as row_sign\n",
    "        sign = row_sign\n",
    "        \n",
    "        # Column/value loop\n",
    "        for j in range(length):\n",
    "            # Remove value's column\n",
    "            A_small = np.delete(A_short, j, 1)\n",
    "            \n",
    "            # The values j and i are switched instead for step 3 (adjugate) \n",
    "            M_adj[j, i] = determine(A_small) * sign\n",
    "            # Save cofactors from the top row to calc det for entire matrix\n",
    "            if(i == 0):\n",
    "                top3dets[j] = M_adj[j, i]\n",
    "            sign *= -1\n",
    "            \n",
    "    # Calculate the entire matrix's determinant\n",
    "    big_det = sum(np.array(top3dets)* A[0, :])\n",
    "    A_inv = M_adj/big_det    \n",
    "    return A_inv\n",
    "\n",
    "\n",
    "\n",
    "B = np.array([[3, 0, 2],[2, 0, -2], [0, 1, 1]])\n",
    "inv_matrix(B)"
   ]
  }
 ],
 "metadata": {
  "kernelspec": {
   "display_name": "Python 3",
   "language": "python",
   "name": "python3"
  },
  "language_info": {
   "codemirror_mode": {
    "name": "ipython",
    "version": 3
   },
   "file_extension": ".py",
   "mimetype": "text/x-python",
   "name": "python",
   "nbconvert_exporter": "python",
   "pygments_lexer": "ipython3",
   "version": "3.7.6"
  }
 },
 "nbformat": 4,
 "nbformat_minor": 4
}
